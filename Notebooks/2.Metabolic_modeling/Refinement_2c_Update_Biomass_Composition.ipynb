{
 "cells": [
  {
   "cell_type": "code",
   "execution_count": 1,
   "metadata": {},
   "outputs": [],
   "source": [
    "%matplotlib inline\n",
    "from matplotlib import pyplot as plt\n",
    "from matplotlib import colors\n",
    "import csv\n",
    "import numpy as np\n",
    "import pandas as pd\n",
    "import cobra"
   ]
  },
  {
   "cell_type": "code",
   "execution_count": 2,
   "metadata": {},
   "outputs": [],
   "source": [
    "Annotation = pd.read_excel('../../Data/R_toruloides_Data_for_Reconstruction.xlsx',\n",
    "                          sheet_name='Annotation', index_col=0)\n",
    "Annotation.index = Annotation.index.map(str)\n",
    "Annotation = Annotation.fillna('')\n",
    "Transcriptomics = pd.read_excel('../../Data/R_toruloides_Data_for_Reconstruction.xlsx',\n",
    "                          sheet_name='Transcriptomics', header=[0,1,2,3], index_col=0)\n",
    "Transcriptomics.index = Transcriptomics.index.map(str)\n",
    "Proteomics = pd.read_excel('../../Data/R_toruloides_Data_for_Reconstruction.xlsx',\n",
    "                          sheet_name='Proteomics', header=[0,1,2], index_col=0)\n",
    "Proteomics.index = Proteomics.index.map(str)\n",
    "Fitness = pd.read_excel('../../Data/R_toruloides_Data_for_Reconstruction.xlsx',\n",
    "                          sheet_name='Fitness', index_col=0)\n",
    "Fitness.index = Fitness.index.map(str)"
   ]
  },
  {
   "cell_type": "code",
   "execution_count": 3,
   "metadata": {},
   "outputs": [],
   "source": [
    "model = cobra.io.load_json_model(\"IFO0880_GPR_2b.json\")"
   ]
  },
  {
   "cell_type": "code",
   "execution_count": 4,
   "metadata": {},
   "outputs": [],
   "source": [
    "eco = cobra.io.load_json_model('../../Data/BiGG_Models/iML1515.json')\n",
    "sce = cobra.io.load_json_model('../../Data/BiGG_Models/iMM904.json')\n",
    "hsa2 = cobra.io.load_json_model('../../Data/BiGG_Models/Recon3D.json')"
   ]
  },
  {
   "cell_type": "code",
   "execution_count": 5,
   "metadata": {
    "scrolled": true
   },
   "outputs": [
    {
     "name": "stdout",
     "output_type": "stream",
     "text": [
      "<Solution 0.137 at 0x101c041048>\n"
     ]
    }
   ],
   "source": [
    "with model:\n",
    "    sol = model.optimize()\n",
    "    print(sol)"
   ]
  },
  {
   "cell_type": "code",
   "execution_count": 6,
   "metadata": {
    "scrolled": true
   },
   "outputs": [
    {
     "name": "stdout",
     "output_type": "stream",
     "text": [
      "13BDglcn_c -1.1348\n",
      "5mthf_c -1e-06\n",
      "ala__L_c -0.4588\n",
      "amp_c -0.046\n",
      "arg__L_c -0.1607\n",
      "asn__L_c -0.1017\n",
      "asp__L_c -0.2975\n",
      "atp_c -59.276\n",
      "btn_m -1e-06\n",
      "camp_c -1e-06\n",
      "cmp_c -0.0447\n",
      "coa_c -1e-06\n",
      "cys__L_c -0.0066\n",
      "damp_c -0.0036\n",
      "dcmp_c -0.0024\n",
      "dgmp_c -0.0024\n",
      "dtmp_c -0.0036\n",
      "ergst_r -0.0007\n",
      "fad_c -1e-06\n",
      "gln__L_c -0.1054\n",
      "glu__L_c -0.3018\n",
      "gly_c -0.2904\n",
      "glycogen_c -0.5185\n",
      "gmp_c -0.046\n",
      "gthrd_c -1e-06\n",
      "h2o_c -59.276\n",
      "hemeA_m -1e-06\n",
      "his__L_c -0.0663\n",
      "ile__L_c -0.1927\n",
      "leu__L_c -0.2964\n",
      "lipopb_m -1e-06\n",
      "lys__L_c -0.2862\n",
      "mannan_r -0.8079\n",
      "met__L_c -0.0507\n",
      "mlthf_c -1e-06\n",
      "nad_c -1e-06\n",
      "nadp_c -1e-06\n",
      "pa_RT_r -6e-06\n",
      "pc_RT_r -6e-05\n",
      "pe_RT_r -4.5e-05\n",
      "phe__L_c -0.1339\n",
      "pro__L_c -0.1647\n",
      "ps_RT_r -1.7e-05\n",
      "ptd1ino_RT_r -5.3e-05\n",
      "ptrc_c -1e-06\n",
      "pydx5p_c -1e-06\n",
      "q9_m -1e-06\n",
      "ribflv_c -0.00099\n",
      "ser__L_c -0.1854\n",
      "so4_c -0.02\n",
      "spmd_c -1e-06\n",
      "thf_c -1e-06\n",
      "thmpp_c -1e-06\n",
      "thr__L_c -0.1914\n",
      "tre_c -0.0234\n",
      "triglyc_RT_r -6.6e-05\n",
      "trp__L_c -0.0284\n",
      "tyr__L_c -0.102\n",
      "ump_c -0.0599\n",
      "val__L_c -0.2646\n",
      "zymst_r -0.0015\n"
     ]
    }
   ],
   "source": [
    "for m in model.reactions.get_by_id('BIOMASS_RT').reactants:\n",
    "    print(m.id, model.reactions.get_by_id('BIOMASS_RT').get_coefficient(m.id))"
   ]
  },
  {
   "cell_type": "code",
   "execution_count": 7,
   "metadata": {},
   "outputs": [
    {
     "data": {
      "text/plain": [
       "{'EX_h_e': 1000.0,\n",
       " 'EX_h2o_e': 1000.0,\n",
       " 'EX_nh4_e': 1000.0,\n",
       " 'EX_o2_e': 2.0,\n",
       " 'EX_pi_e': 1000.0,\n",
       " 'EX_so4_e': 1000.0,\n",
       " 'EX_glc__D_e': 10.0,\n",
       " 'EX_fe2_e': 1000.0,\n",
       " 'EX_fe3_e': 1000.0}"
      ]
     },
     "execution_count": 7,
     "metadata": {},
     "output_type": "execute_result"
    }
   ],
   "source": [
    "model.medium"
   ]
  },
  {
   "cell_type": "code",
   "execution_count": 8,
   "metadata": {},
   "outputs": [
    {
     "name": "stderr",
     "output_type": "stream",
     "text": [
      "/Users/joonhoonkim/anaconda3/lib/python3.6/site-packages/deap/tools/_hypervolume/pyhv.py:33 \u001b[1;31mImportWarning\u001b[0m: Falling back to the python version of hypervolume module. Expect this to be very slow.\n"
     ]
    },
    {
     "data": {
      "text/plain": [
       "'0.1.6'"
      ]
     },
     "execution_count": 8,
     "metadata": {},
     "output_type": "execute_result"
    }
   ],
   "source": [
    "import BOFdat\n",
    "BOFdat.__version__"
   ]
  },
  {
   "cell_type": "code",
   "execution_count": 9,
   "metadata": {},
   "outputs": [],
   "source": [
    "# Set parameters based on dry weight composition\n",
    "# DNA and RNA measurement was too low possibly due to the loss during purification\n",
    "#dna_weight_fraction = 0.00190\n",
    "#rna_weight_fraction = 0.00712\n",
    "# Use S. cerevisiae numbers for now\n",
    "dna_weight_fraction = 0.004\n",
    "rna_weight_fraction = 0.063\n",
    "# Protein measurement was okay\n",
    "protein_weight_fraction = 0.396"
   ]
  },
  {
   "cell_type": "code",
   "execution_count": 10,
   "metadata": {},
   "outputs": [],
   "source": [
    "from Bio import SeqIO, SeqUtils"
   ]
  },
  {
   "cell_type": "code",
   "execution_count": 11,
   "metadata": {},
   "outputs": [],
   "source": [
    "genome = '../../Data/Rhoto_IFO0880_4/Rhoto_IFO0880_4_AssemblyScaffolds_and_Mito.fasta'\n",
    "proteome = '../../Data/Rhoto_IFO0880_4/Rhoto_IFO0880_4_GeneCatalog_proteins_20170509.aa.modified.fasta'\n",
    "genbank = '../../Data/Rfam/IFO0880_4_JGI_Rfam.gb'"
   ]
  },
  {
   "cell_type": "code",
   "execution_count": 12,
   "metadata": {
    "scrolled": true
   },
   "outputs": [
    {
     "name": "stdout",
     "output_type": "stream",
     "text": [
      "scaffold_1 2216085 61.98877750627796\n",
      "scaffold_2 1973005 62.01068927853705\n",
      "scaffold_3 1857541 61.91927930527509\n",
      "scaffold_4 641547 61.727979399794556\n",
      "scaffold_5 1666720 61.91675866372276\n",
      "scaffold_6 1546801 62.13126316830672\n",
      "scaffold_7 1390799 61.99644952290014\n",
      "scaffold_8 1362475 61.90953962458027\n",
      "scaffold_9 1352042 61.99016006899194\n",
      "scaffold_10 938190 61.820313582536585\n",
      "scaffold_11 938748 62.14308845398339\n",
      "scaffold_12 870210 61.88632628905666\n",
      "scaffold_13 784890 61.827517231714\n",
      "scaffold_14 779220 61.76599676599677\n",
      "scaffold_15 702308 61.732601650557875\n",
      "scaffold_16 478525 61.88119742960138\n",
      "scaffold_17 587612 61.96367671184387\n",
      "scaffold_18 352531 61.35318596095095\n",
      "scaffold_19 18910 49.68799576943416\n",
      "scaffold_20 28147 59.70796177212492\n",
      "scaffold_21 17271 59.730183544670254\n",
      "scaffold_22 20396 49.3184938223181\n",
      "scaffold_23 14857 49.17547284108501\n",
      "scaffold_24 22249 59.44536833116095\n",
      "scaffold_25 13957 59.86959948412983\n",
      "scaffold_26 30062 49.35466702148892\n",
      "scaffold_27 20541 49.3452120149944\n",
      "scaffold_28 17317 49.47161748570769\n",
      "scaffold_29 15828 59.988627748294164\n",
      "scaffold_30 25061 49.43138741470811\n",
      "scaffold_1_mito 110369 45.364187407696\n"
     ]
    }
   ],
   "source": [
    "for seq_record in SeqIO.parse(genome, \"fasta\"):\n",
    "    print(seq_record.id, len(seq_record), SeqUtils.GC(seq_record.seq))"
   ]
  },
  {
   "cell_type": "code",
   "execution_count": 13,
   "metadata": {},
   "outputs": [
    {
     "name": "stdout",
     "output_type": "stream",
     "text": [
      "41588428\n",
      "{'A': 0.191265392382708, 'T': 0.191265392382708, 'C': 0.308734607617292, 'G': 0.308734607617292}\n"
     ]
    }
   ],
   "source": [
    "total_bases = 0\n",
    "ratio_genome = {'A': 0, 'T': 0, 'C': 0, 'G': 0}\n",
    "for seq_record in SeqIO.parse(genome, \"fasta\"):\n",
    "    total_bases = total_bases + len(seq_record)*2\n",
    "    ratio_genome['A'] = ratio_genome['A'] + len(seq_record)*(1-SeqUtils.GC(seq_record.seq)/100)\n",
    "    ratio_genome['T'] = ratio_genome['T'] + len(seq_record)*(1-SeqUtils.GC(seq_record.seq)/100)\n",
    "    ratio_genome['C'] = ratio_genome['C'] + len(seq_record)*(SeqUtils.GC(seq_record.seq)/100)\n",
    "    ratio_genome['G'] = ratio_genome['G'] + len(seq_record)*(SeqUtils.GC(seq_record.seq)/100)\n",
    "for k, v in ratio_genome.items():\n",
    "    ratio_genome[k] = v/total_bases\n",
    "print(total_bases)\n",
    "print(ratio_genome)"
   ]
  },
  {
   "cell_type": "code",
   "execution_count": 14,
   "metadata": {},
   "outputs": [
    {
     "data": {
      "text/plain": [
       "{<Metabolite datp_c at 0x101d25b668>: -0.0024505605312780763,\n",
       " <Metabolite dttp_c at 0x101d29f550>: -0.0025234129702600924,\n",
       " <Metabolite dctp_c at 0x101d268438>: -0.004285393042825096,\n",
       " <Metabolite dgtp_c at 0x101d2956d8>: -0.003762784741852124,\n",
       " <Metabolite ppi_c at 0x101d25b0f0>: 0.013022151286215387}"
      ]
     },
     "execution_count": 14,
     "metadata": {},
     "output_type": "execute_result"
    }
   ],
   "source": [
    "dna_coefficients = BOFdat.core.dna._convert_to_coefficient(model, ratio_genome, 1000, dna_weight_fraction)\n",
    "dna_coefficients.update({model.metabolites.get_by_id('ppi_c'): -sum(dna_coefficients.values())})\n",
    "dna_coefficients"
   ]
  },
  {
   "cell_type": "code",
   "execution_count": 15,
   "metadata": {
    "scrolled": true
   },
   "outputs": [],
   "source": [
    "rRNA_seq, rRNA_locus, rRNA_number = [], [], []\n",
    "tRNA_seq, tRNA_locus, tRNA_number = [], [], []\n",
    "mRNA_seq, mRNA_locus, mRNA_fraction = [], [], []\n",
    "genome_record = SeqIO.parse(genbank, 'genbank')\n",
    "for record in genome_record:\n",
    "    for element in record.features:\n",
    "        if element.type == 'mRNA':\n",
    "            rna_seq = BOFdat.core.rna._get_RNA_sequence(element.location, element.strand, record)\n",
    "            mRNA_seq.append(rna_seq)\n",
    "            mRNA_locus.append(element.qualifiers['GeneID'][0])\n",
    "            mRNA_fraction.append(BOFdat.core.rna._get_fraction(rna_seq))\n",
    "\n",
    "        if element.type == 'tRNA':\n",
    "            rna_seq = BOFdat.core.rna._get_RNA_sequence(element.location, element.strand, record)\n",
    "            tRNA_seq.append(rna_seq)\n",
    "            tRNA_locus.append(element.qualifiers['GeneID'][0])\n",
    "            tRNA_number.append(BOFdat.core.rna._get_number(rna_seq))\n",
    "\n",
    "        if element.type == 'rRNA':\n",
    "            rna_seq = BOFdat.core.rna._get_RNA_sequence(element.location, element.strand, record)\n",
    "            rRNA_seq.append(rna_seq)\n",
    "            rRNA_locus.append(element.qualifiers['GeneID'][0])\n",
    "            rRNA_number.append(BOFdat.core.rna._get_number(rna_seq))\n",
    "tRNA_df = BOFdat.core.rna._make_number_df(tRNA_number, tRNA_locus, tRNA_seq)\n",
    "rRNA_df = BOFdat.core.rna._make_number_df(rRNA_number, rRNA_locus, rRNA_seq)\n",
    "mRNA_df = BOFdat.core.rna._make_number_df(mRNA_fraction, mRNA_locus, mRNA_seq)\n",
    "rRNA_dict = BOFdat.core.rna._get_total_fractions(rRNA_df)\n",
    "tRNA_dict = BOFdat.core.rna._get_total_fractions(tRNA_df)\n",
    "all_locus = [i for i in rRNA_df['locus']] + [i for i in tRNA_df['locus']] + [i for i in mRNA_df['locus']]\n",
    "\n",
    "temp = pd.DataFrame({'identifiers': Transcriptomics.index, 'abundances': Transcriptomics.mean(axis=1).values})\n",
    "mean_abundance = pd.merge(mRNA_df, temp, left_on='locus', right_on='identifiers')\n",
    "A_norm, U_norm, G_norm, C_norm = [], [], [], []\n",
    "for i, row in mean_abundance.iterrows():\n",
    "    # 1- Multiply fraction by abundance for each gene\n",
    "    A_mean = row['A'] * row['abundances']\n",
    "    U_mean = row['U'] * row['abundances']\n",
    "    G_mean = row['G'] * row['abundances']\n",
    "    C_mean = row['C'] * row['abundances']\n",
    "    A_norm.append(A_mean)\n",
    "    U_norm.append(U_mean)\n",
    "    G_norm.append(G_mean)\n",
    "    C_norm.append(C_mean)\n",
    "\n",
    "mRNA_dict = {'A': 0, 'U': 0, 'C': 0, 'G': 0}\n",
    "mRNA_dict['A'] = sum(A_norm) / sum(mean_abundance['abundances'])\n",
    "mRNA_dict['U'] = sum(U_norm) / sum(mean_abundance['abundances'])\n",
    "mRNA_dict['G'] = sum(G_norm) / sum(mean_abundance['abundances'])\n",
    "mRNA_dict['C'] = sum(C_norm) / sum(mean_abundance['abundances'])"
   ]
  },
  {
   "cell_type": "code",
   "execution_count": 16,
   "metadata": {
    "scrolled": true
   },
   "outputs": [],
   "source": [
    "mRNA_weight_fraction = 0.05\n",
    "tRNA_weight_fraction = 0.05\n",
    "rRNA_weight_fraction = 0.9\n",
    "RNA_coefficients = BOFdat.core.rna._total_coefficients(mRNA_dict, tRNA_dict, rRNA_dict,\n",
    "                                                       mRNA_weight_fraction, tRNA_weight_fraction, rRNA_weight_fraction)\n",
    "rna_coefficients = BOFdat.core.rna._convert_to_mmolgDW(RNA_coefficients, model, rna_weight_fraction, 1000)\n",
    "rna_coefficients.update({model.metabolites.get_by_id('ppi_c'): -sum(rna_coefficients.values())})"
   ]
  },
  {
   "cell_type": "code",
   "execution_count": 17,
   "metadata": {},
   "outputs": [
    {
     "data": {
      "text/plain": [
       "{<Metabolite atp_c at 0x101d243e48>: -0.04924654167536125,\n",
       " <Metabolite utp_c at 0x101d272ba8>: -0.051129186449930364,\n",
       " <Metabolite ctp_c at 0x101d268e80>: -0.04488125347893081,\n",
       " <Metabolite gtp_c at 0x101d251fd0>: -0.0510847002145461,\n",
       " <Metabolite ppi_c at 0x101d25b0f0>: 0.1963416818187685}"
      ]
     },
     "execution_count": 17,
     "metadata": {},
     "output_type": "execute_result"
    }
   ],
   "source": [
    "rna_coefficients"
   ]
  },
  {
   "cell_type": "code",
   "execution_count": 18,
   "metadata": {},
   "outputs": [],
   "source": [
    "seq_dict = {}\n",
    "for seq_record in SeqIO.parse(proteome, \"fasta\"):\n",
    "    seq_dict[seq_record.id] = seq_record.seq\n",
    "\n",
    "AMINO_ACIDS = ['A', 'C', 'D', 'E', 'F', 'G', 'H', 'I', 'K', 'L', 'M', 'N', 'P', 'Q', 'R', 'S', 'T', 'V', 'W','Y']\n",
    "list_of_dict = []\n",
    "for k, v in seq_dict.items():\n",
    "    list_of_occurences = []\n",
    "    for letter in AMINO_ACIDS:\n",
    "        protein_sequence = v\n",
    "        occurence_of_letter = protein_sequence.count(letter)\n",
    "        list_of_occurences.append(occurence_of_letter)\n",
    "    dict_of_occurences = dict(zip(AMINO_ACIDS, list_of_occurences))\n",
    "    dict_per_prot = {k: dict_of_occurences}\n",
    "    list_of_dict.append(dict_per_prot)"
   ]
  },
  {
   "cell_type": "code",
   "execution_count": 19,
   "metadata": {},
   "outputs": [],
   "source": [
    "normalized_dict = {'A': 0., 'C': 0., 'D': 0., 'E': 0., 'F': 0., 'G': 0., 'H': 0., 'I': 0.,\n",
    "                   'K': 0., 'L': 0., 'M': 0., 'N': 0., 'P': 0., 'Q': 0., 'R': 0., 'S': 0., 'T': 0., 'V': 0.,\n",
    "                   'W': 0., 'Y': 0.}\n",
    "\n",
    "proteomics = Proteomics.mean(axis=1)\n",
    "for d in list_of_dict:\n",
    "    coeff = proteomics.get(str(list(d.keys())[0]))\n",
    "    try:\n",
    "        coeff_number = float(coeff)\n",
    "    except:\n",
    "        coeff_number = 0.\n",
    "\n",
    "    amino_acids = list(d.values())\n",
    "    for letter in AMINO_ACIDS:\n",
    "        value = float(amino_acids[0].get(letter))\n",
    "        normalized_value = value * coeff_number\n",
    "        new_value = normalized_dict.get(letter) + normalized_value\n",
    "        normalized_dict[letter] = new_value\n",
    "\n",
    "norm_sum = BOFdat.core.protein._get_norm_sum(normalized_dict)\n",
    "ratio_dict = BOFdat.core.protein._get_ratio(normalized_dict, norm_sum, protein_weight_fraction, 1000)\n",
    "protein_coefficients = BOFdat.core.protein._convert_to_coefficient(ratio_dict, model, 1000)\n",
    "protein_coefficients.update({model.metabolites.get_by_id('h2o_c'): -sum(protein_coefficients.values())})"
   ]
  },
  {
   "cell_type": "code",
   "execution_count": 20,
   "metadata": {},
   "outputs": [
    {
     "data": {
      "text/plain": [
       "{<Metabolite ala__L_c at 0x101d25b8d0>: -0.5775740293335541,\n",
       " <Metabolite cys__L_c at 0x101d25b5f8>: -0.03426905166485587,\n",
       " <Metabolite asp__L_c at 0x101d2952e8>: -0.19729583127170278,\n",
       " <Metabolite glu__L_c at 0x101d251710>: -0.2086730002106206,\n",
       " <Metabolite phe__L_c at 0x101d289e48>: -0.09516445920036641,\n",
       " <Metabolite gly_c at 0x101d25b208>: -0.5132201286597424,\n",
       " <Metabolite his__L_c at 0x101d272860>: -0.06116738888766259,\n",
       " <Metabolite ile__L_c at 0x101d2959b0>: -0.15856899634936897,\n",
       " <Metabolite lys__L_c at 0x101d2b6748>: -0.1723344750644607,\n",
       " <Metabolite leu__L_c at 0x101d272be0>: -0.3202054914900182,\n",
       " <Metabolite met__L_c at 0x101d27e198>: -0.057050114892004275,\n",
       " <Metabolite asn__L_c at 0x101d29fb00>: -0.10797028011920144,\n",
       " <Metabolite pro__L_c at 0x101d289668>: -0.2358971378552613,\n",
       " <Metabolite gln__L_c at 0x101d25b978>: -0.11789842203179653,\n",
       " <Metabolite arg__L_c at 0x101d29f710>: -0.14667489305150036,\n",
       " <Metabolite ser__L_c at 0x101d25b278>: -0.3368703830003513,\n",
       " <Metabolite thr__L_c at 0x101d2b6518>: -0.21813036450552883,\n",
       " <Metabolite val__L_c at 0x101d2b6c18>: -0.2751676918511302,\n",
       " <Metabolite trp__L_c at 0x101d272fd0>: -0.02331876504887462,\n",
       " <Metabolite tyr__L_c at 0x101d289f98>: -0.062363441744024195,\n",
       " <Metabolite h2o_c at 0x101d251198>: 3.919814346232026}"
      ]
     },
     "execution_count": 20,
     "metadata": {},
     "output_type": "execute_result"
    }
   ],
   "source": [
    "protein_coefficients"
   ]
  },
  {
   "cell_type": "markdown",
   "metadata": {},
   "source": [
    "#### Estimate cellular lipid composition and lipid body composition from FAME data"
   ]
  },
  {
   "cell_type": "code",
   "execution_count": 8,
   "metadata": {},
   "outputs": [],
   "source": [
    "FAME = pd.read_excel('../../Data/FAME_data_M9_YPD_SD.xlsx',\n",
    "                     sheet_name='Summary', header=0, index_col=0)\n",
    "FAME = FAME.iloc[:24,]"
   ]
  },
  {
   "cell_type": "code",
   "execution_count": 9,
   "metadata": {
    "scrolled": true
   },
   "outputs": [
    {
     "data": {
      "text/html": [
       "<div>\n",
       "<style scoped>\n",
       "    .dataframe tbody tr th:only-of-type {\n",
       "        vertical-align: middle;\n",
       "    }\n",
       "\n",
       "    .dataframe tbody tr th {\n",
       "        vertical-align: top;\n",
       "    }\n",
       "\n",
       "    .dataframe thead th {\n",
       "        text-align: right;\n",
       "    }\n",
       "</style>\n",
       "<table border=\"1\" class=\"dataframe\">\n",
       "  <thead>\n",
       "    <tr style=\"text-align: right;\">\n",
       "      <th></th>\n",
       "      <th>Media</th>\n",
       "      <th>Hours</th>\n",
       "      <th>Glucose (g/L by HPLC)</th>\n",
       "      <th>Glycerol (g/L by HPLC)</th>\n",
       "      <th>Ammonia (g/L by sigma ammonia assay)</th>\n",
       "      <th>Dryweight (mg)</th>\n",
       "      <th>Total FA</th>\n",
       "      <th>C16:0 FA</th>\n",
       "      <th>C16:1 FA</th>\n",
       "      <th>C17:0 FA</th>\n",
       "      <th>C18:0 FA</th>\n",
       "      <th>C18:1 FA</th>\n",
       "      <th>C18:2 FA</th>\n",
       "      <th>C18:3 FA</th>\n",
       "      <th>C20:0 FA</th>\n",
       "      <th>C22:0 FA</th>\n",
       "      <th>C24:0 FA</th>\n",
       "    </tr>\n",
       "    <tr>\n",
       "      <th>Sample Id</th>\n",
       "      <th></th>\n",
       "      <th></th>\n",
       "      <th></th>\n",
       "      <th></th>\n",
       "      <th></th>\n",
       "      <th></th>\n",
       "      <th></th>\n",
       "      <th></th>\n",
       "      <th></th>\n",
       "      <th></th>\n",
       "      <th></th>\n",
       "      <th></th>\n",
       "      <th></th>\n",
       "      <th></th>\n",
       "      <th></th>\n",
       "      <th></th>\n",
       "      <th></th>\n",
       "    </tr>\n",
       "  </thead>\n",
       "  <tbody>\n",
       "    <tr>\n",
       "      <th>S1</th>\n",
       "      <td>M9</td>\n",
       "      <td>24.0</td>\n",
       "      <td>1.060</td>\n",
       "      <td>0.000</td>\n",
       "      <td>0.16</td>\n",
       "      <td>13.5</td>\n",
       "      <td>0.082695</td>\n",
       "      <td>0.009754</td>\n",
       "      <td>0.000260</td>\n",
       "      <td>0.000136</td>\n",
       "      <td>0.004604</td>\n",
       "      <td>0.018342</td>\n",
       "      <td>0.031280</td>\n",
       "      <td>0.016215</td>\n",
       "      <td>0.001244</td>\n",
       "      <td>0.000337</td>\n",
       "      <td>0.000523</td>\n",
       "    </tr>\n",
       "    <tr>\n",
       "      <th>S2</th>\n",
       "      <td>M9</td>\n",
       "      <td>24.0</td>\n",
       "      <td>0.860</td>\n",
       "      <td>0.000</td>\n",
       "      <td>0.44</td>\n",
       "      <td>13.6</td>\n",
       "      <td>0.080732</td>\n",
       "      <td>0.009687</td>\n",
       "      <td>0.000249</td>\n",
       "      <td>0.001741</td>\n",
       "      <td>0.004252</td>\n",
       "      <td>0.017163</td>\n",
       "      <td>0.029542</td>\n",
       "      <td>0.015575</td>\n",
       "      <td>0.001876</td>\n",
       "      <td>0.000199</td>\n",
       "      <td>0.000448</td>\n",
       "    </tr>\n",
       "    <tr>\n",
       "      <th>S3</th>\n",
       "      <td>M9</td>\n",
       "      <td>24.0</td>\n",
       "      <td>0.820</td>\n",
       "      <td>0.000</td>\n",
       "      <td>0.57</td>\n",
       "      <td>13.5</td>\n",
       "      <td>0.081300</td>\n",
       "      <td>0.009755</td>\n",
       "      <td>0.000240</td>\n",
       "      <td>0.001459</td>\n",
       "      <td>0.004409</td>\n",
       "      <td>0.018193</td>\n",
       "      <td>0.029842</td>\n",
       "      <td>0.015568</td>\n",
       "      <td>0.001188</td>\n",
       "      <td>0.000178</td>\n",
       "      <td>0.000467</td>\n",
       "    </tr>\n",
       "    <tr>\n",
       "      <th>S4</th>\n",
       "      <td>M9</td>\n",
       "      <td>48.0</td>\n",
       "      <td>0.029</td>\n",
       "      <td>0.013</td>\n",
       "      <td>0.00</td>\n",
       "      <td>41.5</td>\n",
       "      <td>0.189149</td>\n",
       "      <td>0.024810</td>\n",
       "      <td>0.000887</td>\n",
       "      <td>0.001275</td>\n",
       "      <td>0.014004</td>\n",
       "      <td>0.070544</td>\n",
       "      <td>0.063840</td>\n",
       "      <td>0.009912</td>\n",
       "      <td>0.001154</td>\n",
       "      <td>0.000475</td>\n",
       "      <td>0.002249</td>\n",
       "    </tr>\n",
       "    <tr>\n",
       "      <th>S5</th>\n",
       "      <td>M9</td>\n",
       "      <td>48.0</td>\n",
       "      <td>0.025</td>\n",
       "      <td>0.011</td>\n",
       "      <td>0.00</td>\n",
       "      <td>43.0</td>\n",
       "      <td>0.120061</td>\n",
       "      <td>0.011063</td>\n",
       "      <td>0.000269</td>\n",
       "      <td>0.001229</td>\n",
       "      <td>0.009384</td>\n",
       "      <td>0.040175</td>\n",
       "      <td>0.045921</td>\n",
       "      <td>0.008263</td>\n",
       "      <td>0.001501</td>\n",
       "      <td>0.000353</td>\n",
       "      <td>0.001902</td>\n",
       "    </tr>\n",
       "    <tr>\n",
       "      <th>S6</th>\n",
       "      <td>M9</td>\n",
       "      <td>48.0</td>\n",
       "      <td>0.017</td>\n",
       "      <td>0.012</td>\n",
       "      <td>0.00</td>\n",
       "      <td>44.0</td>\n",
       "      <td>0.129923</td>\n",
       "      <td>0.014633</td>\n",
       "      <td>0.000698</td>\n",
       "      <td>0.000972</td>\n",
       "      <td>0.010344</td>\n",
       "      <td>0.045289</td>\n",
       "      <td>0.046409</td>\n",
       "      <td>0.007929</td>\n",
       "      <td>0.001350</td>\n",
       "      <td>0.000361</td>\n",
       "      <td>0.001938</td>\n",
       "    </tr>\n",
       "    <tr>\n",
       "      <th>S7</th>\n",
       "      <td>M9</td>\n",
       "      <td>72.0</td>\n",
       "      <td>0.000</td>\n",
       "      <td>0.000</td>\n",
       "      <td>0.00</td>\n",
       "      <td>44.3</td>\n",
       "      <td>0.112920</td>\n",
       "      <td>0.011042</td>\n",
       "      <td>0.000344</td>\n",
       "      <td>0.001192</td>\n",
       "      <td>0.007493</td>\n",
       "      <td>0.035627</td>\n",
       "      <td>0.047383</td>\n",
       "      <td>0.007605</td>\n",
       "      <td>0.000710</td>\n",
       "      <td>0.000240</td>\n",
       "      <td>0.001284</td>\n",
       "    </tr>\n",
       "    <tr>\n",
       "      <th>S8</th>\n",
       "      <td>M9</td>\n",
       "      <td>72.0</td>\n",
       "      <td>0.000</td>\n",
       "      <td>0.000</td>\n",
       "      <td>0.00</td>\n",
       "      <td>43.1</td>\n",
       "      <td>0.105411</td>\n",
       "      <td>0.009884</td>\n",
       "      <td>0.000229</td>\n",
       "      <td>0.001085</td>\n",
       "      <td>0.006845</td>\n",
       "      <td>0.035149</td>\n",
       "      <td>0.042158</td>\n",
       "      <td>0.006908</td>\n",
       "      <td>0.000956</td>\n",
       "      <td>0.000222</td>\n",
       "      <td>0.001974</td>\n",
       "    </tr>\n",
       "    <tr>\n",
       "      <th>S9</th>\n",
       "      <td>M9</td>\n",
       "      <td>72.0</td>\n",
       "      <td>0.000</td>\n",
       "      <td>0.000</td>\n",
       "      <td>0.00</td>\n",
       "      <td>44.6</td>\n",
       "      <td>0.111721</td>\n",
       "      <td>0.010118</td>\n",
       "      <td>0.000219</td>\n",
       "      <td>0.001095</td>\n",
       "      <td>0.007143</td>\n",
       "      <td>0.037482</td>\n",
       "      <td>0.044463</td>\n",
       "      <td>0.007605</td>\n",
       "      <td>0.001047</td>\n",
       "      <td>0.000285</td>\n",
       "      <td>0.002265</td>\n",
       "    </tr>\n",
       "    <tr>\n",
       "      <th>S10</th>\n",
       "      <td>M9</td>\n",
       "      <td>140.0</td>\n",
       "      <td>0.000</td>\n",
       "      <td>0.000</td>\n",
       "      <td>0.00</td>\n",
       "      <td>41.0</td>\n",
       "      <td>0.106181</td>\n",
       "      <td>0.009136</td>\n",
       "      <td>0.000178</td>\n",
       "      <td>0.001135</td>\n",
       "      <td>0.004922</td>\n",
       "      <td>0.033232</td>\n",
       "      <td>0.044985</td>\n",
       "      <td>0.006854</td>\n",
       "      <td>0.001334</td>\n",
       "      <td>0.000433</td>\n",
       "      <td>0.003972</td>\n",
       "    </tr>\n",
       "    <tr>\n",
       "      <th>S11</th>\n",
       "      <td>M9</td>\n",
       "      <td>140.0</td>\n",
       "      <td>0.000</td>\n",
       "      <td>0.000</td>\n",
       "      <td>0.00</td>\n",
       "      <td>41.4</td>\n",
       "      <td>0.110584</td>\n",
       "      <td>0.009649</td>\n",
       "      <td>0.000181</td>\n",
       "      <td>0.001439</td>\n",
       "      <td>0.004824</td>\n",
       "      <td>0.033644</td>\n",
       "      <td>0.049466</td>\n",
       "      <td>0.007225</td>\n",
       "      <td>0.001490</td>\n",
       "      <td>0.000303</td>\n",
       "      <td>0.002364</td>\n",
       "    </tr>\n",
       "    <tr>\n",
       "      <th>S12</th>\n",
       "      <td>M9</td>\n",
       "      <td>140.0</td>\n",
       "      <td>0.000</td>\n",
       "      <td>0.000</td>\n",
       "      <td>0.00</td>\n",
       "      <td>39.1</td>\n",
       "      <td>0.097691</td>\n",
       "      <td>0.008885</td>\n",
       "      <td>0.000165</td>\n",
       "      <td>0.001248</td>\n",
       "      <td>0.004789</td>\n",
       "      <td>0.031660</td>\n",
       "      <td>0.041994</td>\n",
       "      <td>0.006161</td>\n",
       "      <td>0.001113</td>\n",
       "      <td>0.000257</td>\n",
       "      <td>0.001417</td>\n",
       "    </tr>\n",
       "    <tr>\n",
       "      <th>S13</th>\n",
       "      <td>YNB CN120</td>\n",
       "      <td>96.0</td>\n",
       "      <td>NaN</td>\n",
       "      <td>NaN</td>\n",
       "      <td>NaN</td>\n",
       "      <td>69.8</td>\n",
       "      <td>0.626900</td>\n",
       "      <td>0.125903</td>\n",
       "      <td>0.002836</td>\n",
       "      <td>0.001511</td>\n",
       "      <td>0.071332</td>\n",
       "      <td>0.302896</td>\n",
       "      <td>0.099157</td>\n",
       "      <td>0.012176</td>\n",
       "      <td>0.003205</td>\n",
       "      <td>0.002338</td>\n",
       "      <td>0.005545</td>\n",
       "    </tr>\n",
       "    <tr>\n",
       "      <th>S14</th>\n",
       "      <td>YNB CN120</td>\n",
       "      <td>96.0</td>\n",
       "      <td>NaN</td>\n",
       "      <td>NaN</td>\n",
       "      <td>NaN</td>\n",
       "      <td>61.9</td>\n",
       "      <td>0.562239</td>\n",
       "      <td>0.105403</td>\n",
       "      <td>0.002586</td>\n",
       "      <td>0.001512</td>\n",
       "      <td>0.068760</td>\n",
       "      <td>0.258425</td>\n",
       "      <td>0.103187</td>\n",
       "      <td>0.010918</td>\n",
       "      <td>0.002983</td>\n",
       "      <td>0.002162</td>\n",
       "      <td>0.006303</td>\n",
       "    </tr>\n",
       "    <tr>\n",
       "      <th>S15</th>\n",
       "      <td>YNB CN120</td>\n",
       "      <td>96.0</td>\n",
       "      <td>NaN</td>\n",
       "      <td>NaN</td>\n",
       "      <td>NaN</td>\n",
       "      <td>64.5</td>\n",
       "      <td>0.576212</td>\n",
       "      <td>0.110539</td>\n",
       "      <td>0.002397</td>\n",
       "      <td>0.001379</td>\n",
       "      <td>0.071093</td>\n",
       "      <td>0.268044</td>\n",
       "      <td>0.099213</td>\n",
       "      <td>0.011687</td>\n",
       "      <td>0.003116</td>\n",
       "      <td>0.002217</td>\n",
       "      <td>0.006528</td>\n",
       "    </tr>\n",
       "    <tr>\n",
       "      <th>S16</th>\n",
       "      <td>YPD</td>\n",
       "      <td>24.0</td>\n",
       "      <td>NaN</td>\n",
       "      <td>NaN</td>\n",
       "      <td>NaN</td>\n",
       "      <td>38.1</td>\n",
       "      <td>0.067117</td>\n",
       "      <td>0.010083</td>\n",
       "      <td>0.000428</td>\n",
       "      <td>0.001292</td>\n",
       "      <td>0.004396</td>\n",
       "      <td>0.033812</td>\n",
       "      <td>0.009936</td>\n",
       "      <td>0.003828</td>\n",
       "      <td>0.001355</td>\n",
       "      <td>0.000313</td>\n",
       "      <td>0.001675</td>\n",
       "    </tr>\n",
       "    <tr>\n",
       "      <th>S17</th>\n",
       "      <td>YPD</td>\n",
       "      <td>24.0</td>\n",
       "      <td>NaN</td>\n",
       "      <td>NaN</td>\n",
       "      <td>NaN</td>\n",
       "      <td>37.7</td>\n",
       "      <td>0.065388</td>\n",
       "      <td>0.009300</td>\n",
       "      <td>0.000370</td>\n",
       "      <td>0.000993</td>\n",
       "      <td>0.003845</td>\n",
       "      <td>0.034151</td>\n",
       "      <td>0.010379</td>\n",
       "      <td>0.003974</td>\n",
       "      <td>0.001085</td>\n",
       "      <td>0.000294</td>\n",
       "      <td>0.000996</td>\n",
       "    </tr>\n",
       "    <tr>\n",
       "      <th>S18</th>\n",
       "      <td>YPD</td>\n",
       "      <td>24.0</td>\n",
       "      <td>NaN</td>\n",
       "      <td>NaN</td>\n",
       "      <td>NaN</td>\n",
       "      <td>38.0</td>\n",
       "      <td>0.064597</td>\n",
       "      <td>0.009263</td>\n",
       "      <td>0.000319</td>\n",
       "      <td>0.001298</td>\n",
       "      <td>0.003821</td>\n",
       "      <td>0.033893</td>\n",
       "      <td>0.010297</td>\n",
       "      <td>0.003937</td>\n",
       "      <td>0.001172</td>\n",
       "      <td>0.000234</td>\n",
       "      <td>0.000363</td>\n",
       "    </tr>\n",
       "    <tr>\n",
       "      <th>S19</th>\n",
       "      <td>SD</td>\n",
       "      <td>24.0</td>\n",
       "      <td>NaN</td>\n",
       "      <td>NaN</td>\n",
       "      <td>NaN</td>\n",
       "      <td>18.2</td>\n",
       "      <td>0.117117</td>\n",
       "      <td>0.016753</td>\n",
       "      <td>0.000152</td>\n",
       "      <td>0.001343</td>\n",
       "      <td>0.018349</td>\n",
       "      <td>0.050623</td>\n",
       "      <td>0.018826</td>\n",
       "      <td>0.006481</td>\n",
       "      <td>0.001656</td>\n",
       "      <td>0.000612</td>\n",
       "      <td>0.002324</td>\n",
       "    </tr>\n",
       "    <tr>\n",
       "      <th>S20</th>\n",
       "      <td>SD</td>\n",
       "      <td>24.0</td>\n",
       "      <td>NaN</td>\n",
       "      <td>NaN</td>\n",
       "      <td>NaN</td>\n",
       "      <td>17.7</td>\n",
       "      <td>0.121068</td>\n",
       "      <td>0.016991</td>\n",
       "      <td>0.000201</td>\n",
       "      <td>0.001384</td>\n",
       "      <td>0.018351</td>\n",
       "      <td>0.051305</td>\n",
       "      <td>0.019422</td>\n",
       "      <td>0.006600</td>\n",
       "      <td>0.001638</td>\n",
       "      <td>0.000683</td>\n",
       "      <td>0.004494</td>\n",
       "    </tr>\n",
       "    <tr>\n",
       "      <th>S21</th>\n",
       "      <td>SD</td>\n",
       "      <td>24.0</td>\n",
       "      <td>NaN</td>\n",
       "      <td>NaN</td>\n",
       "      <td>NaN</td>\n",
       "      <td>16.6</td>\n",
       "      <td>0.119699</td>\n",
       "      <td>0.016970</td>\n",
       "      <td>0.000187</td>\n",
       "      <td>0.001430</td>\n",
       "      <td>0.019610</td>\n",
       "      <td>0.050303</td>\n",
       "      <td>0.019980</td>\n",
       "      <td>0.006566</td>\n",
       "      <td>0.001607</td>\n",
       "      <td>0.000660</td>\n",
       "      <td>0.002386</td>\n",
       "    </tr>\n",
       "    <tr>\n",
       "      <th>S22</th>\n",
       "      <td>SD</td>\n",
       "      <td>96.0</td>\n",
       "      <td>NaN</td>\n",
       "      <td>NaN</td>\n",
       "      <td>NaN</td>\n",
       "      <td>13.9</td>\n",
       "      <td>0.159894</td>\n",
       "      <td>0.020726</td>\n",
       "      <td>0.001201</td>\n",
       "      <td>0.001613</td>\n",
       "      <td>0.015207</td>\n",
       "      <td>0.074249</td>\n",
       "      <td>0.035524</td>\n",
       "      <td>0.006538</td>\n",
       "      <td>0.001609</td>\n",
       "      <td>0.000672</td>\n",
       "      <td>0.002554</td>\n",
       "    </tr>\n",
       "    <tr>\n",
       "      <th>S23</th>\n",
       "      <td>SD</td>\n",
       "      <td>96.0</td>\n",
       "      <td>NaN</td>\n",
       "      <td>NaN</td>\n",
       "      <td>NaN</td>\n",
       "      <td>13.2</td>\n",
       "      <td>0.149350</td>\n",
       "      <td>0.019200</td>\n",
       "      <td>0.001157</td>\n",
       "      <td>0.002043</td>\n",
       "      <td>0.013966</td>\n",
       "      <td>0.068419</td>\n",
       "      <td>0.033698</td>\n",
       "      <td>0.005865</td>\n",
       "      <td>0.002098</td>\n",
       "      <td>0.000575</td>\n",
       "      <td>0.002329</td>\n",
       "    </tr>\n",
       "    <tr>\n",
       "      <th>S24</th>\n",
       "      <td>SD</td>\n",
       "      <td>96.0</td>\n",
       "      <td>NaN</td>\n",
       "      <td>NaN</td>\n",
       "      <td>NaN</td>\n",
       "      <td>11.6</td>\n",
       "      <td>0.157526</td>\n",
       "      <td>0.020989</td>\n",
       "      <td>0.001186</td>\n",
       "      <td>0.002177</td>\n",
       "      <td>0.017115</td>\n",
       "      <td>0.069872</td>\n",
       "      <td>0.034092</td>\n",
       "      <td>0.006096</td>\n",
       "      <td>0.002380</td>\n",
       "      <td>0.000960</td>\n",
       "      <td>0.002659</td>\n",
       "    </tr>\n",
       "  </tbody>\n",
       "</table>\n",
       "</div>"
      ],
      "text/plain": [
       "               Media  Hours  Glucose (g/L by HPLC)  Glycerol (g/L by HPLC)  \\\n",
       "Sample Id                                                                    \n",
       "S1                M9   24.0                  1.060                   0.000   \n",
       "S2                M9   24.0                  0.860                   0.000   \n",
       "S3                M9   24.0                  0.820                   0.000   \n",
       "S4                M9   48.0                  0.029                   0.013   \n",
       "S5                M9   48.0                  0.025                   0.011   \n",
       "S6                M9   48.0                  0.017                   0.012   \n",
       "S7                M9   72.0                  0.000                   0.000   \n",
       "S8                M9   72.0                  0.000                   0.000   \n",
       "S9                M9   72.0                  0.000                   0.000   \n",
       "S10               M9  140.0                  0.000                   0.000   \n",
       "S11               M9  140.0                  0.000                   0.000   \n",
       "S12               M9  140.0                  0.000                   0.000   \n",
       "S13        YNB CN120   96.0                    NaN                     NaN   \n",
       "S14        YNB CN120   96.0                    NaN                     NaN   \n",
       "S15        YNB CN120   96.0                    NaN                     NaN   \n",
       "S16              YPD   24.0                    NaN                     NaN   \n",
       "S17              YPD   24.0                    NaN                     NaN   \n",
       "S18              YPD   24.0                    NaN                     NaN   \n",
       "S19               SD   24.0                    NaN                     NaN   \n",
       "S20               SD   24.0                    NaN                     NaN   \n",
       "S21               SD   24.0                    NaN                     NaN   \n",
       "S22               SD   96.0                    NaN                     NaN   \n",
       "S23               SD   96.0                    NaN                     NaN   \n",
       "S24               SD   96.0                    NaN                     NaN   \n",
       "\n",
       "           Ammonia (g/L by sigma ammonia assay)  Dryweight (mg)  Total FA  \\\n",
       "Sample Id                                                                   \n",
       "S1                                         0.16            13.5  0.082695   \n",
       "S2                                         0.44            13.6  0.080732   \n",
       "S3                                         0.57            13.5  0.081300   \n",
       "S4                                         0.00            41.5  0.189149   \n",
       "S5                                         0.00            43.0  0.120061   \n",
       "S6                                         0.00            44.0  0.129923   \n",
       "S7                                         0.00            44.3  0.112920   \n",
       "S8                                         0.00            43.1  0.105411   \n",
       "S9                                         0.00            44.6  0.111721   \n",
       "S10                                        0.00            41.0  0.106181   \n",
       "S11                                        0.00            41.4  0.110584   \n",
       "S12                                        0.00            39.1  0.097691   \n",
       "S13                                         NaN            69.8  0.626900   \n",
       "S14                                         NaN            61.9  0.562239   \n",
       "S15                                         NaN            64.5  0.576212   \n",
       "S16                                         NaN            38.1  0.067117   \n",
       "S17                                         NaN            37.7  0.065388   \n",
       "S18                                         NaN            38.0  0.064597   \n",
       "S19                                         NaN            18.2  0.117117   \n",
       "S20                                         NaN            17.7  0.121068   \n",
       "S21                                         NaN            16.6  0.119699   \n",
       "S22                                         NaN            13.9  0.159894   \n",
       "S23                                         NaN            13.2  0.149350   \n",
       "S24                                         NaN            11.6  0.157526   \n",
       "\n",
       "           C16:0 FA  C16:1 FA  C17:0 FA  C18:0 FA  C18:1 FA  C18:2 FA  \\\n",
       "Sample Id                                                               \n",
       "S1         0.009754  0.000260  0.000136  0.004604  0.018342  0.031280   \n",
       "S2         0.009687  0.000249  0.001741  0.004252  0.017163  0.029542   \n",
       "S3         0.009755  0.000240  0.001459  0.004409  0.018193  0.029842   \n",
       "S4         0.024810  0.000887  0.001275  0.014004  0.070544  0.063840   \n",
       "S5         0.011063  0.000269  0.001229  0.009384  0.040175  0.045921   \n",
       "S6         0.014633  0.000698  0.000972  0.010344  0.045289  0.046409   \n",
       "S7         0.011042  0.000344  0.001192  0.007493  0.035627  0.047383   \n",
       "S8         0.009884  0.000229  0.001085  0.006845  0.035149  0.042158   \n",
       "S9         0.010118  0.000219  0.001095  0.007143  0.037482  0.044463   \n",
       "S10        0.009136  0.000178  0.001135  0.004922  0.033232  0.044985   \n",
       "S11        0.009649  0.000181  0.001439  0.004824  0.033644  0.049466   \n",
       "S12        0.008885  0.000165  0.001248  0.004789  0.031660  0.041994   \n",
       "S13        0.125903  0.002836  0.001511  0.071332  0.302896  0.099157   \n",
       "S14        0.105403  0.002586  0.001512  0.068760  0.258425  0.103187   \n",
       "S15        0.110539  0.002397  0.001379  0.071093  0.268044  0.099213   \n",
       "S16        0.010083  0.000428  0.001292  0.004396  0.033812  0.009936   \n",
       "S17        0.009300  0.000370  0.000993  0.003845  0.034151  0.010379   \n",
       "S18        0.009263  0.000319  0.001298  0.003821  0.033893  0.010297   \n",
       "S19        0.016753  0.000152  0.001343  0.018349  0.050623  0.018826   \n",
       "S20        0.016991  0.000201  0.001384  0.018351  0.051305  0.019422   \n",
       "S21        0.016970  0.000187  0.001430  0.019610  0.050303  0.019980   \n",
       "S22        0.020726  0.001201  0.001613  0.015207  0.074249  0.035524   \n",
       "S23        0.019200  0.001157  0.002043  0.013966  0.068419  0.033698   \n",
       "S24        0.020989  0.001186  0.002177  0.017115  0.069872  0.034092   \n",
       "\n",
       "           C18:3 FA  C20:0 FA  C22:0 FA  C24:0 FA  \n",
       "Sample Id                                          \n",
       "S1         0.016215  0.001244  0.000337  0.000523  \n",
       "S2         0.015575  0.001876  0.000199  0.000448  \n",
       "S3         0.015568  0.001188  0.000178  0.000467  \n",
       "S4         0.009912  0.001154  0.000475  0.002249  \n",
       "S5         0.008263  0.001501  0.000353  0.001902  \n",
       "S6         0.007929  0.001350  0.000361  0.001938  \n",
       "S7         0.007605  0.000710  0.000240  0.001284  \n",
       "S8         0.006908  0.000956  0.000222  0.001974  \n",
       "S9         0.007605  0.001047  0.000285  0.002265  \n",
       "S10        0.006854  0.001334  0.000433  0.003972  \n",
       "S11        0.007225  0.001490  0.000303  0.002364  \n",
       "S12        0.006161  0.001113  0.000257  0.001417  \n",
       "S13        0.012176  0.003205  0.002338  0.005545  \n",
       "S14        0.010918  0.002983  0.002162  0.006303  \n",
       "S15        0.011687  0.003116  0.002217  0.006528  \n",
       "S16        0.003828  0.001355  0.000313  0.001675  \n",
       "S17        0.003974  0.001085  0.000294  0.000996  \n",
       "S18        0.003937  0.001172  0.000234  0.000363  \n",
       "S19        0.006481  0.001656  0.000612  0.002324  \n",
       "S20        0.006600  0.001638  0.000683  0.004494  \n",
       "S21        0.006566  0.001607  0.000660  0.002386  \n",
       "S22        0.006538  0.001609  0.000672  0.002554  \n",
       "S23        0.005865  0.002098  0.000575  0.002329  \n",
       "S24        0.006096  0.002380  0.000960  0.002659  "
      ]
     },
     "execution_count": 9,
     "metadata": {},
     "output_type": "execute_result"
    }
   ],
   "source": [
    "FAME"
   ]
  },
  {
   "cell_type": "code",
   "execution_count": 10,
   "metadata": {},
   "outputs": [],
   "source": [
    "Data = FAME\n",
    "Data.index = pd.MultiIndex.from_frame(Data[['Media','Hours']])\n",
    "Data = Data.drop(['Media','Hours'], axis=1)\n",
    "Data['Total FA (mg)'] = Data['Dryweight (mg)']*Data['Total FA']\n",
    "Data['Total FA (%)'] = 100*Data['Total FA']\n",
    "Data_mean = Data.groupby(level=['Media','Hours']).mean()\n",
    "Data_error = Data.groupby(level=['Media','Hours']).std()"
   ]
  },
  {
   "cell_type": "code",
   "execution_count": 11,
   "metadata": {},
   "outputs": [
    {
     "data": {
      "image/png": "[encoded data removed]",
      "text/plain": [
       "<Figure size 432x288 with 1 Axes>"
      ]
     },
     "metadata": {
      "needs_background": "light"
     },
     "output_type": "display_data"
    }
   ],
   "source": [
    "fig, ax = plt.subplots(figsize=(6,4))\n",
    "Data_mean.plot.bar(y=['Dryweight (mg)','Total FA (mg)'], yerr=Data_error, capsize=4, ax=ax)\n",
    "ax.set_ylabel(\"Weight (mg)\")\n",
    "ax.legend(['Cell dry weight','Total Fatty Acid'])\n",
    "plt.tight_layout()\n",
    "plt.show()"
   ]
  },
  {
   "cell_type": "code",
   "execution_count": 12,
   "metadata": {},
   "outputs": [
    {
     "data": {
      "text/plain": [
       "array(['o', 'o', 'o', 'o', 'o', 'o', 'o', 'o', 'o', 'o', 'o', 'o', 'x',\n",
       "       'x', 'x', '^', '^', '^', 'v', 'v', 'v', 'v', 'v', 'v'],\n",
       "      dtype=object)"
      ]
     },
     "execution_count": 12,
     "metadata": {},
     "output_type": "execute_result"
    }
   ],
   "source": [
    "mmap = {'M9': 'o', 'YNB CN120': 'x', 'YPD': '^', 'SD': 'v'}\n",
    "markers = FAME['Media'].apply(lambda x: mmap[x]).values\n",
    "markers"
   ]
  },
  {
   "cell_type": "code",
   "execution_count": 28,
   "metadata": {},
   "outputs": [
    {
     "data": {
      "image/png": "[encoded data removed]",
      "text/plain": [
       "<Figure size 432x288 with 1 Axes>"
      ]
     },
     "metadata": {
      "needs_background": "light"
     },
     "output_type": "display_data"
    }
   ],
   "source": [
    "fig, ax = plt.subplots(figsize=(6,4))\n",
    "for x in mmap:\n",
    "    FAME.loc[FAME['Media'] == x].plot(x='Total FA', y='Dryweight (mg)', style=mmap[x]+'k', ax=ax, label=x, )\n",
    "ax.set_xlabel(\"Total FA (%)\")\n",
    "ax.set_ylabel(\"Dryweight (mg)\")\n",
    "ax.set_xlim([0,0.7])\n",
    "ax.set_ylim([0,80])\n",
    "plt.legend()\n",
    "plt.tight_layout()\n",
    "plt.savefig('temp1.svg')\n",
    "plt.show()"
   ]
  },
  {
   "cell_type": "code",
   "execution_count": 29,
   "metadata": {},
   "outputs": [
    {
     "data": {
      "image/png": "[encoded data removed]",
      "text/plain": [
       "<Figure size 864x288 with 2 Axes>"
      ]
     },
     "metadata": {
      "needs_background": "light"
     },
     "output_type": "display_data"
    }
   ],
   "source": [
    "fig, (ax1,ax2) = plt.subplots(1, 2, figsize=(12,4))\n",
    "\n",
    "for x in mmap:\n",
    "    FAME.loc[FAME['Media'] == x].plot(x='Total FA', y=range(7,17), style=mmap[x], ax=ax1, legend=False)\n",
    "ax1.set_xlabel(\"Total FA (%)\")\n",
    "ax1.set_ylabel(\"Individual FA (%)\")\n",
    "ax1.set_xlim([0.05,0.65])\n",
    "ax1.legend(FAME.columns[7:17])\n",
    "\n",
    "for x in mmap:\n",
    "    FAME.loc[FAME['Media'] == x].plot(x='Total FA', y=range(7,17), style=mmap[x], ax=ax2, legend=False)\n",
    "ax2.set_xlabel(\"Total FA (%)\")\n",
    "ax2.set_ylabel(\"Individual FA (%)\")\n",
    "#ax2.legend(FAME.columns[7:17])\n",
    "ax2.set_xlim([0.05,0.2])\n",
    "ax2.set_ylim([-0.01,0.1])\n",
    "\n",
    "plt.tight_layout()\n",
    "plt.savefig('temp2.svg')\n",
    "plt.show()"
   ]
  },
  {
   "cell_type": "code",
   "execution_count": 17,
   "metadata": {},
   "outputs": [],
   "source": [
    "from lmfit import minimize, Parameters, fit_report"
   ]
  },
  {
   "cell_type": "code",
   "execution_count": 18,
   "metadata": {},
   "outputs": [],
   "source": [
    "def piecewise_linear(x, x0, k0, k1):\n",
    "    return np.piecewise(x, [x < x0], [lambda x: k0, lambda x: k1*(x-x0) + k0])\n",
    "\n",
    "def residual(p, x, y):\n",
    "    p = p.valuesdict()\n",
    "    result = []\n",
    "    for i in range(int((len(p)-1)/2)):\n",
    "        model = p['k1_'+str(i)]*(x-p['x0']) + p['k0_'+str(i)]\n",
    "        model[np.where(x < p['x0'])] = p['k0_'+str(i)]\n",
    "        result.append(model)\n",
    "    return np.transpose(result) - y"
   ]
  },
  {
   "cell_type": "code",
   "execution_count": 30,
   "metadata": {
    "scrolled": true
   },
   "outputs": [
    {
     "name": "stdout",
     "output_type": "stream",
     "text": [
      "True\n",
      "Fit succeeded.\n",
      "[[Fit Statistics]]\n",
      "    # fitting method   = leastsq\n",
      "    # function evals   = 20\n",
      "    # data points      = 24\n",
      "    # variables        = 3\n",
      "    chi-square         = 9.1045e-05\n",
      "    reduced chi-square = 4.3355e-06\n",
      "    Akaike info crit   = -293.573149\n",
      "    Bayesian info crit = -290.038987\n",
      "[[Variables]]\n",
      "    x0:    0.10325103 +/- 0.00457250 (4.43%) (init = 0.05)\n",
      "    k0_0:  0.00953235 +/- 7.8699e-04 (8.26%) (init = 0.01)\n",
      "    k1_0:  0.21516970 +/- 0.00285675 (1.33%) (init = 0.2)\n",
      "[[Correlations]] (unreported correlations are < 0.100)\n",
      "    C(x0, k0_0) =  0.800\n",
      "    C(x0, k1_0) =  0.311\n"
     ]
    },
    {
     "data": {
      "image/png": "[encoded data removed]",
      "text/plain": [
       "<Figure size 216x144 with 1 Axes>"
      ]
     },
     "metadata": {
      "needs_background": "light"
     },
     "output_type": "display_data"
    }
   ],
   "source": [
    "# Fitting a single FA\n",
    "x = FAME['Total FA'].values\n",
    "y = FAME.iloc[:,7:8].values\n",
    "\n",
    "params = Parameters()\n",
    "params.add('x0', value=0.05, min=0.0)\n",
    "if len(y.shape) > 1:\n",
    "    k = y.shape[1]\n",
    "else:\n",
    "    k = 1\n",
    "for i in range(k):\n",
    "    params.add('k0_'+str(i), value=0.01, min=0.0)\n",
    "for i in range(k):\n",
    "    params.add('k1_'+str(i), value=0.2, min=0.0)\n",
    "\n",
    "out = minimize(residual, params, args=(x, y))\n",
    "print(out.success)\n",
    "print(out.message)\n",
    "print(fit_report(out))\n",
    "p = list(out.params.valuesdict().values())\n",
    "\n",
    "fig, ax = plt.subplots(figsize=(3,2))\n",
    "ax.plot(x, y, \"o\")\n",
    "xd = np.arange(0.00, 0.65, 0.02)\n",
    "ax.plot(xd, piecewise_linear(xd, *p), linestyle='--', color='k')\n",
    "ax.axvline(x=p[0], color='r', linestyle=':')\n",
    "ax.axhline(y=p[1], color='b', linestyle=':')\n",
    "ax.set_xlim([0.05,0.25])\n",
    "ax.set_ylim([-0.01,0.06])\n",
    "plt.tight_layout()\n",
    "plt.savefig('temp3.svg')\n",
    "plt.show()"
   ]
  },
  {
   "cell_type": "code",
   "execution_count": 23,
   "metadata": {
    "scrolled": true
   },
   "outputs": [
    {
     "name": "stdout",
     "output_type": "stream",
     "text": [
      "True\n",
      "Fit succeeded.\n",
      "[[Fit Statistics]]\n",
      "    # fitting method   = leastsq\n",
      "    # function evals   = 344\n",
      "    # data points      = 240\n",
      "    # variables        = 21\n",
      "    chi-square         = 0.00533726\n",
      "    reduced chi-square = 2.4371e-05\n",
      "    Akaike info crit   = -2529.28373\n",
      "    Bayesian info crit = -2456.19032\n",
      "[[Variables]]\n",
      "    x0:    0.08130021 +/- 0.00453960 (5.58%) (init = 0.05)\n",
      "    k0_0:  0.00643252 +/- 0.00135346 (21.04%) (init = 0.01)\n",
      "    k0_1:  2.6997e-04 +/- 0.00116387 (431.11%) (init = 0.01)\n",
      "    k0_2:  0.00126421 +/- 0.00116374 (92.05%) (init = 0.01)\n",
      "    k0_3:  0.00520376 +/- 0.00123754 (23.78%) (init = 0.01)\n",
      "    k0_4:  0.02567388 +/- 0.00199905 (7.79%) (init = 0.01)\n",
      "    k0_5:  0.02890577 +/- 0.00125520 (4.34%) (init = 0.01)\n",
      "    k0_6:  0.00771212 +/- 0.00116396 (15.09%) (init = 0.01)\n",
      "    k0_7:  0.00128371 +/- 0.00116380 (90.66%) (init = 0.01)\n",
      "    k0_8:  2.8178e-04 +/- 0.00116380 (413.01%) (init = 0.01)\n",
      "    k0_9:  0.00162187 +/- 0.00116411 (71.78%) (init = 0.01)\n",
      "    k1_0:  0.21080342 +/- 0.00635766 (3.02%) (init = 0.2)\n",
      "    k1_1:  0.00472914 +/- 0.00631657 (133.57%) (init = 0.2)\n",
      "    k1_2:  8.4347e-04 +/- 0.00631654 (748.87%) (init = 0.2)\n",
      "    k1_3:  0.12841223 +/- 0.00633184 (4.93%) (init = 0.2)\n",
      "    k1_4:  0.49580495 +/- 0.00654074 (1.32%) (init = 0.2)\n",
      "    k1_5:  0.14348322 +/- 0.00633563 (4.42%) (init = 0.2)\n",
      "    k1_6:  0.00696206 +/- 0.00631659 (90.73%) (init = 0.2)\n",
      "    k1_7:  0.00365243 +/- 0.00631656 (172.94%) (init = 0.2)\n",
      "    k1_8:  0.00390444 +/- 0.00631657 (161.78%) (init = 0.2)\n",
      "    k1_9:  0.00905210 +/- 0.00631663 (69.78%) (init = 0.2)\n",
      "[[Correlations]] (unreported correlations are < 0.100)\n",
      "    C(x0, k0_4)   =  0.813\n",
      "    C(x0, k0_0)   =  0.511\n",
      "    C(k0_2, k1_2) = -0.500\n",
      "    C(k0_7, k1_7) = -0.500\n",
      "    C(k0_8, k1_8) = -0.500\n",
      "    C(k0_1, k1_1) = -0.500\n",
      "    C(k0_6, k1_6) = -0.500\n",
      "    C(k0_9, k1_9) = -0.500\n",
      "    C(k0_3, k1_3) = -0.446\n",
      "    C(k0_5, k1_5) = -0.433\n",
      "    C(k0_0, k0_4) =  0.415\n",
      "    C(x0, k0_5)   =  0.375\n",
      "    C(k0_0, k1_0) = -0.369\n",
      "    C(x0, k0_3)   =  0.340\n",
      "    C(k0_4, k0_5) =  0.305\n",
      "    C(k0_3, k0_4) =  0.277\n",
      "    C(x0, k1_4)   =  0.260\n",
      "    C(k0_0, k0_5) =  0.191\n",
      "    C(k0_0, k0_3) =  0.174\n",
      "    C(k0_0, k1_4) =  0.133\n",
      "    C(k0_3, k0_5) =  0.127\n",
      "    C(x0, k1_0)   =  0.114\n"
     ]
    }
   ],
   "source": [
    "# Fitting multiple FA\n",
    "x = FAME['Total FA'].values\n",
    "y = FAME.iloc[:,7:17].values\n",
    "\n",
    "params = Parameters()\n",
    "params.add('x0', value=0.05, min=0.0)\n",
    "if len(y.shape) > 1:\n",
    "    k = y.shape[1]\n",
    "else:\n",
    "    k = 1\n",
    "for i in range(k):\n",
    "    params.add('k0_'+str(i), value=0.01, min=0.0)\n",
    "for i in range(k):\n",
    "    params.add('k1_'+str(i), value=0.2, min=0.0)\n",
    "    \n",
    "out = minimize(residual, params, args=(x, y))\n",
    "print(out.success)\n",
    "print(out.message)\n",
    "print(fit_report(out))"
   ]
  },
  {
   "cell_type": "code",
   "execution_count": 24,
   "metadata": {
    "scrolled": true
   },
   "outputs": [
    {
     "data": {
      "text/html": [
       "<div>\n",
       "<style scoped>\n",
       "    .dataframe tbody tr th:only-of-type {\n",
       "        vertical-align: middle;\n",
       "    }\n",
       "\n",
       "    .dataframe tbody tr th {\n",
       "        vertical-align: top;\n",
       "    }\n",
       "\n",
       "    .dataframe thead th {\n",
       "        text-align: right;\n",
       "    }\n",
       "</style>\n",
       "<table border=\"1\" class=\"dataframe\">\n",
       "  <thead>\n",
       "    <tr style=\"text-align: right;\">\n",
       "      <th></th>\n",
       "      <th>min</th>\n",
       "      <th>cell</th>\n",
       "      <th>lipid_body</th>\n",
       "    </tr>\n",
       "  </thead>\n",
       "  <tbody>\n",
       "    <tr>\n",
       "      <th>C16:0 FA</th>\n",
       "      <td>0.0813</td>\n",
       "      <td>0.006433</td>\n",
       "      <td>0.210803</td>\n",
       "    </tr>\n",
       "    <tr>\n",
       "      <th>C16:1 FA</th>\n",
       "      <td>0.0813</td>\n",
       "      <td>0.000270</td>\n",
       "      <td>0.004729</td>\n",
       "    </tr>\n",
       "    <tr>\n",
       "      <th>C17:0 FA</th>\n",
       "      <td>0.0813</td>\n",
       "      <td>0.001264</td>\n",
       "      <td>0.000843</td>\n",
       "    </tr>\n",
       "    <tr>\n",
       "      <th>C18:0 FA</th>\n",
       "      <td>0.0813</td>\n",
       "      <td>0.005204</td>\n",
       "      <td>0.128412</td>\n",
       "    </tr>\n",
       "    <tr>\n",
       "      <th>C18:1 FA</th>\n",
       "      <td>0.0813</td>\n",
       "      <td>0.025674</td>\n",
       "      <td>0.495805</td>\n",
       "    </tr>\n",
       "    <tr>\n",
       "      <th>C18:2 FA</th>\n",
       "      <td>0.0813</td>\n",
       "      <td>0.028906</td>\n",
       "      <td>0.143483</td>\n",
       "    </tr>\n",
       "    <tr>\n",
       "      <th>C18:3 FA</th>\n",
       "      <td>0.0813</td>\n",
       "      <td>0.007712</td>\n",
       "      <td>0.006962</td>\n",
       "    </tr>\n",
       "    <tr>\n",
       "      <th>C20:0 FA</th>\n",
       "      <td>0.0813</td>\n",
       "      <td>0.001284</td>\n",
       "      <td>0.003652</td>\n",
       "    </tr>\n",
       "    <tr>\n",
       "      <th>C22:0 FA</th>\n",
       "      <td>0.0813</td>\n",
       "      <td>0.000282</td>\n",
       "      <td>0.003904</td>\n",
       "    </tr>\n",
       "    <tr>\n",
       "      <th>C24:0 FA</th>\n",
       "      <td>0.0813</td>\n",
       "      <td>0.001622</td>\n",
       "      <td>0.009052</td>\n",
       "    </tr>\n",
       "  </tbody>\n",
       "</table>\n",
       "</div>"
      ],
      "text/plain": [
       "             min      cell  lipid_body\n",
       "C16:0 FA  0.0813  0.006433    0.210803\n",
       "C16:1 FA  0.0813  0.000270    0.004729\n",
       "C17:0 FA  0.0813  0.001264    0.000843\n",
       "C18:0 FA  0.0813  0.005204    0.128412\n",
       "C18:1 FA  0.0813  0.025674    0.495805\n",
       "C18:2 FA  0.0813  0.028906    0.143483\n",
       "C18:3 FA  0.0813  0.007712    0.006962\n",
       "C20:0 FA  0.0813  0.001284    0.003652\n",
       "C22:0 FA  0.0813  0.000282    0.003904\n",
       "C24:0 FA  0.0813  0.001622    0.009052"
      ]
     },
     "execution_count": 24,
     "metadata": {},
     "output_type": "execute_result"
    }
   ],
   "source": [
    "FAME_fit = pd.DataFrame(index=FAME.columns[7:17], columns=['min','cell','lipid_body'])\n",
    "FAME_fit['min'] = list(out.params.valuesdict().values())[0]\n",
    "FAME_fit['cell'] = list(out.params.valuesdict().values())[1:1+FAME_fit.shape[0]]\n",
    "FAME_fit['lipid_body'] = list(out.params.valuesdict().values())[1+FAME_fit.shape[0]:1+2*FAME_fit.shape[0]]\n",
    "FAME_fit"
   ]
  },
  {
   "cell_type": "code",
   "execution_count": 32,
   "metadata": {},
   "outputs": [
    {
     "data": {
      "image/png": "[encoded data removed]",
      "text/plain": [
       "<Figure size 864x288 with 2 Axes>"
      ]
     },
     "metadata": {
      "needs_background": "light"
     },
     "output_type": "display_data"
    }
   ],
   "source": [
    "fig, (ax1,ax2) = plt.subplots(1, 2, figsize=(12,4))\n",
    "for x in mmap:\n",
    "    FAME.loc[FAME['Media'] == x].plot(x='Total FA', y=range(7,17), style=mmap[x], ax=ax1, legend=False)\n",
    "\n",
    "for i in range(10):\n",
    "    xd = np.arange(0.05, 0.7, 0.05)\n",
    "    p = FAME_fit.loc[FAME.columns[7:17][i]]\n",
    "    ax1.plot(xd, piecewise_linear(xd, *p), linestyle='--')\n",
    "    #ax1.axhline(y=p[1], linestyle=':')\n",
    "\n",
    "#ax1.axvline(x=p[0], linestyle='--', color='k')\n",
    "\n",
    "ax1.set_xlabel(\"Total FA (%)\")\n",
    "ax1.set_ylabel(\"Individual FA (%)\")\n",
    "#ax1.legend(FAME.columns[7:17], loc='center left', bbox_to_anchor=(1, 0.5))\n",
    "ax1.set_xlim([0.05,0.65])\n",
    "\n",
    "for x in mmap:\n",
    "    FAME.loc[FAME['Media'] == x].plot(x='Total FA', y=range(7,17), style=mmap[x], ax=ax2, legend=False)\n",
    "\n",
    "for i in range(10):\n",
    "    xd = np.arange(0.05, 0.2, 0.015)\n",
    "    p = FAME_fit.loc[FAME.columns[7:17][i]]\n",
    "    ax2.plot(xd, piecewise_linear(xd, *p), linestyle='--')\n",
    "    #ax.axhline(y=p[1], linestyle=':')\n",
    "\n",
    "ax2.axvline(x=p[0], linestyle='--', color='k')\n",
    "\n",
    "ax2.set_xlabel(\"Total FA (%)\")\n",
    "ax2.set_ylabel(\"Individual FA (%)\")\n",
    "ax2.legend(FAME.columns[7:17], loc='center left', bbox_to_anchor=(1, 0.5))\n",
    "ax2.set_xlim([0.05,0.2])\n",
    "ax2.set_ylim([-0.01,0.1])\n",
    "\n",
    "plt.tight_layout()\n",
    "plt.savefig('temp4.svg')\n",
    "plt.show()"
   ]
  },
  {
   "cell_type": "code",
   "execution_count": 34,
   "metadata": {},
   "outputs": [
    {
     "data": {
      "image/png": "[encoded data removed]",
      "text/plain": [
       "<Figure size 432x288 with 1 Axes>"
      ]
     },
     "metadata": {
      "needs_background": "light"
     },
     "output_type": "display_data"
    }
   ],
   "source": [
    "fig, ax = plt.subplots(figsize=(6,4))\n",
    "for x in mmap:\n",
    "    FAME.loc[FAME['Media'] == x].plot(x='Total FA', y=range(7,17), style=mmap[x], ax=ax, legend=False)\n",
    "\n",
    "for i in range(10):\n",
    "    xd = np.arange(0.05, 0.7, 0.05)\n",
    "    p = FAME_fit.loc[FAME.columns[7:17][i]]\n",
    "    ax.plot(xd, piecewise_linear(xd, *p), linestyle='--')\n",
    "    #ax.axhline(y=p[1], linestyle=':')\n",
    "\n",
    "ax.axvline(x=p[0], linestyle='--', color='k')\n",
    "\n",
    "ax.set_xlabel(\"Total Fatty Acid (%)\")\n",
    "ax.set_ylabel(\"Individual Fatty Acid (%)\")\n",
    "ax.legend([x.replace(' FA','') for x in FAME.columns[7:17]], loc='center left', bbox_to_anchor=(1, 0.5))\n",
    "ax.set_xlim([0.05,0.65])\n",
    "ax.set_ylim([-0.02,0.32])\n",
    "\n",
    "axins = ax.inset_axes([0.35, 0.35, 0.3, 0.6])\n",
    "\n",
    "for x in mmap:\n",
    "    FAME.loc[FAME['Media'] == x].plot(x='Total FA', y=range(7,17), style=mmap[x], ax=axins, legend=False)\n",
    "\n",
    "for i in range(10):\n",
    "    xd = np.arange(0.05, 0.15, 0.01)\n",
    "    p = FAME_fit.loc[FAME.columns[7:17][i]]\n",
    "    axins.plot(xd, piecewise_linear(xd, *p), linestyle='--')\n",
    "    #axins.axhline(y=p[1], linestyle=':')\n",
    "\n",
    "axins.axvline(x=p[0], linestyle='--', color='k')\n",
    "axins.set_xlim([0.06,0.12])\n",
    "axins.set_ylim([-0.004,0.064])\n",
    "\n",
    "axins.set_xlabel('')\n",
    "axins.set_xticklabels('')\n",
    "axins.set_yticklabels('')\n",
    "\n",
    "ax.indicate_inset_zoom(axins)\n",
    "\n",
    "plt.tight_layout()\n",
    "plt.show()"
   ]
  },
  {
   "cell_type": "code",
   "execution_count": 35,
   "metadata": {
    "scrolled": false
   },
   "outputs": [
    {
     "data": {
      "image/png": "[encoded data removed]",
      "text/plain": [
       "<Figure size 1080x432 with 10 Axes>"
      ]
     },
     "metadata": {
      "needs_background": "light"
     },
     "output_type": "display_data"
    }
   ],
   "source": [
    "fig, axes = plt.subplots(2,5, figsize=(15,6))\n",
    "for i in range(10):\n",
    "    ax = axes[i//5,i % 5]\n",
    "    for x in mmap:\n",
    "        FAME.loc[FAME['Media'] == x].plot(x='Total FA', y=range(7,17)[i], style=mmap[x], ax=ax, legend=False)\n",
    "    ax.set_xlabel(\"Total FA (%)\")\n",
    "    ax.set_ylabel(FAME.columns[7:17][i])\n",
    "\n",
    "    xd = np.arange(0, .65, 0.1)\n",
    "    p = FAME_fit.loc[FAME.columns[7:17][i]]\n",
    "    ax.plot(xd, piecewise_linear(xd, *p))\n",
    "    ax.axvline(x=p[0], color='k', linestyle='--')\n",
    "    ax.axhline(y=p[1], color='r', linestyle='--')\n",
    "    ax.set_ylim([-0.01,0.31])\n",
    "plt.tight_layout()\n",
    "plt.show()"
   ]
  },
  {
   "cell_type": "code",
   "execution_count": 36,
   "metadata": {},
   "outputs": [
    {
     "data": {
      "image/png": "[encoded data removed]",
      "text/plain": [
       "<Figure size 1080x432 with 10 Axes>"
      ]
     },
     "metadata": {
      "needs_background": "light"
     },
     "output_type": "display_data"
    }
   ],
   "source": [
    "fig, axes = plt.subplots(2,5, figsize=(15,6))\n",
    "for i in range(10):\n",
    "    ax = axes[i//5,i % 5]\n",
    "    for x in mmap:\n",
    "        FAME.loc[FAME['Media'] == x].plot(x='Total FA', y=range(7,17)[i], style=mmap[x], ax=ax, legend=False)\n",
    "    ax.set_xlabel(\"Total FA (%)\")\n",
    "    ax.set_ylabel(FAME.columns[7:17][i])\n",
    "\n",
    "    xd = np.arange(0, .21, 0.01)\n",
    "    p = FAME_fit.loc[FAME.columns[7:17][i]]\n",
    "    ax.plot(xd, piecewise_linear(xd, *p))\n",
    "    ax.axvline(x=p[0], color='k', linestyle='--')\n",
    "    ax.axhline(y=p[1], color='r', linestyle='--')\n",
    "    ax.set_xlim([0.02,0.2])\n",
    "    ax.set_ylim([-0.01,0.11])\n",
    "plt.tight_layout()\n",
    "plt.show()"
   ]
  },
  {
   "cell_type": "code",
   "execution_count": 37,
   "metadata": {},
   "outputs": [
    {
     "name": "stdout",
     "output_type": "stream",
     "text": [
      "0.07864958990370075\n"
     ]
    },
    {
     "data": {
      "text/plain": [
       "C16:0 FA     8.178712\n",
       "C16:1 FA     0.343259\n",
       "C17:0 FA     1.607389\n",
       "C18:0 FA     6.616382\n",
       "C18:1 FA    32.643378\n",
       "C18:2 FA    36.752599\n",
       "C18:3 FA     9.805668\n",
       "C20:0 FA     1.632184\n",
       "C22:0 FA     0.358276\n",
       "C24:0 FA     2.062151\n",
       "Name: cell, dtype: float64"
      ]
     },
     "execution_count": 37,
     "metadata": {},
     "output_type": "execute_result"
    }
   ],
   "source": [
    "# cell lipid composition\n",
    "print(FAME_fit['cell'].sum())\n",
    "FAME_fit['cell']/FAME_fit['cell'].sum()*100"
   ]
  },
  {
   "cell_type": "code",
   "execution_count": 38,
   "metadata": {},
   "outputs": [
    {
     "name": "stdout",
     "output_type": "stream",
     "text": [
      "1.0076474663325126\n"
     ]
    },
    {
     "data": {
      "text/plain": [
       "C16:0 FA    20.920354\n",
       "C16:1 FA     0.469324\n",
       "C17:0 FA     0.083707\n",
       "C18:0 FA    12.743766\n",
       "C18:1 FA    49.204207\n",
       "C18:2 FA    14.239426\n",
       "C18:3 FA     0.690922\n",
       "C20:0 FA     0.362471\n",
       "C22:0 FA     0.387481\n",
       "C24:0 FA     0.898340\n",
       "Name: lipid_body, dtype: float64"
      ]
     },
     "execution_count": 38,
     "metadata": {},
     "output_type": "execute_result"
    }
   ],
   "source": [
    "# lipid body composition\n",
    "print(FAME_fit['lipid_body'].sum())\n",
    "FAME_fit['lipid_body']/FAME_fit['lipid_body'].sum()*100"
   ]
  },
  {
   "cell_type": "code",
   "execution_count": 39,
   "metadata": {},
   "outputs": [
    {
     "data": {
      "image/png": "[encoded data removed]",
      "text/plain": [
       "<Figure size 576x288 with 2 Axes>"
      ]
     },
     "metadata": {},
     "output_type": "display_data"
    }
   ],
   "source": [
    "fig, axes = plt.subplots(1, 2, figsize=(8,4))\n",
    "\n",
    "Data = FAME_fit['cell']/FAME_fit['cell'].sum()\n",
    "Data.plot.pie(title='Cell Lipid', ax=axes[0])\n",
    "axes[0].set_ylabel('')\n",
    "\n",
    "Data = FAME_fit['lipid_body']/FAME_fit['lipid_body'].sum()\n",
    "Data.plot.pie(title='Lipid body', ax=axes[1])\n",
    "axes[1].set_ylabel('')\n",
    "\n",
    "#plt.tight_layout()\n",
    "plt.show()"
   ]
  },
  {
   "cell_type": "markdown",
   "metadata": {},
   "source": [
    "#### Creat new fatty acid synthesis reactions "
   ]
  },
  {
   "cell_type": "code",
   "execution_count": 40,
   "metadata": {},
   "outputs": [
    {
     "data": {
      "text/plain": [
       "'accoa_c + 9.0 h_c + 3.0 malcoa_c + 6.0 nadph_c --> 3.0 co2_c + 3.0 coa_c + 3.0 h2o_c + 6.0 nadp_c + occoa_c'"
      ]
     },
     "execution_count": 40,
     "metadata": {},
     "output_type": "execute_result"
    }
   ],
   "source": [
    "model.reactions.get_by_id('FAS80COA_L').reaction"
   ]
  },
  {
   "cell_type": "code",
   "execution_count": 41,
   "metadata": {},
   "outputs": [
    {
     "data": {
      "text/html": [
       "\n",
       "        <table>\n",
       "            <tr>\n",
       "                <td><strong>Reaction identifier</strong></td><td>FAS170COA_L</td>\n",
       "            </tr><tr>\n",
       "                <td><strong>Name</strong></td><td>Fatty acyl CoA synthase n C170CoA lumped reaction</td>\n",
       "            </tr><tr>\n",
       "                <td><strong>Memory address</strong></td>\n",
       "                <td>0x01a2aec8400</td>\n",
       "            </tr><tr>\n",
       "                <td><strong>Stoichiometry</strong></td>\n",
       "                <td>\n",
       "                    <p style='text-align:right'>21.0 h_c + 7.0 malcoa_c + 14.0 nadph_c + ppcoa_c --> 7.0 co2_c + 7.0 coa_c + 7.0 h2o_c + hpdcacoa_c + 14.0 nadp_c</p>\n",
       "                    <p style='text-align:right'>21.0 H+ + 7.0 Malonyl CoA C24H33N7O19P3S + 14.0 Nicotinamide adenine dinucleotide phosphate - reduced + Propanoyl-CoA --> 7.0 CO2 CO2 + 7.0 Coenzyme A + 7.0 H2O H2O + Heptadecanoyl coa + 14.0 Nicot...</p>\n",
       "                </td>\n",
       "            </tr><tr>\n",
       "                <td><strong>GPR</strong></td><td>8670 and 8777</td>\n",
       "            </tr><tr>\n",
       "                <td><strong>Lower bound</strong></td><td>0.0</td>\n",
       "            </tr><tr>\n",
       "                <td><strong>Upper bound</strong></td><td>1000.0</td>\n",
       "            </tr>\n",
       "        </table>\n",
       "        "
      ],
      "text/plain": [
       "<Reaction FAS170COA_L at 0x1a2aec8400>"
      ]
     },
     "execution_count": 41,
     "metadata": {},
     "output_type": "execute_result"
    }
   ],
   "source": [
    "# Add C17:0 fatty acid synthesis lumped reaction\n",
    "r = model.reactions.get_by_id('FAS80COA_L').copy()\n",
    "r.id = 'FAS170COA_L'\n",
    "r.name = 'Fatty acyl CoA synthase n C170CoA lumped reaction'\n",
    "model.add_reactions([r])\n",
    "r.add_metabolites({'accoa_c': 1.0, 'ppcoa_c': -1.0, 'h_c': -12.0, 'malcoa_c': -4.0, 'nadph_c': -8.0,\n",
    "                   'occoa_c': -1.0, 'hpdcacoa_c': 1.0, 'co2_c': 4.0, 'coa_c': 4.0, 'h2o_c': 4.0, 'nadp_c': 8.0})\n",
    "r"
   ]
  },
  {
   "cell_type": "code",
   "execution_count": 42,
   "metadata": {},
   "outputs": [
    {
     "data": {
      "text/plain": [
       "'pmtcoa_c <=> pmtcoa_r'"
      ]
     },
     "execution_count": 42,
     "metadata": {},
     "output_type": "execute_result"
    }
   ],
   "source": [
    "model.reactions.get_by_id('PMTCOAtr').reaction"
   ]
  },
  {
   "cell_type": "code",
   "execution_count": 43,
   "metadata": {},
   "outputs": [
    {
     "data": {
      "text/html": [
       "\n",
       "        <table>\n",
       "            <tr>\n",
       "                <td><strong>Reaction identifier</strong></td><td>HPDCACOAtr</td>\n",
       "            </tr><tr>\n",
       "                <td><strong>Name</strong></td><td>Heptadecanoyl-CoA transport, endoplasmic reticulum</td>\n",
       "            </tr><tr>\n",
       "                <td><strong>Memory address</strong></td>\n",
       "                <td>0x01a2c4cd908</td>\n",
       "            </tr><tr>\n",
       "                <td><strong>Stoichiometry</strong></td>\n",
       "                <td>\n",
       "                    <p style='text-align:right'>hpdcacoa_c <=> hpdcacoa_r</p>\n",
       "                    <p style='text-align:right'>Heptadecanoyl coa <=> Heptadecanoyl coa</p>\n",
       "                </td>\n",
       "            </tr><tr>\n",
       "                <td><strong>GPR</strong></td><td>10946</td>\n",
       "            </tr><tr>\n",
       "                <td><strong>Lower bound</strong></td><td>-1000.0</td>\n",
       "            </tr><tr>\n",
       "                <td><strong>Upper bound</strong></td><td>1000.0</td>\n",
       "            </tr>\n",
       "        </table>\n",
       "        "
      ],
      "text/plain": [
       "<Reaction HPDCACOAtr at 0x1a2c4cd908>"
      ]
     },
     "execution_count": 43,
     "metadata": {},
     "output_type": "execute_result"
    }
   ],
   "source": [
    "m = model.metabolites.get_by_id('hpdcacoa_c').copy()\n",
    "m.id = 'hpdcacoa_r'\n",
    "m.compartment = 'r'\n",
    "model.add_metabolites([m])\n",
    "\n",
    "r = model.reactions.get_by_id('PMTCOAtr').copy()\n",
    "r.id = 'HPDCACOAtr'\n",
    "r.name = 'Heptadecanoyl-CoA transport, endoplasmic reticulum'\n",
    "model.add_reactions([r])\n",
    "r.add_metabolites({'pmtcoa_c': 1.0, 'pmtcoa_r': -1.0, 'hpdcacoa_c': -1.0, 'hpdcacoa_r': 1.0})\n",
    "r"
   ]
  },
  {
   "cell_type": "code",
   "execution_count": 44,
   "metadata": {},
   "outputs": [
    {
     "data": {
      "text/html": [
       "\n",
       "        <table>\n",
       "            <tr>\n",
       "                <td><strong>Reaction identifier</strong></td><td>FAS260COAer</td>\n",
       "            </tr><tr>\n",
       "                <td><strong>Name</strong></td><td>Fatty acid synthase  n C260 </td>\n",
       "            </tr><tr>\n",
       "                <td><strong>Memory address</strong></td>\n",
       "                <td>0x010204426a0</td>\n",
       "            </tr><tr>\n",
       "                <td><strong>Stoichiometry</strong></td>\n",
       "                <td>\n",
       "                    <p style='text-align:right'>3.0 h_r + malcoa_r + 2.0 nadph_r + ttccoa_r --> co2_r + coa_r + h2o_r + hexccoa_r + 2.0 nadp_r</p>\n",
       "                    <p style='text-align:right'>3.0 H+ + Malonyl CoA C24H33N7O19P3S + 2.0 NADPH + Tetracosanoyl CoA   n C240CoA  C45H78N7O17P3S --> CO2 + Coenzyme A + H2O + Hexacosanoyl CoA  n C260CoA  C47H82N7O17P3S + 2.0 NADP+</p>\n",
       "                </td>\n",
       "            </tr><tr>\n",
       "                <td><strong>GPR</strong></td><td>10677 and 11343 and 16241 and 16695</td>\n",
       "            </tr><tr>\n",
       "                <td><strong>Lower bound</strong></td><td>0.0</td>\n",
       "            </tr><tr>\n",
       "                <td><strong>Upper bound</strong></td><td>1000.0</td>\n",
       "            </tr>\n",
       "        </table>\n",
       "        "
      ],
      "text/plain": [
       "<Reaction FAS260COAer at 0x10204426a0>"
      ]
     },
     "execution_count": 44,
     "metadata": {},
     "output_type": "execute_result"
    }
   ],
   "source": [
    "model.reactions.get_by_id('FAS260COAer')"
   ]
  },
  {
   "cell_type": "code",
   "execution_count": 45,
   "metadata": {},
   "outputs": [],
   "source": [
    "# Add C20:0 fatty acid synthesis reaction from C18:0\n",
    "m = model.metabolites.get_by_id('arachcoa_c').copy()\n",
    "m.id = 'arachcoa_r'\n",
    "m.compartment = 'r'\n",
    "model.add_metabolites([m])\n",
    "r = model.reactions.get_by_id('FAS260COAer').copy()\n",
    "r.id = 'FAS200COAer'\n",
    "r.name = 'Fatty acyl CoA synthase n C200CoA'\n",
    "r.gene_reaction_rule = '(10677 and 11343 and 16241 and 16695) or (10677 and 16241 and 16655 and 16695)'\n",
    "model.add_reactions([r])\n",
    "r.add_metabolites({'ttccoa_r': 1.0, 'stcoa_r': -1.0, 'hexccoa_r': -1.0, 'arachcoa_r': 1.0})\n",
    "\n",
    "m = hsa2.metabolites.get_by_id('docoscoa_r').copy()\n",
    "model.add_metabolites([m])\n",
    "r = model.reactions.get_by_id('FAS260COAer').copy()\n",
    "r.id = 'FAS220COAer'\n",
    "r.name = 'Fatty acyl CoA synthase n C220CoA'\n",
    "r.gene_reaction_rule = '(10677 and 11343 and 16241 and 16695) or (10677 and 16241 and 16655 and 16695)'\n",
    "model.add_reactions([r])\n",
    "r.add_metabolites({'ttccoa_r': 1.0, 'arachcoa_r': -1.0, 'hexccoa_r': -1.0, 'docoscoa_r': 1.0})"
   ]
  },
  {
   "cell_type": "code",
   "execution_count": 46,
   "metadata": {},
   "outputs": [
    {
     "data": {
      "text/html": [
       "\n",
       "        <table>\n",
       "            <tr>\n",
       "                <td><strong>Reaction identifier</strong></td><td>FAS240COAer</td>\n",
       "            </tr><tr>\n",
       "                <td><strong>Name</strong></td><td>Fatty acid synthase  n C240   lumped reaction</td>\n",
       "            </tr><tr>\n",
       "                <td><strong>Memory address</strong></td>\n",
       "                <td>0x010204427b8</td>\n",
       "            </tr><tr>\n",
       "                <td><strong>Stoichiometry</strong></td>\n",
       "                <td>\n",
       "                    <p style='text-align:right'>9.0 h_r + 3.0 malcoa_r + 6.0 nadph_r + stcoa_r --> 3.0 co2_r + 3.0 coa_r + 3.0 h2o_r + 6.0 nadp_r + ttccoa_r</p>\n",
       "                    <p style='text-align:right'>9.0 H+ + 3.0 Malonyl CoA C24H33N7O19P3S + 6.0 NADPH + Stearoyl-CoA --> 3.0 CO2 + 3.0 Coenzyme A + 3.0 H2O + 6.0 NADP+ + Tetracosanoyl CoA   n C240CoA  C45H78N7O17P3S</p>\n",
       "                </td>\n",
       "            </tr><tr>\n",
       "                <td><strong>GPR</strong></td><td>(10677 and 11343 and 16241 and 16695) or (10677 and 16241 and 16655 and 16695)</td>\n",
       "            </tr><tr>\n",
       "                <td><strong>Lower bound</strong></td><td>0.0</td>\n",
       "            </tr><tr>\n",
       "                <td><strong>Upper bound</strong></td><td>1000.0</td>\n",
       "            </tr>\n",
       "        </table>\n",
       "        "
      ],
      "text/plain": [
       "<Reaction FAS240COAer at 0x10204427b8>"
      ]
     },
     "execution_count": 46,
     "metadata": {},
     "output_type": "execute_result"
    }
   ],
   "source": [
    "model.reactions.get_by_id('FAS240COAer')"
   ]
  },
  {
   "cell_type": "code",
   "execution_count": 47,
   "metadata": {},
   "outputs": [
    {
     "data": {
      "text/html": [
       "\n",
       "        <table>\n",
       "            <tr>\n",
       "                <td><strong>Reaction identifier</strong></td><td>FAS240COAer</td>\n",
       "            </tr><tr>\n",
       "                <td><strong>Name</strong></td><td>Fatty acyl CoA synthase n C240CoA</td>\n",
       "            </tr><tr>\n",
       "                <td><strong>Memory address</strong></td>\n",
       "                <td>0x010204427b8</td>\n",
       "            </tr><tr>\n",
       "                <td><strong>Stoichiometry</strong></td>\n",
       "                <td>\n",
       "                    <p style='text-align:right'>docoscoa_r + 3.0 h_r + malcoa_r + 2.0 nadph_r --> co2_r + coa_r + h2o_r + 2.0 nadp_r + ttccoa_r</p>\n",
       "                    <p style='text-align:right'>Docosanoyl Coenzyme A + 3.0 H+ + Malonyl CoA C24H33N7O19P3S + 2.0 NADPH --> CO2 + Coenzyme A + H2O + 2.0 NADP+ + Tetracosanoyl CoA   n C240CoA  C45H78N7O17P3S</p>\n",
       "                </td>\n",
       "            </tr><tr>\n",
       "                <td><strong>GPR</strong></td><td>(10677 and 11343 and 16241 and 16695) or (10677 and 16241 and 16655 and 16695)</td>\n",
       "            </tr><tr>\n",
       "                <td><strong>Lower bound</strong></td><td>0.0</td>\n",
       "            </tr><tr>\n",
       "                <td><strong>Upper bound</strong></td><td>1000.0</td>\n",
       "            </tr>\n",
       "        </table>\n",
       "        "
      ],
      "text/plain": [
       "<Reaction FAS240COAer at 0x10204427b8>"
      ]
     },
     "execution_count": 47,
     "metadata": {},
     "output_type": "execute_result"
    }
   ],
   "source": [
    "#change FAS240 lumped to FAS240 from 22 to 24\n",
    "hsa2.metabolites.get_by_id('docoscoa_r')\n",
    "r = model.reactions.get_by_id('FAS240COAer')\n",
    "r.name = 'Fatty acyl CoA synthase n C240CoA'\n",
    "r.add_metabolites({'stcoa_r': 1.0, 'docoscoa_r': -1.0, 'h_r': 6.0, 'malcoa_r': 2.0, 'nadph_r': 4.0,\n",
    "                   'co2_r': -2.0, 'coa_r': -2.0, 'h2o_r': -2.0, 'nadp_r': -4.0})\n",
    "r"
   ]
  },
  {
   "cell_type": "code",
   "execution_count": 48,
   "metadata": {},
   "outputs": [
    {
     "data": {
      "text/html": [
       "\n",
       "        <table>\n",
       "            <tr>\n",
       "                <td><strong>Reaction identifier</strong></td><td>FAOXC240200x</td>\n",
       "            </tr><tr>\n",
       "                <td><strong>Name</strong></td><td>Beta oxidation of long chain fatty acid</td>\n",
       "            </tr><tr>\n",
       "                <td><strong>Memory address</strong></td>\n",
       "                <td>0x0102002b908</td>\n",
       "            </tr><tr>\n",
       "                <td><strong>Stoichiometry</strong></td>\n",
       "                <td>\n",
       "                    <p style='text-align:right'>2.0 coa_x + 2.0 h2o_x + 2.0 nad_x + 2.0 o2_x + ttccoa_x --> 2.0 accoa_x + arachcoa_x + 2.0 h2o2_x + 2.0 h_x + 2.0 nadh_x</p>\n",
       "                    <p style='text-align:right'>2.0 Coenzyme A + 2.0 H2O H2O + 2.0 NAD+ + 2.0 O2 O2 + Tetracosanoyl CoA   n C240CoA  C45H78N7O17P3S --> 2.0 Acetyl-CoA + Arachidyl coenzyme A + 2.0 Hydrogen peroxide + 2.0 H+ + 2.0 NADH</p>\n",
       "                </td>\n",
       "            </tr><tr>\n",
       "                <td><strong>GPR</strong></td><td>(12742 and 11362 and 13813) or (12752 and 11362 and 13813) or (9700 and 11362 and 13813)</td>\n",
       "            </tr><tr>\n",
       "                <td><strong>Lower bound</strong></td><td>0.0</td>\n",
       "            </tr><tr>\n",
       "                <td><strong>Upper bound</strong></td><td>1000.0</td>\n",
       "            </tr>\n",
       "        </table>\n",
       "        "
      ],
      "text/plain": [
       "<Reaction FAOXC240200x at 0x102002b908>"
      ]
     },
     "execution_count": 48,
     "metadata": {},
     "output_type": "execute_result"
    }
   ],
   "source": [
    "#Add beta oxidation for C20 C22 FAs\n",
    "model.reactions.get_by_id('FAOXC240200x')"
   ]
  },
  {
   "cell_type": "code",
   "execution_count": 49,
   "metadata": {},
   "outputs": [],
   "source": [
    "# Replace lumped FAOXC240200x with FAOXC24C22x and FAOXC22C20x\n",
    "r1 = hsa2.reactions.get_by_id('FAOXC24C22x').copy()\n",
    "r1.gene_reaction_rule = '(12742 and 11362 and 13813) or (12752 and 11362 and 13813) or (9700 and 11362 and 13813)'\n",
    "r2 = hsa2.reactions.get_by_id('FAOXC22C20x').copy()\n",
    "r2.gene_reaction_rule = '(12742 and 11362 and 13813) or (12752 and 11362 and 13813) or (9700 and 11362 and 13813)'\n",
    "model.add_reactions([r1,r2])\n",
    "model.remove_reactions(['FAOXC240200x'], remove_orphans=True)\n",
    "\n",
    "# Add transport reactions for C20 and C22\n",
    "m = model.metabolites.get_by_id('arach_c').copy()\n",
    "m.id = 'arach_x'\n",
    "m.compartment = 'x'\n",
    "model.add_metabolites([m])\n",
    "r = model.reactions.get_by_id('FA240tp').copy()\n",
    "r.id = 'FA200tp'\n",
    "model.add_reactions([r])\n",
    "r.add_metabolites({'ttc_c': 1.0, 'arach_c': -1.0, 'ttc_x': -1.0, 'arach_x': 1.0})\n",
    "r = model.reactions.get_by_id('FACOAL240p').copy()\n",
    "r.id = 'FACOAL200p'\n",
    "r.name = 'Fatty acid CoA ligase n C200 peroxisomal'\n",
    "model.add_reactions([r])\n",
    "r.add_metabolites({'ttc_x': 1.0, 'arach_x': -1.0, 'ttccoa_x': -1.0, 'arachcoa_x': 1.0})\n",
    "\n",
    "m1 = hsa2.metabolites.get_by_id('docosac_c').copy()\n",
    "m2 = hsa2.metabolites.get_by_id('docosac_c').copy()\n",
    "m2.id = 'docosac_x'\n",
    "m2.compartment = 'x'\n",
    "model.add_metabolites([m1,m2])\n",
    "r = model.reactions.get_by_id('FA240tp').copy()\n",
    "r.id = 'FA220tp'\n",
    "model.add_reactions([r])\n",
    "r.add_metabolites({'ttc_c': 1.0, 'docosac_c': -1.0, 'ttc_x': -1.0, 'docosac_x': 1.0})\n",
    "r = model.reactions.get_by_id('FACOAL240p').copy()\n",
    "r.id = 'FACOAL220p'\n",
    "r.name = 'Fatty acid CoA ligase n C220 peroxisomal'\n",
    "model.add_reactions([r])\n",
    "r.add_metabolites({'ttc_x': 1.0, 'docosac_x': -1.0, 'ttccoa_x': -1.0, 'docoscoa_x': 1.0})\n",
    "\n",
    "# Remove C20 transport to mitochondria\n",
    "model.remove_reactions(['ARACHCPT1','ARACHCRNt','ARACHCPT2'], remove_orphans=True)"
   ]
  },
  {
   "cell_type": "markdown",
   "metadata": {},
   "source": [
    "#### Replace the S. cer FA composition with the estimated cell lipid FA composition"
   ]
  },
  {
   "cell_type": "code",
   "execution_count": 50,
   "metadata": {},
   "outputs": [],
   "source": [
    "FAME_map = {'C16:0 FA': 'pmtcoa', 'C16:1 FA': 'hdcoa', 'C17:0 FA': 'hpdcacoa', 'C18:0 FA': 'stcoa',\n",
    "            'C18:1 FA': 'odecoa', 'C18:2 FA': 'ocdycacoa', 'C18:3 FA': 'lnlncgcoa', 'C20:0 FA': 'arachcoa',\n",
    "            'C22:0 FA': 'docoscoa', 'C24:0 FA': 'ttccoa'}\n",
    "FAcoa_FA_map = {'pmtcoa': 'hdca', 'hdcoa': 'hdcea', 'hpdcacoa': 'hpdca', 'stcoa': 'ocdca', 'odecoa': 'ocdcea',\n",
    "                'ocdycacoa': 'ocdcya', 'lnlncgcoa': 'lnlncg', 'arachcoa': 'arach', 'docoscoa': 'docosac',\n",
    "                'ttccoa': 'ttc'}"
   ]
  },
  {
   "cell_type": "code",
   "execution_count": 51,
   "metadata": {},
   "outputs": [
    {
     "data": {
      "text/plain": [
       "C16:0 FA    270.45066\n",
       "C16:1 FA    268.43478\n",
       "C17:0 FA    284.47724\n",
       "C18:0 FA    298.50382\n",
       "C18:1 FA    296.48794\n",
       "C18:2 FA    294.47206\n",
       "C18:3 FA    292.45618\n",
       "C20:0 FA    326.55698\n",
       "C22:0 FA    354.61014\n",
       "C24:0 FA    382.66330\n",
       "dtype: float64"
      ]
     },
     "execution_count": 51,
     "metadata": {},
     "output_type": "execute_result"
    }
   ],
   "source": [
    "# convert Acyl-CoA formula weight to Methyl ester formula weight\n",
    "# Add methyl group (+H) and subtract coa\n",
    "FAME_mw = pd.Series(index=FAME_fit.index)\n",
    "m = cobra.Metabolite('CH3OH')\n",
    "m.formula = 'CH3OH'\n",
    "temp = m.formula_weight - model.metabolites.get_by_id('coa_c').formula_weight\n",
    "for k, v in FAME_map.items():\n",
    "    FAME_mw[k] = model.metabolites.get_by_id(v+\"_r\").formula_weight + temp\n",
    "FAME_mw"
   ]
  },
  {
   "cell_type": "code",
   "execution_count": 52,
   "metadata": {},
   "outputs": [
    {
     "data": {
      "text/plain": [
       "C16:0 FA    0.081787\n",
       "C16:1 FA    0.003433\n",
       "C17:0 FA    0.016074\n",
       "C18:0 FA    0.066164\n",
       "C18:1 FA    0.326434\n",
       "C18:2 FA    0.367526\n",
       "C18:3 FA    0.098057\n",
       "C20:0 FA    0.016322\n",
       "C22:0 FA    0.003583\n",
       "C24:0 FA    0.020622\n",
       "Name: cell, dtype: float64"
      ]
     },
     "execution_count": 52,
     "metadata": {},
     "output_type": "execute_result"
    }
   ],
   "source": [
    "# cell lipid FAME weight fraction\n",
    "FAME_cell_wf = FAME_fit['cell']/FAME_fit['cell'].sum()\n",
    "FAME_cell_wf"
   ]
  },
  {
   "cell_type": "code",
   "execution_count": 53,
   "metadata": {},
   "outputs": [
    {
     "name": "stdout",
     "output_type": "stream",
     "text": [
      "1.0\n"
     ]
    },
    {
     "data": {
      "text/plain": [
       "pmtcoa       0.09\n",
       "hdcoa        0.00\n",
       "hpdcacoa     0.02\n",
       "stcoa        0.07\n",
       "odecoa       0.32\n",
       "ocdycacoa    0.37\n",
       "lnlncgcoa    0.10\n",
       "arachcoa     0.01\n",
       "docoscoa     0.00\n",
       "ttccoa       0.02\n",
       "dtype: float64"
      ]
     },
     "execution_count": 53,
     "metadata": {},
     "output_type": "execute_result"
    }
   ],
   "source": [
    "# cell lipid FAME molar fraction\n",
    "# drop fatty acids with fraction <= 1e-2\n",
    "FAME_cell_mf = pd.Series()\n",
    "for k, v in FAME_map.items():\n",
    "    FAME_cell_mf[v] = FAME_cell_wf[k]/FAME_mw[k]\n",
    "FAME_cell_mf = FAME_cell_mf/FAME_cell_mf.sum()\n",
    "FAME_cell_mf = FAME_cell_mf.round(2)\n",
    "print(FAME_cell_mf.sum())\n",
    "FAME_cell_mf"
   ]
  },
  {
   "cell_type": "code",
   "execution_count": 54,
   "metadata": {},
   "outputs": [
    {
     "data": {
      "text/plain": [
       "C16:0 FA    0.209204\n",
       "C16:1 FA    0.004693\n",
       "C17:0 FA    0.000837\n",
       "C18:0 FA    0.127438\n",
       "C18:1 FA    0.492042\n",
       "C18:2 FA    0.142394\n",
       "C18:3 FA    0.006909\n",
       "C20:0 FA    0.003625\n",
       "C22:0 FA    0.003875\n",
       "C24:0 FA    0.008983\n",
       "Name: lipid_body, dtype: float64"
      ]
     },
     "execution_count": 54,
     "metadata": {},
     "output_type": "execute_result"
    }
   ],
   "source": [
    "# lipid body FAME weight fraction\n",
    "FAME_lipid_wf = FAME_fit['lipid_body']/FAME_fit['lipid_body'].sum()\n",
    "FAME_lipid_wf"
   ]
  },
  {
   "cell_type": "code",
   "execution_count": 55,
   "metadata": {},
   "outputs": [
    {
     "name": "stdout",
     "output_type": "stream",
     "text": [
      "1.0\n"
     ]
    },
    {
     "data": {
      "text/plain": [
       "pmtcoa       0.23\n",
       "hdcoa        0.01\n",
       "hpdcacoa     0.00\n",
       "stcoa        0.12\n",
       "odecoa       0.48\n",
       "ocdycacoa    0.14\n",
       "lnlncgcoa    0.01\n",
       "arachcoa     0.00\n",
       "docoscoa     0.00\n",
       "ttccoa       0.01\n",
       "dtype: float64"
      ]
     },
     "execution_count": 55,
     "metadata": {},
     "output_type": "execute_result"
    }
   ],
   "source": [
    "# lipid body FAME molar fraction\n",
    "# drop fatty acids with fraction <= 1e-2\n",
    "FAME_lipid_mf = pd.Series()\n",
    "for k, v in FAME_map.items():\n",
    "    FAME_lipid_mf[v] = FAME_lipid_wf[k]/FAME_mw[k]\n",
    "FAME_lipid_mf = FAME_lipid_mf/FAME_lipid_mf.sum()\n",
    "FAME_lipid_mf = FAME_lipid_mf.round(2)\n",
    "print(FAME_lipid_mf.sum())\n",
    "FAME_lipid_mf"
   ]
  },
  {
   "cell_type": "code",
   "execution_count": 56,
   "metadata": {},
   "outputs": [
    {
     "name": "stdout",
     "output_type": "stream",
     "text": [
      "C16:0 FA [('C', '37'), ('H', '62'), ('N', '7'), ('O', '17'), ('P', '3'), ('S', '')]\n",
      "C16:1 FA [('C', '37'), ('H', '60'), ('N', '7'), ('O', '17'), ('P', '3'), ('S', '')]\n",
      "C17:0 FA [('C', '38'), ('H', '64'), ('N', '7'), ('O', '17'), ('P', '3'), ('S', '')]\n",
      "C18:0 FA [('C', '39'), ('H', '66'), ('N', '7'), ('O', '17'), ('P', '3'), ('S', '')]\n",
      "C18:1 FA [('C', '39'), ('H', '64'), ('N', '7'), ('O', '17'), ('P', '3'), ('S', '')]\n",
      "C18:2 FA [('C', '39'), ('H', '62'), ('N', '7'), ('O', '17'), ('P', '3'), ('S', '')]\n",
      "C18:3 FA [('C', '39'), ('H', '60'), ('N', '7'), ('O', '17'), ('P', '3'), ('S', '')]\n",
      "C20:0 FA [('C', '41'), ('H', '70'), ('N', '7'), ('O', '17'), ('P', '3'), ('S', '')]\n",
      "C22:0 FA [('C', '43'), ('H', '74'), ('N', '7'), ('O', '17'), ('P', '3'), ('S', '')]\n",
      "C24:0 FA [('C', '45'), ('H', '78'), ('N', '7'), ('O', '17'), ('P', '3'), ('S', '')]\n"
     ]
    },
    {
     "data": {
      "text/plain": [
       "{'C': 1794, 'H': 3116, 'O': 100}"
      ]
     },
     "execution_count": 56,
     "metadata": {},
     "output_type": "execute_result"
    }
   ],
   "source": [
    "# Calculate cell lipid average formula for acyl part scaled by 100\n",
    "# Parse and sum individual acyl-CoA and subtract coa\n",
    "import re\n",
    "FA_cell_formula = dict()\n",
    "for k, v in FAME_map.items():\n",
    "    temp = re.findall(r'([A-Z][a-z]*)(\\d*)', model.metabolites.get_by_id(v+\"_r\").formula)\n",
    "    for x in temp:\n",
    "        y = int(x[1]) if x[1] else 1\n",
    "        FA_cell_formula[x[0]] = FA_cell_formula.setdefault(x[0], 0) + y*int(FAME_cell_mf[v]*100)\n",
    "    print(k, temp)\n",
    "temp = re.findall(r'([A-Z][a-z]*)(\\d*)', model.metabolites.get_by_id('coa_c').formula)\n",
    "for x in temp:\n",
    "    y = int(x[1]) if x[1] else 1\n",
    "    FA_cell_formula[x[0]] = FA_cell_formula.setdefault(x[0], 0) - y*100\n",
    "for x in [k for k, v in FA_cell_formula.items() if not v]:\n",
    "    FA_cell_formula.pop(x)\n",
    "FA_cell_formula"
   ]
  },
  {
   "cell_type": "code",
   "execution_count": 57,
   "metadata": {},
   "outputs": [
    {
     "name": "stdout",
     "output_type": "stream",
     "text": [
      "{'C': 2094, 'H': 3816, 'O': 700, 'P': 100}\n",
      "{'C': 1920, 'H': 3622, 'O': 700, 'P': 100}\n"
     ]
    },
    {
     "data": {
      "text/plain": [
       "{'C': 174, 'H': 194, 'O': 0, 'P': 0}"
      ]
     },
     "execution_count": 57,
     "metadata": {},
     "output_type": "execute_result"
    }
   ],
   "source": [
    "# Calculate average formula for 1ag3p_RT_r and compare to old one\n",
    "temp = dict()\n",
    "for x in re.findall(r'([A-Z][a-z]*)(\\d*)', model.metabolites.get_by_id('glyc3p_r').formula):\n",
    "    y = int(x[1]) if x[1] else 1\n",
    "    temp[x[0]] = temp.setdefault(x[0], 0) + y*100\n",
    "for k, v in FA_cell_formula.items():\n",
    "    temp[k] = temp[k] + v\n",
    "print(temp)\n",
    "temp_old = dict()\n",
    "for x in re.findall(r'([A-Z][a-z]*)(\\d*)', model.metabolites.get_by_id('1ag3p_RT_r').formula):\n",
    "    y = int(x[1]) if x[1] else 1\n",
    "    temp_old[x[0]] = temp_old.setdefault(x[0], 0) + y\n",
    "print(temp_old)\n",
    "{k: temp[k] - temp_old[k] for k in temp}"
   ]
  },
  {
   "cell_type": "markdown",
   "metadata": {},
   "source": [
    "On average, C 174+ and H 194+ for cell lipid"
   ]
  },
  {
   "cell_type": "code",
   "execution_count": 58,
   "metadata": {},
   "outputs": [],
   "source": [
    "# update cell lipid formula\n",
    "for r in ['1ag3p_RT_r','1agly3p_RT_r','1agpc_RT_r']:\n",
    "    temp = dict()\n",
    "    for x in re.findall(r'([A-Z][a-z]*)(\\d*)', model.metabolites.get_by_id(r).formula):\n",
    "        y = int(x[1]) if x[1] else 1\n",
    "        temp[x[0]] = temp.setdefault(x[0], 0) + y\n",
    "    temp['C'] = temp['C'] + 174\n",
    "    temp['H'] = temp['H'] + 194\n",
    "    model.metabolites.get_by_id(r).formula = ''.join(k+str(int(v)) for k, v in temp.items())\n",
    "    \n",
    "for r in ['pa_RT_r','pc_RT_r','pe_RT_r','ps_RT_r','ptd1ino_RT_r','ptd3ino_RT_r','ptd135bp_RT_r',\n",
    "          'ptd4ino_RT_r','ptd145bp_RT_r','ptdmeeta_RT_r','ptd2meeta_RT_r','12dgr_RT_r','cdpdag_RT_r','dagpy_RT_r',\n",
    "          'pa_RT_m','pe_RT_m','ps_RT_m','pg_RT_m','pgp_RT_m','cdpdag_RT_m',\n",
    "          'pc_RT_e','pe_RT_e','ptd1ino_RT_e']:\n",
    "    temp = dict()\n",
    "    for x in re.findall(r'([A-Z][a-z]*)(\\d*)', model.metabolites.get_by_id(r).formula):\n",
    "        y = int(x[1]) if x[1] else 1\n",
    "        temp[x[0]] = temp.setdefault(x[0], 0) + y\n",
    "    temp['C'] = temp['C'] + 174*2\n",
    "    temp['H'] = temp['H'] + 194*2\n",
    "    model.metabolites.get_by_id(r).formula = ''.join(k+str(int(v)) for k, v in temp.items())\n",
    "    \n",
    "for r in ['triglyc_RT_r']:\n",
    "    temp = dict()\n",
    "    for x in re.findall(r'([A-Z][a-z]*)(\\d*)', model.metabolites.get_by_id(r).formula):\n",
    "        y = int(x[1]) if x[1] else 1\n",
    "        temp[x[0]] = temp.setdefault(x[0], 0) + y\n",
    "    temp['C'] = temp['C'] + 174*3\n",
    "    temp['H'] = temp['H'] + 194*3\n",
    "    model.metabolites.get_by_id(r).formula = ''.join(k+str(int(v)) for k, v in temp.items())\n",
    "    \n",
    "for r in ['clpn_RT_m']:\n",
    "    temp = dict()\n",
    "    for x in re.findall(r'([A-Z][a-z]*)(\\d*)', model.metabolites.get_by_id(r).formula):\n",
    "        y = int(x[1]) if x[1] else 1\n",
    "        temp[x[0]] = temp.setdefault(x[0], 0) + y\n",
    "    temp['C'] = temp['C'] + 174*4\n",
    "    temp['H'] = temp['H'] + 194*4\n",
    "    model.metabolites.get_by_id(r).formula = ''.join(k+str(int(v)) for k, v in temp.items())"
   ]
  },
  {
   "cell_type": "code",
   "execution_count": 59,
   "metadata": {},
   "outputs": [
    {
     "name": "stdout",
     "output_type": "stream",
     "text": [
      "C16:0 FA [('C', '37'), ('H', '62'), ('N', '7'), ('O', '17'), ('P', '3'), ('S', '')]\n",
      "C16:1 FA [('C', '37'), ('H', '60'), ('N', '7'), ('O', '17'), ('P', '3'), ('S', '')]\n",
      "C17:0 FA [('C', '38'), ('H', '64'), ('N', '7'), ('O', '17'), ('P', '3'), ('S', '')]\n",
      "C18:0 FA [('C', '39'), ('H', '66'), ('N', '7'), ('O', '17'), ('P', '3'), ('S', '')]\n",
      "C18:1 FA [('C', '39'), ('H', '64'), ('N', '7'), ('O', '17'), ('P', '3'), ('S', '')]\n",
      "C18:2 FA [('C', '39'), ('H', '62'), ('N', '7'), ('O', '17'), ('P', '3'), ('S', '')]\n",
      "C18:3 FA [('C', '39'), ('H', '60'), ('N', '7'), ('O', '17'), ('P', '3'), ('S', '')]\n",
      "C20:0 FA [('C', '41'), ('H', '70'), ('N', '7'), ('O', '17'), ('P', '3'), ('S', '')]\n",
      "C22:0 FA [('C', '43'), ('H', '74'), ('N', '7'), ('O', '17'), ('P', '3'), ('S', '')]\n",
      "C24:0 FA [('C', '45'), ('H', '78'), ('N', '7'), ('O', '17'), ('P', '3'), ('S', '')]\n"
     ]
    },
    {
     "data": {
      "text/plain": [
       "{'C': 1758, 'H': 3156, 'O': 100}"
      ]
     },
     "execution_count": 59,
     "metadata": {},
     "output_type": "execute_result"
    }
   ],
   "source": [
    "# Calculate lipid body average formula for acyl part scaled by 100\n",
    "# Parse and sum individual acyl-CoA and subtract coa\n",
    "FA_lipid_formula = dict()\n",
    "for k, v in FAME_map.items():\n",
    "    temp = re.findall(r'([A-Z][a-z]*)(\\d*)', model.metabolites.get_by_id(v+\"_r\").formula)\n",
    "    for x in temp:\n",
    "        y = int(x[1]) if x[1] else 1\n",
    "        FA_lipid_formula[x[0]] = FA_lipid_formula.setdefault(x[0], 0) + y*int(FAME_lipid_mf[v]*100)\n",
    "    print(k, temp)\n",
    "temp = re.findall(r'([A-Z][a-z]*)(\\d*)', model.metabolites.get_by_id('coa_c').formula)\n",
    "for x in temp:\n",
    "    y = int(x[1]) if x[1] else 1\n",
    "    FA_lipid_formula[x[0]] = FA_lipid_formula.setdefault(x[0], 0) - y*100\n",
    "for x in [k for k, v in FA_lipid_formula.items() if not v]:\n",
    "    FA_lipid_formula.pop(x)\n",
    "FA_lipid_formula"
   ]
  },
  {
   "cell_type": "code",
   "execution_count": 60,
   "metadata": {},
   "outputs": [
    {
     "name": "stdout",
     "output_type": "stream",
     "text": [
      "{'C': 2058, 'H': 3856, 'O': 700, 'P': 100}\n",
      "{'C': 2094, 'H': 3816, 'O': 700, 'P': 100}\n"
     ]
    },
    {
     "data": {
      "text/plain": [
       "{'C': -36, 'H': 40, 'O': 0, 'P': 0}"
      ]
     },
     "execution_count": 60,
     "metadata": {},
     "output_type": "execute_result"
    }
   ],
   "source": [
    "# Calculate average formula for 1ag3p_RT_r and compare to old one\n",
    "temp = dict()\n",
    "for x in re.findall(r'([A-Z][a-z]*)(\\d*)', model.metabolites.get_by_id('glyc3p_r').formula):\n",
    "    y = int(x[1]) if x[1] else 1\n",
    "    temp[x[0]] = temp.setdefault(x[0], 0) + y*100\n",
    "for k, v in FA_lipid_formula.items():\n",
    "    temp[k] = temp[k] + v\n",
    "print(temp)\n",
    "temp_old = dict()\n",
    "for x in re.findall(r'([A-Z][a-z]*)(\\d*)', model.metabolites.get_by_id('1ag3p_RT_r').formula):\n",
    "    y = int(x[1]) if x[1] else 1\n",
    "    temp_old[x[0]] = temp_old.setdefault(x[0], 0) + y\n",
    "print(temp_old)\n",
    "{k: temp[k] - temp_old[k] for k in temp}"
   ]
  },
  {
   "cell_type": "code",
   "execution_count": 61,
   "metadata": {},
   "outputs": [],
   "source": [
    "# update cell lipid formula\n",
    "for r in ['mag_RT_d']:\n",
    "    temp = dict()\n",
    "    for x in re.findall(r'([A-Z][a-z]*)(\\d*)', model.metabolites.get_by_id(r).formula):\n",
    "        y = int(x[1]) if x[1] else 1\n",
    "        temp[x[0]] = temp.setdefault(x[0], 0) + y\n",
    "    temp['C'] = temp['C'] + 138\n",
    "    temp['H'] = temp['H'] + 234\n",
    "    model.metabolites.get_by_id(r).formula = ''.join(k+str(int(v)) for k, v in temp.items())\n",
    "    \n",
    "for r in ['12dgr_RT_d']:\n",
    "    temp = dict()\n",
    "    for x in re.findall(r'([A-Z][a-z]*)(\\d*)', model.metabolites.get_by_id(r).formula):\n",
    "        y = int(x[1]) if x[1] else 1\n",
    "        temp[x[0]] = temp.setdefault(x[0], 0) + y\n",
    "    temp['C'] = temp['C'] + 138*2\n",
    "    temp['H'] = temp['H'] + 234*2\n",
    "    model.metabolites.get_by_id(r).formula = ''.join(k+str(int(v)) for k, v in temp.items())\n",
    "    \n",
    "for r in ['triglyc_RT_d']:\n",
    "    temp = dict()\n",
    "    for x in re.findall(r'([A-Z][a-z]*)(\\d*)', model.metabolites.get_by_id(r).formula):\n",
    "        y = int(x[1]) if x[1] else 1\n",
    "        temp[x[0]] = temp.setdefault(x[0], 0) + y\n",
    "    temp['C'] = temp['C'] + 138*3\n",
    "    temp['H'] = temp['H'] + 234*3\n",
    "    model.metabolites.get_by_id(r).formula = ''.join(k+str(int(v)) for k, v in temp.items())"
   ]
  },
  {
   "cell_type": "code",
   "execution_count": 62,
   "metadata": {},
   "outputs": [
    {
     "name": "stdout",
     "output_type": "stream",
     "text": [
      "pmtcoa 14\n",
      "hdcoa 1\n",
      "hpdcacoa -2\n",
      "stcoa 5\n",
      "odecoa 16\n",
      "ocdycacoa -23\n",
      "lnlncgcoa -9\n",
      "arachcoa -1\n",
      "docoscoa 0\n",
      "ttccoa -1\n"
     ]
    }
   ],
   "source": [
    "# Difference between cell lipid and lipid body composition\n",
    "for k, v in (FAME_lipid_mf - FAME_cell_mf).items():\n",
    "    print(k, round(v*100))"
   ]
  },
  {
   "cell_type": "code",
   "execution_count": 63,
   "metadata": {},
   "outputs": [],
   "source": [
    "# Simulate the accumulation of composition-specific TAG in lipid droplet by acyl-CoA exchange\n",
    "r = model.reactions.get_by_id('TAGtrd')\n",
    "for k, v in (FAME_lipid_mf - FAME_cell_mf).items():\n",
    "    r.add_metabolites({k+'_r': -3*round(v*100)})\n",
    "# Scale by 100\n",
    "for m, v in model.reactions.get_by_id('TAGtrd').metabolites.items():\n",
    "    model.reactions.get_by_id('TAGtrd').add_metabolites({m.id: -v})\n",
    "    model.reactions.get_by_id('TAGtrd').add_metabolites({m.id: round(v/100,2)})\n",
    "# Add sink reaction for lipid accumulation and mobilization\n",
    "r = cobra.Reaction('SK_triglyc_RT_d')\n",
    "r.name = 'Demand needed to allow triglyceride to accumulate in lipid droplet'\n",
    "model.add_reactions([r])\n",
    "r.add_metabolites({'triglyc_RT_d': -1.0})"
   ]
  },
  {
   "cell_type": "code",
   "execution_count": 64,
   "metadata": {},
   "outputs": [
    {
     "data": {
      "text/plain": [
       "1.0"
      ]
     },
     "execution_count": 64,
     "metadata": {},
     "output_type": "execute_result"
    }
   ],
   "source": [
    "# Old FA molar fraction for reactions incorporating acyl-coa\n",
    "FAcoa_mf_old = {'dcacoa_r': 0.02, 'ddcacoa_r': 0.06, 'hdcoa_r': 0.17, 'ocdycacoa_r': 0.09, 'odecoa_r': 0.24,\n",
    "                'pmtcoa_r': 0.27, 'stcoa_r': 0.05, 'tdcoa_r': 0.1}\n",
    "sum(FAcoa_mf_old.values())"
   ]
  },
  {
   "cell_type": "code",
   "execution_count": 65,
   "metadata": {},
   "outputs": [
    {
     "name": "stdout",
     "output_type": "stream",
     "text": [
      "AGATer_RT: 0.01 1ag3p_RT_r + 0.02 dcacoa_r + 0.06 ddcacoa_r + 0.17 hdcoa_r + 0.09 ocdycacoa_r + 0.24 odecoa_r + 0.27 pmtcoa_r + 0.05 stcoa_r + 0.1 tdcoa_r --> coa_r + 0.01 pa_RT_r 10427 or 16030 or 16779 or 9746\n",
      "GAT1er_RT: 0.02 dcacoa_r + 0.06 ddcacoa_r + glyc3p_r + 0.17 hdcoa_r + 0.09 ocdycacoa_r + 0.24 odecoa_r + 0.27 pmtcoa_r + 0.05 stcoa_r + 0.1 tdcoa_r --> 0.01 1ag3p_RT_r + coa_r 15435\n",
      "GAT2er_RT: 0.02 dcacoa_r + 0.06 ddcacoa_r + dhap_r + 0.17 hdcoa_r + 0.09 ocdycacoa_r + 0.24 odecoa_r + 0.27 pmtcoa_r + 0.05 stcoa_r + 0.1 tdcoa_r --> 0.01 1agly3p_RT_r + coa_r 13369 or 15435\n",
      "LPCATer_RT: 0.01 1agpc_RT_r + 0.02 dcacoa_r + 0.06 ddcacoa_r + 0.17 hdcoa_r + 0.09 ocdycacoa_r + 0.24 odecoa_r + 0.27 pmtcoa_r + 0.05 stcoa_r + 0.1 tdcoa_r --> coa_r + 0.01 pc_RT_r 16030\n",
      "TRIGSer_RT: 0.01 12dgr_RT_r + 0.02 dcacoa_r + 0.06 ddcacoa_r + 0.17 hdcoa_r + 0.09 ocdycacoa_r + 0.24 odecoa_r + 0.27 pmtcoa_r + 0.05 stcoa_r + 0.1 tdcoa_r --> coa_r + 0.01 triglyc_RT_r 16460\n"
     ]
    }
   ],
   "source": [
    "for r in sorted(model.metabolites.get_by_id('pmtcoa_r').reactions, key=lambda x: x.id):\n",
    "    if r.get_coefficient('pmtcoa_r') == -0.27:\n",
    "        print(r, r.gene_reaction_rule)"
   ]
  },
  {
   "cell_type": "code",
   "execution_count": 66,
   "metadata": {},
   "outputs": [],
   "source": [
    "for r in sorted(model.metabolites.get_by_id('pmtcoa_r').reactions, key=lambda x: x.id):\n",
    "    if r.get_coefficient('pmtcoa_r') == -0.27:\n",
    "        for k, v in FAcoa_mf_old.items():\n",
    "            r.add_metabolites({k: v})\n",
    "        for k, v in FAME_cell_mf.items():\n",
    "            r.add_metabolites({k+'_r': -v})"
   ]
  },
  {
   "cell_type": "code",
   "execution_count": 67,
   "metadata": {},
   "outputs": [
    {
     "data": {
      "text/plain": [
       "1.0"
      ]
     },
     "execution_count": 67,
     "metadata": {},
     "output_type": "execute_result"
    }
   ],
   "source": [
    "# Old FA molar fraction for reactions releasing free fatty acid\n",
    "FA_mf_old = {'dca_c': 0.02, 'ddca_c': 0.06, 'hdcea_c': 0.17, 'ocdcya_c': 0.09, 'ocdcea_c': 0.24, 'hdca_c': 0.27,\n",
    "             'ocdca_c': 0.05, 'ttdca_c': 0.1}\n",
    "sum(FA_mf_old.values())"
   ]
  },
  {
   "cell_type": "code",
   "execution_count": 68,
   "metadata": {},
   "outputs": [
    {
     "name": "stdout",
     "output_type": "stream",
     "text": [
      "DAGL_RT: 0.01 12dgr_RT_d + h2o_c --> 0.02 dca_c + 0.06 ddca_c + h_c + 0.27 hdca_c + 0.17 hdcea_c + 0.01 mag_RT_d + 0.05 ocdca_c + 0.24 ocdcea_c + 0.09 ocdcya_c + 0.1 ttdca_c 11739 or 15065\n",
      "MAGL_RT: h2o_c + 0.01 mag_RT_d --> 0.02 dca_c + 0.06 ddca_c + glyc_c + h_c + 0.27 hdca_c + 0.17 hdcea_c + 0.05 ocdca_c + 0.24 ocdcea_c + 0.09 ocdcya_c + 0.1 ttdca_c 14158 or 15065 or 9728\n",
      "PLBPC_RT: h2o_c + 0.005 pc_RT_r --> 0.02 dca_c + 0.06 ddca_c + 0.5 g3pc_c + h_c + 0.27 hdca_c + 0.17 hdcea_c + 0.05 ocdca_c + 0.24 ocdcea_c + 0.09 ocdcya_c + 0.1 ttdca_c 14309\n",
      "TAGL_RT: h2o_c + 0.01 triglyc_RT_d --> 0.01 12dgr_RT_d + 0.02 dca_c + 0.06 ddca_c + h_c + 0.27 hdca_c + 0.17 hdcea_c + 0.05 ocdca_c + 0.24 ocdcea_c + 0.09 ocdcya_c + 0.1 ttdca_c 10393 or 14317 or 14617 or 15065 or 9746\n"
     ]
    }
   ],
   "source": [
    "for r in sorted(model.metabolites.get_by_id('hdca_c').reactions, key=lambda x: x.id):\n",
    "    if r.get_coefficient('hdca_c') == 0.27:\n",
    "        print(r, r.gene_reaction_rule)"
   ]
  },
  {
   "cell_type": "code",
   "execution_count": 69,
   "metadata": {},
   "outputs": [],
   "source": [
    "# phospholipid lipase\n",
    "for x in ['PLBPC_RT']:\n",
    "    r = model.reactions.get_by_id(x)\n",
    "    for k, v in FA_mf_old.items():\n",
    "        r.add_metabolites({k: -v})\n",
    "    for k, v in FAME_cell_mf.items():\n",
    "        r.add_metabolites({FAcoa_FA_map[k]+'_c': v})"
   ]
  },
  {
   "cell_type": "code",
   "execution_count": 70,
   "metadata": {},
   "outputs": [],
   "source": [
    "# TAG/DAG/MAG lipase\n",
    "for x in ['DAGL_RT','MAGL_RT','TAGL_RT']:\n",
    "    r = model.reactions.get_by_id(x)\n",
    "    for k, v in FA_mf_old.items():\n",
    "        r.add_metabolites({k: -v})\n",
    "    for k, v in FAME_lipid_mf.items():\n",
    "        r.add_metabolites({FAcoa_FA_map[k]+'_c': v})"
   ]
  },
  {
   "cell_type": "code",
   "execution_count": 71,
   "metadata": {},
   "outputs": [
    {
     "name": "stdout",
     "output_type": "stream",
     "text": [
      "PLBP1Ie_RT: h2o_e + 0.005 ptd1ino_RT_e --> 0.02 dca_e + 0.06 ddca_e + 0.5 g3pi_e + h_e + 0.27 hdca_e + 0.17 hdcea_e + 0.05 ocdca_e + 0.24 ocdcea_e + 0.09 ocdcya_e + 0.1 ttdca_e 12385\n",
      "PLBPCe_RT: h2o_e + 0.005 pc_RT_e --> 0.02 dca_e + 0.06 ddca_e + 0.5 g3pc_e + h_e + 0.27 hdca_e + 0.17 hdcea_e + 0.05 ocdca_e + 0.24 ocdcea_e + 0.09 ocdcya_e + 0.1 ttdca_e 12385\n",
      "PLBPEe_RT: h2o_e + 0.005 pe_RT_e --> 0.02 dca_e + 0.06 ddca_e + 0.5 g3pe_e + h_e + 0.27 hdca_e + 0.17 hdcea_e + 0.05 ocdca_e + 0.24 ocdcea_e + 0.09 ocdcya_e + 0.1 ttdca_e 12385\n"
     ]
    }
   ],
   "source": [
    "for r in sorted(model.metabolites.get_by_id('hdca_e').reactions, key=lambda x: x.id):\n",
    "    if r.get_coefficient('hdca_e') == 0.27:\n",
    "        print(r, r.gene_reaction_rule)"
   ]
  },
  {
   "cell_type": "code",
   "execution_count": 72,
   "metadata": {},
   "outputs": [],
   "source": [
    "# Fatty acid transport reactions\n",
    "# 9912 is SLC27A1_4, but not SLC27A2 or SLC27A5\n",
    "# Add fatty acid transport by diffusion and remove fatty acid/sodium symporters\n",
    "\n",
    "for x in ['HDCAt','HDCEAt','OCDCAt','OCDCEAt','OCDCYAt']:\n",
    "    r = sce.reactions.get_by_id(x).copy()\n",
    "    model.add_reactions([r])\n",
    "for x in ['LNLNCGt','HPDCAt','ARACHt','DOCOSACTDe']:\n",
    "    r = hsa2.reactions.get_by_id(x).copy()\n",
    "    r.gene_reaction_rule = ''\n",
    "    r.lower_bound = 0.0\n",
    "    model.add_reactions([r])\n",
    "\n",
    "model.reactions.get_by_id('DOCOSACTDe').id = 'DOCOSACt'\n",
    "model.reactions.get_by_id('DOCOSACt').name = 'Fatty acid transport via diffusion'\n",
    "r = model.reactions.get_by_id('DOCOSACt').copy()\n",
    "r.id = 'TTCt'\n",
    "model.add_reactions([r])\n",
    "r.add_metabolites({'docosac_e': 1.0, 'docosac_c': -1.0, 'ttc_e': -1.0, 'ttc_c': 1.0})\n",
    "\n",
    "model.remove_reactions(['FATP1t','FATP2t','FATP3t','FATP4t','FATP8t','FATP9t'], remove_orphans=True)"
   ]
  },
  {
   "cell_type": "code",
   "execution_count": 73,
   "metadata": {
    "scrolled": true
   },
   "outputs": [],
   "source": [
    "for r in sorted(model.metabolites.get_by_id('hdca_e').reactions, key=lambda x: x.id):\n",
    "    if r.get_coefficient('hdca_e') == 0.27:\n",
    "        for k, v in FA_mf_old.items():\n",
    "            r.add_metabolites({k.replace('_c','_e'): -v})\n",
    "        for k, v in FAME_cell_mf.items():\n",
    "            r.add_metabolites({FAcoa_FA_map[k]+'_e': v})"
   ]
  },
  {
   "cell_type": "code",
   "execution_count": 74,
   "metadata": {},
   "outputs": [],
   "source": [
    "# The sterol ester reactions look wrong - it is taking 1 sterol and 100 acyl-coa to make 1 sterol ester\n",
    "model.reactions.get_by_id('EPISTATer_RT').add_metabolites({'epist_r': -0.99})\n",
    "model.reactions.get_by_id('ERGSTATer_RT').add_metabolites({'ergst_r': -0.99})\n",
    "model.reactions.get_by_id('FECOSTATer_RT').add_metabolites({'fecost_r': -0.99})\n",
    "model.reactions.get_by_id('LANOSTATer_RT').add_metabolites({'lanost_r': -0.99})\n",
    "model.reactions.get_by_id('ZYMSTATer_RT').add_metabolites({'zymst_r': -0.99})\n",
    "model.reactions.get_by_id('EPISTESTH_RT').add_metabolites({'epist_c': 0.99})\n",
    "model.reactions.get_by_id('ERGSTESTH_RT').add_metabolites({'ergst_c': 0.99})\n",
    "model.reactions.get_by_id('FECOSTESTH_RT').add_metabolites({'fecost_c': 0.99})\n",
    "model.reactions.get_by_id('LANOSTESTH_RT').add_metabolites({'lanost_c': 0.99})\n",
    "model.reactions.get_by_id('ZYMSTESTH_RT').add_metabolites({'zymst_c': 0.99})\n",
    "# Add sterol transport from cyto to E.R.\n",
    "for x in ['epist','ergst','fecost','lanost','zymst']:\n",
    "    r = model.reactions.get_by_id(x.upper()+'t').copy()\n",
    "    r.id = r.id+'r'\n",
    "    r.name = r.name.replace('reversible','endoplasmic reticulum')\n",
    "    r.gene_reaction_rule = ''\n",
    "    model.add_reactions([r])\n",
    "    r.add_metabolites({x+'_e': 1.0, x+'_c': -2.0, x+'_r': 1.0})"
   ]
  },
  {
   "cell_type": "code",
   "execution_count": 75,
   "metadata": {},
   "outputs": [
    {
     "name": "stdout",
     "output_type": "stream",
     "text": [
      "epistest_RT_r {'C': 2863, 'H': 4761, 'O': 99}\n",
      "ergstest_RT_r {'C': 2863, 'H': 4563, 'O': 99}\n",
      "fecostest_RT_r {'C': 2863, 'H': 4761, 'O': 99}\n",
      "lanostest_RT_r {'C': 3061, 'H': 5157, 'O': 99}\n",
      "zymstest_RT_r {'C': 2764, 'H': 4563, 'O': 99}\n"
     ]
    }
   ],
   "source": [
    "# Calculate average formula for sterol ester and compare to old one\n",
    "for m1, m2 in [('epist_r','epistest_RT_r'),('ergst_r','ergstest_RT_r'),('fecost_r','fecostest_RT_r'),\n",
    "               ('lanost_r','lanostest_RT_r'),('zymst_r','zymstest_RT_r')]:\n",
    "    temp = dict()\n",
    "    for x in re.findall(r'([A-Z][a-z]*)(\\d*)', model.metabolites.get_by_id(m1).formula):\n",
    "        y = int(x[1]) if x[1] else 1\n",
    "        temp[x[0]] = temp.setdefault(x[0], 0) + y*100\n",
    "    for k, v in FA_lipid_formula.items():\n",
    "        temp[k] = temp[k] + v\n",
    "    temp_old = dict()\n",
    "    for x in re.findall(r'([A-Z][a-z]*)(\\d*)', model.metabolites.get_by_id(m2).formula):\n",
    "        y = int(x[1]) if x[1] else 1\n",
    "        temp_old[x[0]] = temp_old.setdefault(x[0], 0) + y\n",
    "    print(m2, {k: temp[k] - temp_old[k] for k in temp})"
   ]
  },
  {
   "cell_type": "code",
   "execution_count": 76,
   "metadata": {},
   "outputs": [],
   "source": [
    "for r in ['epistest_RT_r','fecostest_RT_r','epistest_RT_d','fecostest_RT_d']:\n",
    "    temp = dict()\n",
    "    for x in re.findall(r'([A-Z][a-z]*)(\\d*)', model.metabolites.get_by_id(r).formula):\n",
    "        y = int(x[1]) if x[1] else 1\n",
    "        temp[x[0]] = temp.setdefault(x[0], 0) + y\n",
    "    temp['C'] = temp['C'] + 2863\n",
    "    temp['H'] = temp['H'] + 4761\n",
    "    temp['O'] = temp['O'] + 99\n",
    "    model.metabolites.get_by_id(r).formula = ''.join(k+str(int(v)) for k, v in temp.items())\n",
    "\n",
    "for r in ['ergstest_RT_r','ergstest_RT_d']:\n",
    "    temp = dict()\n",
    "    for x in re.findall(r'([A-Z][a-z]*)(\\d*)', model.metabolites.get_by_id(r).formula):\n",
    "        y = int(x[1]) if x[1] else 1\n",
    "        temp[x[0]] = temp.setdefault(x[0], 0) + y\n",
    "    temp['C'] = temp['C'] + 2863\n",
    "    temp['H'] = temp['H'] + 4563\n",
    "    temp['O'] = temp['O'] + 99\n",
    "    model.metabolites.get_by_id(r).formula = ''.join(k+str(int(v)) for k, v in temp.items())\n",
    "\n",
    "for r in ['lanostest_RT_r','lanostest_RT_d']:\n",
    "    temp = dict()\n",
    "    for x in re.findall(r'([A-Z][a-z]*)(\\d*)', model.metabolites.get_by_id(r).formula):\n",
    "        y = int(x[1]) if x[1] else 1\n",
    "        temp[x[0]] = temp.setdefault(x[0], 0) + y\n",
    "    temp['C'] = temp['C'] + 3061\n",
    "    temp['H'] = temp['H'] + 5157\n",
    "    temp['O'] = temp['O'] + 99\n",
    "    model.metabolites.get_by_id(r).formula = ''.join(k+str(int(v)) for k, v in temp.items())\n",
    "\n",
    "for r in ['zymstest_RT_r','zymstest_RT_d']:\n",
    "    temp = dict()\n",
    "    for x in re.findall(r'([A-Z][a-z]*)(\\d*)', model.metabolites.get_by_id(r).formula):\n",
    "        y = int(x[1]) if x[1] else 1\n",
    "        temp[x[0]] = temp.setdefault(x[0], 0) + y\n",
    "    temp['C'] = temp['C'] + 2764\n",
    "    temp['H'] = temp['H'] + 4563\n",
    "    temp['O'] = temp['O'] + 99\n",
    "    model.metabolites.get_by_id(r).formula = ''.join(k+str(int(v)) for k, v in temp.items())"
   ]
  },
  {
   "cell_type": "code",
   "execution_count": 77,
   "metadata": {},
   "outputs": [
    {
     "data": {
      "text/plain": [
       "1.0"
      ]
     },
     "execution_count": 77,
     "metadata": {},
     "output_type": "execute_result"
    }
   ],
   "source": [
    "# Old FA molar fraction for sterol ester reactions incorporating acyl-coa\n",
    "# This appeared in iMM904, but not clear where the numbers are taken from\n",
    "FA_mf_old = {'hdcoa_r': 0.655, 'hexccoa_r': 0.01, 'odecoa_r': 0.27, 'pmtcoa_r': 0.02, 'stcoa_r': 0.03,\n",
    "             'tdcoa_r': 0.015}\n",
    "sum(FA_mf_old.values())"
   ]
  },
  {
   "cell_type": "code",
   "execution_count": 78,
   "metadata": {},
   "outputs": [
    {
     "name": "stdout",
     "output_type": "stream",
     "text": [
      "EPISTATer_RT: epist_r + 0.655 hdcoa_r + 0.01 hexccoa_r + 0.27 odecoa_r + 0.02 pmtcoa_r + 0.03 stcoa_r + 0.015 tdcoa_r --> coa_r + 0.01 epistest_RT_r 11799\n",
      "ERGSTATer_RT: ergst_r + 0.655 hdcoa_r + 0.01 hexccoa_r + 0.27 odecoa_r + 0.02 pmtcoa_r + 0.03 stcoa_r + 0.015 tdcoa_r --> coa_r + 0.01 ergstest_RT_r 11799\n",
      "FECOSTATer_RT: fecost_r + 0.655 hdcoa_r + 0.01 hexccoa_r + 0.27 odecoa_r + 0.02 pmtcoa_r + 0.03 stcoa_r + 0.015 tdcoa_r --> coa_r + 0.01 fecostest_RT_r 11799\n",
      "LANOSTATer_RT: 0.655 hdcoa_r + 0.01 hexccoa_r + lanost_r + 0.27 odecoa_r + 0.02 pmtcoa_r + 0.03 stcoa_r + 0.015 tdcoa_r --> coa_r + 0.01 lanostest_RT_r 11799\n",
      "ZYMSTATer_RT: 0.655 hdcoa_r + 0.01 hexccoa_r + 0.27 odecoa_r + 0.02 pmtcoa_r + 0.03 stcoa_r + 0.015 tdcoa_r + zymst_r --> coa_r + 0.01 zymstest_RT_r 11799\n"
     ]
    }
   ],
   "source": [
    "for r in sorted(model.metabolites.get_by_id('pmtcoa_r').reactions, key=lambda x: x.id):\n",
    "    if r.get_coefficient('pmtcoa_r') == -0.02:\n",
    "        print(r, r.gene_reaction_rule)"
   ]
  },
  {
   "cell_type": "code",
   "execution_count": 79,
   "metadata": {},
   "outputs": [],
   "source": [
    "for r in sorted(model.metabolites.get_by_id('pmtcoa_r').reactions, key=lambda x: x.id):\n",
    "    if r.get_coefficient('pmtcoa_r') == -0.02:\n",
    "        for k, v in FA_mf_old.items():\n",
    "            r.add_metabolites({k: v})\n",
    "        for k, v in FAME_lipid_mf.items():\n",
    "            r.add_metabolites({k+'_r': -v})"
   ]
  },
  {
   "cell_type": "code",
   "execution_count": 80,
   "metadata": {},
   "outputs": [
    {
     "data": {
      "text/plain": [
       "1.0"
      ]
     },
     "execution_count": 80,
     "metadata": {},
     "output_type": "execute_result"
    }
   ],
   "source": [
    "# Old FA molar fraction for sterol ester reactions releasing free fatty acid\n",
    "# This appeared in iMM904, but not clear where the numbers are taken from\n",
    "FA_mf_old = {'hdca_c': 0.02, 'hdcea_c': 0.655, 'hexc_c': 0.01, 'ocdca_c': 0.03, 'ocdcea_c': 0.27, 'ttdca_c': 0.015}\n",
    "sum(FA_mf_old.values())"
   ]
  },
  {
   "cell_type": "code",
   "execution_count": 81,
   "metadata": {},
   "outputs": [
    {
     "name": "stdout",
     "output_type": "stream",
     "text": [
      "EPISTESTH_RT: 0.01 epistest_RT_d + h2o_c --> epist_c + h_c + 0.02 hdca_c + 0.655 hdcea_c + 0.01 hexc_c + 0.03 ocdca_c + 0.27 ocdcea_c + 0.015 ttdca_c 14247 or 14617\n",
      "ERGSTESTH_RT: 0.01 ergstest_RT_d + h2o_c --> ergst_c + h_c + 0.02 hdca_c + 0.655 hdcea_c + 0.01 hexc_c + 0.03 ocdca_c + 0.27 ocdcea_c + 0.015 ttdca_c 14247 or 14617\n",
      "FECOSTESTH_RT: 0.01 fecostest_RT_d + h2o_c --> fecost_c + h_c + 0.02 hdca_c + 0.655 hdcea_c + 0.01 hexc_c + 0.03 ocdca_c + 0.27 ocdcea_c + 0.015 ttdca_c 14247 or 14617\n",
      "LANOSTESTH_RT: h2o_c + 0.01 lanostest_RT_d --> h_c + 0.02 hdca_c + 0.655 hdcea_c + 0.01 hexc_c + lanost_c + 0.03 ocdca_c + 0.27 ocdcea_c + 0.015 ttdca_c 14247 or 14617\n",
      "ZYMSTESTH_RT: h2o_c + 0.01 zymstest_RT_d --> h_c + 0.02 hdca_c + 0.655 hdcea_c + 0.01 hexc_c + 0.03 ocdca_c + 0.27 ocdcea_c + 0.015 ttdca_c + zymst_c 14247 or 14617\n"
     ]
    }
   ],
   "source": [
    "for r in sorted(model.metabolites.get_by_id('hdca_c').reactions, key=lambda x: x.id):\n",
    "    if r.get_coefficient('hdca_c') == 0.02:\n",
    "        print(r, r.gene_reaction_rule)"
   ]
  },
  {
   "cell_type": "code",
   "execution_count": 82,
   "metadata": {},
   "outputs": [],
   "source": [
    "for r in sorted(model.metabolites.get_by_id('hdca_c').reactions, key=lambda x: x.id):\n",
    "    if r.get_coefficient('hdca_c') == 0.02:\n",
    "        for k, v in FA_mf_old.items():\n",
    "            r.add_metabolites({k: -v})\n",
    "        for k, v in FAME_lipid_mf.items():\n",
    "            r.add_metabolites({FAcoa_FA_map[k]+'_c': v})"
   ]
  },
  {
   "cell_type": "code",
   "execution_count": 83,
   "metadata": {},
   "outputs": [],
   "source": [
    "# Add sink reaction for lipid accumulation and mobilization\n",
    "for x in ['epistest_RT_d','ergstest_RT_d','fecostest_RT_d','lanostest_RT_d','zymstest_RT_d']:\n",
    "    r = cobra.Reaction('SK_'+x)\n",
    "    r.name = 'Demand needed to allow ' + model.metabolites.get_by_id(x).name.split('  ')[0] + \\\n",
    "             ' to accumulate in lipid droplet'\n",
    "    model.add_reactions([r])\n",
    "    r.add_metabolites({x: -1.0})"
   ]
  },
  {
   "cell_type": "code",
   "execution_count": 84,
   "metadata": {},
   "outputs": [
    {
     "name": "stdout",
     "output_type": "stream",
     "text": [
      "BIOMASS_RT: 1.1348 13BDglcn_c + 1e-06 5mthf_c + 0.4588 ala__L_c + 0.046 amp_c + 0.1607 arg__L_c + 0.1017 asn__L_c + 0.2975 asp__L_c + 59.276 atp_c + 1e-06 btn_m + 1e-06 camp_c + 0.0447 cmp_c + 1e-06 coa_c + 0.0066 cys__L_c + 0.0036 damp_c + 0.0024 dcmp_c + 0.0024 dgmp_c + 0.0036 dtmp_c + 0.0007 ergst_r + 1e-06 fad_c + 0.1054 gln__L_c + 0.3018 glu__L_c + 0.2904 gly_c + 0.5185 glycogen_c + 0.046 gmp_c + 1e-06 gthrd_c + 59.276 h2o_c + 1e-06 hemeA_m + 0.0663 his__L_c + 0.1927 ile__L_c + 0.2964 leu__L_c + 1e-06 lipopb_m + 0.2862 lys__L_c + 0.8079 mannan_r + 0.0507 met__L_c + 1e-06 mlthf_c + 1e-06 nad_c + 1e-06 nadp_c + 6e-06 pa_RT_r + 6e-05 pc_RT_r + 4.5e-05 pe_RT_r + 0.1339 phe__L_c + 0.1647 pro__L_c + 1.7e-05 ps_RT_r + 5.3e-05 ptd1ino_RT_r + 1e-06 ptrc_c + 1e-06 pydx5p_c + 1e-06 q9_m + 0.00099 ribflv_c + 0.1854 ser__L_c + 0.02 so4_c + 1e-06 spmd_c + 1e-06 thf_c + 1e-06 thmpp_c + 0.1914 thr__L_c + 0.0234 tre_c + 6.6e-05 triglyc_RT_r + 0.0284 trp__L_c + 0.102 tyr__L_c + 0.0599 ump_c + 0.2646 val__L_c + 0.0015 zymst_r --> 59.276 adp_c + 58.70001 h_c + 59.305 pi_c  {'charge': -0.01617199999997561, 'C': -36.03979100000002, 'H': -65.6821809999999, 'O': -23.676359000000236, 'N': -5.596535000000022, 'P': -0.19771400000000136, 'S': -0.077306, 'Fe': -1e-06}\n"
     ]
    }
   ],
   "source": [
    "for r in sorted(model.reactions, key=lambda x: x.id):\n",
    "    if not r.boundary and sum(abs(x) for x in r.check_mass_balance().values()) > 1e-12:\n",
    "        print(r, r.gene_reaction_rule, r.check_mass_balance())"
   ]
  },
  {
   "cell_type": "code",
   "execution_count": 85,
   "metadata": {},
   "outputs": [],
   "source": [
    "lipid_weight_fraction = 0.0813"
   ]
  },
  {
   "cell_type": "code",
   "execution_count": 86,
   "metadata": {},
   "outputs": [
    {
     "name": "stdout",
     "output_type": "stream",
     "text": [
      "{'pa_RT_r': 0.011563999999999998, 'pc_RT_r': 0.16602599999999998, 'pe_RT_r': 0.118531, 'ps_RT_r': 0.019411, 'ptd1ino_RT_r': 0.049146999999999996, 'clpn_RT_m': 0.031388, 'psphings_r': 0.015694, 'triglyc_RT_r': 0.46783899999999995, 'ergst_r': 0.0196645, 'zymst_r': 0.0196645, 'ergstest_RT_r': 0.013207499999999999, 'zymstest_RT_d': 0.013207499999999999}\n",
      "0.945344\n"
     ]
    }
   ],
   "source": [
    "# Numbers from Rh. glutinis in \"Lipid Composition of 30 Speciesof Yeast\"\n",
    "# https://link.springer.com/article/10.1007/BF02532989\n",
    "# Assume equal composition between ergst and zymst - no data\n",
    "# Sphingolipid - include psphings_r as a precursor to ceramides for the unidentified 3.8% \n",
    "lipidomics = {\n",
    "    'pa_RT_r': 0.413*2.8/100,\n",
    "    'pc_RT_r': 0.413*40.2/100,\n",
    "    'pe_RT_r': 0.413*28.7/100,\n",
    "    'ps_RT_r': 0.413*4.7/100,\n",
    "    'ptd1ino_RT_r': 0.413*11.9/100,\n",
    "    'clpn_RT_m': 0.413*7.6/100,\n",
    "    'psphings_r': 0.413*3.8/100,\n",
    "    'triglyc_RT_r': 0.587*79.7/100,\n",
    "    'ergst_r': 0.587*6.7/100*0.5,\n",
    "    'zymst_r': 0.587*6.7/100*0.5,\n",
    "    'ergstest_RT_r': 0.587*4.5/100*0.5,\n",
    "    'zymstest_RT_d': 0.587*4.5/100*0.5\n",
    "}\n",
    "#lipidomics = pd.DataFrame(lipidomics.items(), columns=['identifiers','abundances'])\n",
    "print(lipidomics)\n",
    "print(sum(lipidomics.values()))"
   ]
  },
  {
   "cell_type": "code",
   "execution_count": 87,
   "metadata": {},
   "outputs": [
    {
     "data": {
      "text/plain": [
       "{<Metabolite pa_RT_r at 0x101fe99cc0>: -1.351153236901054e-05,\n",
       " <Metabolite pc_RT_r at 0x101fe99ef0>: -0.00017239181747866222,\n",
       " <Metabolite pe_RT_r at 0x101d2721d0>: -0.00013006590032135413,\n",
       " <Metabolite ps_RT_r at 0x101fea42e8>: -2.013156086582689e-05,\n",
       " <Metabolite ptd1ino_RT_r at 0x101fea41d0>: -4.6517100627855964e-05,\n",
       " <Metabolite clpn_RT_m at 0x101fbd9ba8>: -1.7602448653658758e-05,\n",
       " <Metabolite psphings_r at 0x101d2b6e80>: -0.004005845248780984,\n",
       " <Metabolite triglyc_RT_r at 0x101fe99d68>: -0.0004318611298933685,\n",
       " <Metabolite ergst_r at 0x101d2b6cc0>: -0.004030582276956849,\n",
       " <Metabolite zymst_r at 0x101fe999e8>: -0.004156441285546507,\n",
       " <Metabolite ergstest_RT_r at 0x101fe99dd8>: -1.6378266962889334e-05,\n",
       " <Metabolite zymstest_RT_d at 0x101fea4128>: -1.6683916045061826e-05}"
      ]
     },
     "execution_count": 87,
     "metadata": {},
     "output_type": "execute_result"
    }
   ],
   "source": [
    "lipid_coefficients = {}\n",
    "for k, v in lipidomics.items():\n",
    "    m = model.metabolites.get_by_id(k)\n",
    "    lipid_coefficients[m] = -lipid_weight_fraction*v/m.formula_weight*1000\n",
    "lipid_coefficients"
   ]
  },
  {
   "cell_type": "code",
   "execution_count": 88,
   "metadata": {},
   "outputs": [
    {
     "name": "stdout",
     "output_type": "stream",
     "text": [
      "0.4133\n"
     ]
    }
   ],
   "source": [
    "# Numbers are from S. cer model\n",
    "# 1,6 beta glucan and chitin numbers are taken from\n",
    "# \"A study of the yeast cell wall composition and structure in response to growth conditions and mode of cultivation\"\n",
    "# https://onlinelibrary.wiley.com/doi/full/10.1046/j.1472-765X.2003.01394.x\n",
    "# 1,6 beta glucan - 15.625% of total glucan \n",
    "# Chitin - 2% of the cell wall dry mass - for simplicity (13.1+18.4)*0.2\n",
    "carb_weight_fraction = {\n",
    "    'glycogen_c': 8.4/100,\n",
    "    'tre_c': 0.8/100,\n",
    "    'mannan_r': 13.1/100,\n",
    "    '13BDglcn_c': 18.4*0.84375/100,\n",
    "    '16BDglcn_c': 18.4*0.15625/100,\n",
    "    'chitin_c': 0.63/100,\n",
    "}\n",
    "print(sum(carb_weight_fraction.values()))"
   ]
  },
  {
   "cell_type": "code",
   "execution_count": 89,
   "metadata": {},
   "outputs": [
    {
     "data": {
      "text/plain": [
       "{<Metabolite glycogen_c at 0x101d2aa978>: -0.5180688858928609,\n",
       " <Metabolite tre_c at 0x101d2c22b0>: -0.02337155205335445,\n",
       " <Metabolite mannan_r at 0x101d29f4e0>: -0.8079407625233902,\n",
       " <Metabolite 13BDglcn_c at 0x101d2b62e8>: -0.9575023158912697,\n",
       " <Metabolite 16BDglcn_c at 0x101d29fc18>: -0.17731524368356846,\n",
       " <Metabolite chitin_c at 0x101d25b2e8>: -0.031005078336545068}"
      ]
     },
     "execution_count": 89,
     "metadata": {},
     "output_type": "execute_result"
    }
   ],
   "source": [
    "carb_coefficients = {}\n",
    "for k, v in carb_weight_fraction.items():\n",
    "    m = model.metabolites.get_by_id(k)\n",
    "    carb_coefficients[m] = -v/m.formula_weight*1000\n",
    "carb_coefficients"
   ]
  },
  {
   "cell_type": "code",
   "execution_count": 90,
   "metadata": {},
   "outputs": [],
   "source": [
    "# Remove ATP maintenance part\n",
    "for x in ['atp_c','adp_c','h_c','pi_c']:\n",
    "    m = model.metabolites.get_by_id(x)\n",
    "    v = model.reactions.get_by_id('BIOMASS_RT').get_coefficient(m)\n",
    "    model.reactions.get_by_id('BIOMASS_RT').add_metabolites({m: -v})"
   ]
  },
  {
   "cell_type": "code",
   "execution_count": 91,
   "metadata": {},
   "outputs": [],
   "source": [
    "# Remove nmp and dnmp from S. cer and replace with ntp and dntp\n",
    "for x in ['amp_c','ump_c','gmp_c','cmp_c','damp_c','dtmp_c','dgmp_c','dcmp_c']:\n",
    "    m = model.metabolites.get_by_id(x)\n",
    "    v = model.reactions.get_by_id('BIOMASS_RT').get_coefficient(m)\n",
    "    model.reactions.get_by_id('BIOMASS_RT').add_metabolites({m: -v})"
   ]
  },
  {
   "cell_type": "code",
   "execution_count": 92,
   "metadata": {
    "scrolled": true
   },
   "outputs": [],
   "source": [
    "# Existing dna and rna coefficient\n",
    "for m, v in model.reactions.get_by_id('BIOMASS_RT').metabolites.items():\n",
    "    if m in list({**dna_coefficients,**rna_coefficients}):\n",
    "        print(m.id, v)"
   ]
  },
  {
   "cell_type": "code",
   "execution_count": 93,
   "metadata": {},
   "outputs": [],
   "source": [
    "# Update dna and rna coefficient\n",
    "for k, v in dna_coefficients.items():\n",
    "    model.reactions.get_by_id('BIOMASS_RT').add_metabolites({k: round(v,6)})\n",
    "for k, v in rna_coefficients.items():\n",
    "    model.reactions.get_by_id('BIOMASS_RT').add_metabolites({k: round(v,6)})"
   ]
  },
  {
   "cell_type": "code",
   "execution_count": 94,
   "metadata": {
    "scrolled": true
   },
   "outputs": [],
   "source": [
    "# Remove existing protein, lipid, carbohydrate coefficient\n",
    "for m, v in model.reactions.get_by_id('BIOMASS_RT').metabolites.items():\n",
    "    if m in list({**protein_coefficients,**lipid_coefficients,**carb_coefficients}):\n",
    "        model.reactions.get_by_id('BIOMASS_RT').add_metabolites({m: -v})"
   ]
  },
  {
   "cell_type": "code",
   "execution_count": 95,
   "metadata": {},
   "outputs": [],
   "source": [
    "# Replace amino acids with aminoacyl-tRNA in protein coefficient\n",
    "for k, v in protein_coefficients.copy().items():\n",
    "    if not k.id == 'h2o_c':\n",
    "        protein_coefficients.update({model.metabolites.get_by_id(k.id[0:3]+'trna_c'): v})\n",
    "        protein_coefficients.pop(k)"
   ]
  },
  {
   "cell_type": "code",
   "execution_count": 96,
   "metadata": {},
   "outputs": [],
   "source": [
    "# Add source reaction for tRNAs\n",
    "for k, v in protein_coefficients.items():\n",
    "    if not k.id == 'h2o_c':\n",
    "        r = model.reactions.get_by_id('SRC_8aonn_m').copy()\n",
    "        r.id = 'SRC_trna'+k.id[0:3]+'_c'\n",
    "        r.name = model.metabolites.get_by_id('trna'+k.id[0:3]+'_c').name+' demand'\n",
    "        model.add_reactions([r])\n",
    "        r.add_metabolites({'8aonn_m': -1.0, 'trna'+k.id[0:3]+'_c': 1.0})"
   ]
  },
  {
   "cell_type": "code",
   "execution_count": 97,
   "metadata": {
    "scrolled": true
   },
   "outputs": [],
   "source": [
    "# Update protein coefficient\n",
    "for k, v in protein_coefficients.items():\n",
    "    model.reactions.get_by_id('BIOMASS_RT').add_metabolites({k: round(v,6)})"
   ]
  },
  {
   "cell_type": "code",
   "execution_count": 98,
   "metadata": {},
   "outputs": [],
   "source": [
    "# Update lipid and carbohydrate coefficient\n",
    "for k, v in lipid_coefficients.items():\n",
    "    model.reactions.get_by_id('BIOMASS_RT').add_metabolites({k: round(v,6)})\n",
    "for k, v in carb_coefficients.items():\n",
    "    model.reactions.get_by_id('BIOMASS_RT').add_metabolites({k: round(v,6)})"
   ]
  },
  {
   "cell_type": "code",
   "execution_count": 99,
   "metadata": {
    "scrolled": true
   },
   "outputs": [
    {
     "name": "stdout",
     "output_type": "stream",
     "text": [
      "datp_c -0.002451\n",
      "dttp_c -0.002523\n",
      "dctp_c -0.004285\n",
      "dgtp_c -0.003763\n",
      "ppi_c 0.209364\n",
      "atp_c -0.049247\n",
      "utp_c -0.051129\n",
      "ctp_c -0.044881\n",
      "gtp_c -0.051085\n",
      "h2o_c 3.919814\n",
      "alatrna_c -0.577574\n",
      "cystrna_c -0.034269\n",
      "asptrna_c -0.197296\n",
      "glutrna_c -0.208673\n",
      "phetrna_c -0.095164\n",
      "glytrna_c -0.51322\n",
      "histrna_c -0.061167\n",
      "iletrna_c -0.158569\n",
      "lystrna_c -0.172334\n",
      "leutrna_c -0.320205\n",
      "mettrna_c -0.05705\n",
      "asntrna_c -0.10797\n",
      "protrna_c -0.235897\n",
      "glntrna_c -0.117898\n",
      "argtrna_c -0.146675\n",
      "sertrna_c -0.33687\n",
      "thrtrna_c -0.21813\n",
      "valtrna_c -0.275168\n",
      "trptrna_c -0.023319\n",
      "tyrtrna_c -0.062363\n",
      "pa_RT_r -1.4e-05\n",
      "pc_RT_r -0.000172\n",
      "pe_RT_r -0.00013\n",
      "ps_RT_r -2e-05\n",
      "ptd1ino_RT_r -4.7e-05\n",
      "clpn_RT_m -1.8e-05\n",
      "psphings_r -0.004006\n",
      "triglyc_RT_r -0.000432\n",
      "ergst_r -0.004031\n",
      "zymst_r -0.004156\n",
      "ergstest_RT_r -1.6e-05\n",
      "zymstest_RT_d -1.7e-05\n",
      "glycogen_c -0.518069\n",
      "tre_c -0.023372\n",
      "mannan_r -0.807941\n",
      "13BDglcn_c -0.957502\n",
      "16BDglcn_c -0.177315\n",
      "chitin_c -0.031005\n",
      "\n",
      "ribflv_c -0.00099\n",
      "so4_c -0.02\n",
      "\n",
      "5mthf_c -1e-06\n",
      "btn_m -1e-06\n",
      "camp_c -1e-06\n",
      "coa_c -1e-06\n",
      "fad_c -1e-06\n",
      "gthrd_c -1e-06\n",
      "hemeA_m -1e-06\n",
      "lipopb_m -1e-06\n",
      "mlthf_c -1e-06\n",
      "nad_c -1e-06\n",
      "nadp_c -1e-06\n",
      "ptrc_c -1e-06\n",
      "pydx5p_c -1e-06\n",
      "q9_m -1e-06\n",
      "spmd_c -1e-06\n",
      "thf_c -1e-06\n",
      "thmpp_c -1e-06\n"
     ]
    }
   ],
   "source": [
    "for m, v in model.reactions.get_by_id('BIOMASS_RT').metabolites.items():\n",
    "    if m in list({**dna_coefficients,**rna_coefficients,**protein_coefficients,**lipid_coefficients,\n",
    "                      **carb_coefficients}):\n",
    "        print(m.id, v)\n",
    "print()\n",
    "for m, v in model.reactions.get_by_id('BIOMASS_RT').metabolites.items():\n",
    "    if m not in list({**dna_coefficients,**rna_coefficients,**protein_coefficients,**lipid_coefficients,\n",
    "                      **carb_coefficients}):\n",
    "        if not v == -1e-6:\n",
    "            print(m.id, v)\n",
    "print()\n",
    "for m, v in model.reactions.get_by_id('BIOMASS_RT').metabolites.items():\n",
    "    if m not in list({**dna_coefficients,**rna_coefficients,**protein_coefficients,**lipid_coefficients,\n",
    "                      **carb_coefficients}):\n",
    "        if v == -1e-6:\n",
    "            print(m.id, v)"
   ]
  },
  {
   "cell_type": "code",
   "execution_count": 100,
   "metadata": {},
   "outputs": [
    {
     "data": {
      "text/plain": [
       "{'charge': 0.08862290756031035,\n",
       " 'C': 1.0,\n",
       " 'H': 1.5307670345966224,\n",
       " 'N': 0.14287442070464182,\n",
       " 'O': 0.437419043074669,\n",
       " 'S': 0.0027601874968775104,\n",
       " 'P': 0.008907180218982725,\n",
       " 'Fe': 2.479395910062888e-08,\n",
       " 'R': 0.09986463738029007}"
      ]
     },
     "execution_count": 100,
     "metadata": {},
     "output_type": "execute_result"
    }
   ],
   "source": [
    "temp = model.reactions.get_by_id('BIOMASS_RT').check_mass_balance()\n",
    "x = temp['C']\n",
    "for k, v in temp.items():\n",
    "    temp[k] = v/x\n",
    "temp"
   ]
  },
  {
   "cell_type": "code",
   "execution_count": 101,
   "metadata": {},
   "outputs": [],
   "source": [
    "# Remove so4_c, sulfur content seems to be enough\n",
    "# C H1.769 N0.146O0.631 P0.009 S0.00162 M0.019 for S. cer\n",
    "# https://onlinelibrary.wiley.com/doi/pdf/10.1002/bit.10054\n",
    "# P content seems low, possible due to low DNA and RNA composition\n",
    "model.reactions.get_by_id('BIOMASS_RT').add_metabolites({'so4_c': 0.02})"
   ]
  },
  {
   "cell_type": "code",
   "execution_count": 102,
   "metadata": {},
   "outputs": [
    {
     "data": {
      "text/plain": [
       "{'charge': 0.08961466592433551,\n",
       " 'C': 1.0,\n",
       " 'H': 1.5307670345966224,\n",
       " 'N': 0.14287442070464182,\n",
       " 'O': 0.43543552634661864,\n",
       " 'S': 0.0022643083148649323,\n",
       " 'P': 0.008907180218982725,\n",
       " 'Fe': 2.479395910062888e-08,\n",
       " 'R': 0.09986463738029007}"
      ]
     },
     "execution_count": 102,
     "metadata": {},
     "output_type": "execute_result"
    }
   ],
   "source": [
    "temp = model.reactions.get_by_id('BIOMASS_RT').check_mass_balance()\n",
    "x = temp['C']\n",
    "for k, v in temp.items():\n",
    "    temp[k] = v/x\n",
    "temp"
   ]
  },
  {
   "cell_type": "code",
   "execution_count": 103,
   "metadata": {},
   "outputs": [
    {
     "name": "stdout",
     "output_type": "stream",
     "text": [
      "EX_mg2_e: mg2_e <=>  Mg exchange \n",
      "MG2t: mg2_e <=> mg2_c Magnesium (Mg+2) transport via diffusion \n",
      "EX_mn2_e: mn2_e <=>  Mn2+ exchange \n",
      "MNt: mn2_e <=> mn2_c Manganese (Mn+2) transport via diffusion \n",
      "CU2t: cu2_e <=> cu2_c Copper (Cu+2) transport via diffusion \n",
      "EX_cu2_e: cu2_e <=>  Cu2+ exchange \n",
      "Zn2t: zn2_e <=> zn2_c Zinc (Zn+2) transport via diffusion \n",
      "EX_zn2_e: zn2_e <=>  Zinc exchange \n"
     ]
    }
   ],
   "source": [
    "# S. cerevisiae https://onlinelibrary.wiley.com/doi/pdf/10.1002/bit.10054\n",
    "# On average, the elements K, Mg, and Na made up 2.29, 0.15, and 0.06%, respectively, of the biomass.\n",
    "# Ca, Fe, Mn, Cu, and Zn accounted for a total of 0.02%\n",
    "# Add mg2, mn2, cu2, zn2 exchange and transport reactions from E. coli model\n",
    "# Add K transporter from S. cer model\n",
    "for x in ['mg2','mn2','cu2','zn2']:\n",
    "    if not x+'_c' in model.metabolites:\n",
    "        m = eco.metabolites.get_by_id(x+'_c').copy()\n",
    "        model.add_metabolites([m])\n",
    "    for y in eco.metabolites.get_by_id(x+'_e').reactions:\n",
    "        r = y.copy()\n",
    "        r.gene_reaction_rule = ''\n",
    "        r.name = r.name.replace(' (extracellular to periplasm)','')\n",
    "        model.add_reactions([r])\n",
    "        if r.id.endswith('tex'):\n",
    "            r.id = r.id.replace('tex','t')\n",
    "            r.add_metabolites({x+'_p': -1.0, x+'_c': 1.0})\n",
    "        print(r, r.name, r.gene_reaction_rule)\n",
    "    model.remove_metabolites([model.metabolites.get_by_id(x+'_p')])\n",
    "\n",
    "model.reactions.get_by_id('EX_k_e').lower_bound = -1000.0\n",
    "r = sce.reactions.get_by_id('Kt2r').copy()\n",
    "r.lower_bound = -1000.0\n",
    "r.upper_bound = 1000.0\n",
    "model.add_reactions([r])\n",
    "model.reactions.get_by_id('EX_ca2_e').lower_bound = -1000.0\n",
    "r = hsa2.reactions.get_by_id('CA2t').copy()\n",
    "model.add_reactions([r])\n",
    "model.reactions.get_by_id('EX_na1_e').lower_bound = -1000.0"
   ]
  },
  {
   "cell_type": "code",
   "execution_count": 104,
   "metadata": {},
   "outputs": [
    {
     "name": "stdout",
     "output_type": "stream",
     "text": [
      "0.0252\n"
     ]
    }
   ],
   "source": [
    "# Assume equal composition for Ca2+, Fe2+, Fe3+, Mn2+, Cu2+, and Zn2+\n",
    "metal_weight_fraction = {\n",
    "    'k_c': 2.29/100,\n",
    "    'mg2_c': 0.15/100,\n",
    "    'na1_c': 0.06/100,\n",
    "    'ca2_c': 0.02/100/6,\n",
    "    'fe2_c': 0.02/100/6,\n",
    "    'fe3_c': 0.02/100/6,\n",
    "    'mn2_c': 0.02/100/6,\n",
    "    'cu2_c': 0.02/100/6,\n",
    "    'zn2_c': 0.02/100/6    \n",
    "}\n",
    "print(sum(metal_weight_fraction.values()))"
   ]
  },
  {
   "cell_type": "code",
   "execution_count": 105,
   "metadata": {},
   "outputs": [
    {
     "data": {
      "text/plain": [
       "{<Metabolite k_c at 0x101fbfbda0>: -0.5857032147177754,\n",
       " <Metabolite mg2_c at 0x1022b3d5f8>: -0.06171569635877392,\n",
       " <Metabolite na1_c at 0x101d2896a0>: -0.026098564709433805,\n",
       " <Metabolite ca2_c at 0x101fcbd860>: -0.0008317114959162965,\n",
       " <Metabolite fe2_c at 0x101d272208>: -0.0005968902020473335,\n",
       " <Metabolite fe3_c at 0x101fcbd0f0>: -0.0005968902020473335,\n",
       " <Metabolite mn2_c at 0x101c3a1e48>: -0.0006067440315059848,\n",
       " <Metabolite cu2_c at 0x101fc10630>: -0.0005245543910448074,\n",
       " <Metabolite zn2_c at 0x1022b35898>: -0.0005096138655740545}"
      ]
     },
     "execution_count": 105,
     "metadata": {},
     "output_type": "execute_result"
    }
   ],
   "source": [
    "metal_coefficients = {}\n",
    "for k, v in metal_weight_fraction.items():\n",
    "    m = model.metabolites.get_by_id(k)\n",
    "    metal_coefficients[m] = -v/m.formula_weight*1000\n",
    "metal_coefficients"
   ]
  },
  {
   "cell_type": "code",
   "execution_count": 106,
   "metadata": {},
   "outputs": [],
   "source": [
    "for k, v in metal_coefficients.items():\n",
    "    model.reactions.get_by_id('BIOMASS_RT').add_metabolites({k: round(v,6)})"
   ]
  },
  {
   "cell_type": "code",
   "execution_count": 107,
   "metadata": {},
   "outputs": [
    {
     "name": "stdout",
     "output_type": "stream",
     "text": [
      "0.9828\n"
     ]
    },
    {
     "data": {
      "image/png": "[encoded data removed]",
      "text/plain": [
       "<Figure size 864x288 with 3 Axes>"
      ]
     },
     "metadata": {},
     "output_type": "display_data"
    }
   ],
   "source": [
    "fig, axes = plt.subplots(1,3, figsize=(12,4))\n",
    "\n",
    "Data = pd.Series()\n",
    "Data['DNA'] = dna_weight_fraction\n",
    "Data['RNA'] = rna_weight_fraction\n",
    "Data['Protein'] = protein_weight_fraction\n",
    "Data['Lipid'] = lipid_weight_fraction\n",
    "Data['Glycogen'] = 0.084\n",
    "Data['Trehalose'] = 0.008\n",
    "Data['Mannan'] = 0.131\n",
    "Data['Glucan'] = 0.184\n",
    "Data['Chitin'] = 0.0063\n",
    "Data['Metal'] = 0.0252\n",
    "#Data = Data/Data.sum()\n",
    "print(Data.sum())\n",
    "Data.plot.pie(title='Cell', ax=axes[0])\n",
    "axes[0].set_ylabel('')\n",
    "\n",
    "Data = FAME_fit['cell']/FAME_fit['cell'].sum()\n",
    "Data.plot.pie(title='Cell Lipid', ax=axes[1])\n",
    "axes[1].set_ylabel('')\n",
    "\n",
    "#Data = FAME_fit['lipid_body'][FAME_fit['lipid_body'] > 0.01]\n",
    "Data = FAME_fit['lipid_body']/FAME_fit['lipid_body'].sum()\n",
    "Data.plot.pie(title='Lipid body', ax=axes[2])\n",
    "axes[2].set_ylabel('')\n",
    "\n",
    "plt.tight_layout()\n",
    "plt.show()"
   ]
  },
  {
   "cell_type": "code",
   "execution_count": 108,
   "metadata": {},
   "outputs": [
    {
     "name": "stdout",
     "output_type": "stream",
     "text": [
      "5mthf_c -1e-06\n",
      "btn_m -1e-06\n",
      "camp_c -1e-06\n",
      "coa_c -1e-06\n",
      "fad_c -1e-06\n",
      "gthrd_c -1e-06\n",
      "hemeA_m -1e-06\n",
      "lipopb_m -1e-06\n",
      "mlthf_c -1e-06\n",
      "nad_c -1e-06\n",
      "nadp_c -1e-06\n",
      "ptrc_c -1e-06\n",
      "pydx5p_c -1e-06\n",
      "q9_m -1e-06\n",
      "ribflv_c -0.00099\n",
      "spmd_c -1e-06\n",
      "thf_c -1e-06\n",
      "thmpp_c -1e-06\n",
      "\n",
      "0.000380526416594\n"
     ]
    }
   ],
   "source": [
    "# The rest of the components and their mass fraction %\n",
    "temp = 0\n",
    "for m, v in model.reactions.get_by_id('BIOMASS_RT').metabolites.items():\n",
    "    if m not in list({**dna_coefficients,**rna_coefficients,**protein_coefficients,**lipid_coefficients,\n",
    "                      **carb_coefficients,**metal_coefficients}):\n",
    "        print(m.id, v)\n",
    "        temp = temp - m.formula_weight*v/1000\n",
    "print()\n",
    "print(temp)"
   ]
  },
  {
   "cell_type": "code",
   "execution_count": 109,
   "metadata": {},
   "outputs": [
    {
     "data": {
      "text/plain": [
       "{<Metabolite camp_c at 0x101d29f5c0>: -0.0017923183332175356,\n",
       " <Metabolite coa_c at 0x101d25b358>: -0.0007704433183498177,\n",
       " <Metabolite fad_c at 0x101d2725c0>: -0.0007507464867136107,\n",
       " <Metabolite gthrd_c at 0x101d2683c8>: -0.001920357335176815,\n",
       " <Metabolite hemeA_m at 0x101fbf0e48>: -0.0006913735255247936,\n",
       " <Metabolite nad_c at 0x101d251e80>: -0.0008880133665945797,\n",
       " <Metabolite nadp_c at 0x101d243f60>: -0.0007945033013050617,\n",
       " <Metabolite q9_m at 0x101fe8d588>: -0.0007397078805998098,\n",
       " <Metabolite thf_c at 0x101d2724a8>: -0.0013266071203848922,\n",
       " <Metabolite thmpp_c at 0x101d2729b0>: -0.0013929633931000502,\n",
       " <Metabolite 5mthf_c at 0x101d2b67b8>: -0.0012831018430703267,\n",
       " <Metabolite btn_m at 0x101fcc85f8>: -0.0024177096847574943,\n",
       " <Metabolite lipopb_m at 0x101fe99b00>: -0.0031071245763754124,\n",
       " <Metabolite mlthf_c at 0x101d27ed30>: -0.0012916210881569782,\n",
       " <Metabolite ptrc_c at 0x101d2899e8>: -0.0065238163135490175,\n",
       " <Metabolite pydx5p_c at 0x101fbd9a90>: -0.0023997264252362017,\n",
       " <Metabolite spmd_c at 0x101d2727f0>: -0.0039673336727889825}"
      ]
     },
     "execution_count": 109,
     "metadata": {},
     "output_type": "execute_result"
    }
   ],
   "source": [
    "# Assume equal composition of cofactors and 1% total weight fraction\n",
    "cofactors = ['camp_c','coa_c','fad_c','gthrd_c','hemeA_m','nad_c','nadp_c','q9_m','thf_c','thmpp_c',\n",
    "             '5mthf_c','btn_m','lipopb_m','mlthf_c','ptrc_c','pydx5p_c','spmd_c']\n",
    "cofactor_coefficients = dict()\n",
    "for k in cofactors:\n",
    "    m = model.metabolites.get_by_id(k)\n",
    "    cofactor_coefficients[m] = -0.01/len(cofactors)/m.formula_weight*1000\n",
    "cofactor_coefficients"
   ]
  },
  {
   "cell_type": "code",
   "execution_count": 110,
   "metadata": {},
   "outputs": [],
   "source": [
    "for k, v in cofactor_coefficients.items():\n",
    "    v_old = model.reactions.get_by_id('BIOMASS_RT').get_coefficient(k)\n",
    "    model.reactions.get_by_id('BIOMASS_RT').add_metabolites({k: -v_old})\n",
    "    model.reactions.get_by_id('BIOMASS_RT').add_metabolites({k: round(v,6)})"
   ]
  },
  {
   "cell_type": "code",
   "execution_count": 111,
   "metadata": {
    "scrolled": true
   },
   "outputs": [
    {
     "data": {
      "text/plain": [
       "0.9888242707321281"
      ]
     },
     "execution_count": 111,
     "metadata": {},
     "output_type": "execute_result"
    }
   ],
   "source": [
    "temp = 0\n",
    "for k, v in model.reactions.get_by_id('BIOMASS_RT').metabolites.items():\n",
    "    if 'trna' in k.id:\n",
    "        if 'gly' in k.id:\n",
    "            temp = temp - model.metabolites.get_by_id(k.id[0:3]+'_c').formula_weight*v/1000\n",
    "        else:\n",
    "            temp = temp - model.metabolites.get_by_id(k.id[0:3]+'__L_c').formula_weight*v/1000\n",
    "    else:\n",
    "        temp = temp - k.formula_weight*v/1000\n",
    "temp"
   ]
  },
  {
   "cell_type": "code",
   "execution_count": 112,
   "metadata": {},
   "outputs": [
    {
     "name": "stdout",
     "output_type": "stream",
     "text": [
      "0.20995881730197788\n"
     ]
    }
   ],
   "source": [
    "sol = model.optimize()\n",
    "print(sol.objective_value)"
   ]
  },
  {
   "cell_type": "markdown",
   "metadata": {},
   "source": [
    "Estimate ATP maintenance cost  \n",
    "\"Kinetics of continuous cultivation of the oleaginous yeast Rhodosporidium toruloides\"  \n",
    "https://www.ncbi.nlm.nih.gov/pubmed/23965273"
   ]
  },
  {
   "cell_type": "code",
   "execution_count": 113,
   "metadata": {},
   "outputs": [],
   "source": [
    "model.reactions.get_by_id('ATPM').lower_bound = 0.0\n",
    "model.reactions.get_by_id('ATPM').upper_bound = 1000.0"
   ]
  },
  {
   "cell_type": "code",
   "execution_count": 114,
   "metadata": {},
   "outputs": [
    {
     "data": {
      "text/plain": [
       "0.0316392670613915"
      ]
     },
     "execution_count": 114,
     "metadata": {},
     "output_type": "execute_result"
    }
   ],
   "source": [
    "# maintenance cost 5.7 mg glucose / g cell mass / h\n",
    "5.7/model.metabolites.glc__D_c.formula_weight"
   ]
  },
  {
   "cell_type": "code",
   "execution_count": 115,
   "metadata": {},
   "outputs": [
    {
     "name": "stdout",
     "output_type": "stream",
     "text": [
      "1.2233849930404712\n"
     ]
    },
    {
     "data": {
      "text/html": [
       "<div>\n",
       "<style scoped>\n",
       "    .dataframe tbody tr th:only-of-type {\n",
       "        vertical-align: middle;\n",
       "    }\n",
       "\n",
       "    .dataframe tbody tr th {\n",
       "        vertical-align: top;\n",
       "    }\n",
       "\n",
       "    .dataframe thead tr th {\n",
       "        text-align: left;\n",
       "    }\n",
       "</style>\n",
       "<table border=\"1\" class=\"dataframe\">\n",
       "  <thead>\n",
       "    <tr>\n",
       "      <th></th>\n",
       "      <th colspan=\"2\" halign=\"left\">IN_FLUXES</th>\n",
       "      <th colspan=\"2\" halign=\"left\">OUT_FLUXES</th>\n",
       "      <th colspan=\"2\" halign=\"left\">OBJECTIVES</th>\n",
       "    </tr>\n",
       "    <tr>\n",
       "      <th></th>\n",
       "      <th>ID</th>\n",
       "      <th>FLUX</th>\n",
       "      <th>ID</th>\n",
       "      <th>FLUX</th>\n",
       "      <th>ID</th>\n",
       "      <th>FLUX</th>\n",
       "    </tr>\n",
       "  </thead>\n",
       "  <tbody>\n",
       "    <tr>\n",
       "      <th>0</th>\n",
       "      <td>o2_e</td>\n",
       "      <td>0.189836</td>\n",
       "      <td>co2_e</td>\n",
       "      <td>0.189836</td>\n",
       "      <td>ATPM</td>\n",
       "      <td>1.223385</td>\n",
       "    </tr>\n",
       "    <tr>\n",
       "      <th>1</th>\n",
       "      <td>glc__D_e</td>\n",
       "      <td>0.031639</td>\n",
       "      <td>h2o_e</td>\n",
       "      <td>0.189836</td>\n",
       "      <td>NaN</td>\n",
       "      <td>NaN</td>\n",
       "    </tr>\n",
       "  </tbody>\n",
       "</table>\n",
       "</div>"
      ],
      "text/plain": [
       "<cobra.core.summary.model_summary.ModelSummary at 0x116734e10>"
      ]
     },
     "metadata": {},
     "output_type": "display_data"
    }
   ],
   "source": [
    "with model:\n",
    "    model.reactions.get_by_id('EX_o2_e').lower_bound = -1000.0\n",
    "    model.reactions.get_by_id('EX_glc__D_e').lower_bound = -0.0316392670613915\n",
    "    model.objective = 'ATPM'\n",
    "    sol = model.optimize()\n",
    "    print(sol.objective_value)\n",
    "    display(model.summary())\n",
    "NGAM = round(sol.objective_value,2)"
   ]
  },
  {
   "cell_type": "code",
   "execution_count": 116,
   "metadata": {},
   "outputs": [
    {
     "data": {
      "text/plain": [
       "0.0756654696"
      ]
     },
     "execution_count": 116,
     "metadata": {},
     "output_type": "execute_result"
    }
   ],
   "source": [
    "# maximum cell mass yield on glucose 0.42 g cell / g glucose\n",
    "# convert the number to g cell / mmol glucose\n",
    "0.42*model.metabolites.glc__D_c.formula_weight/1000"
   ]
  },
  {
   "cell_type": "code",
   "execution_count": 117,
   "metadata": {},
   "outputs": [
    {
     "name": "stdout",
     "output_type": "stream",
     "text": [
      "0.27753743036308337\n",
      "2.470083130231442\n"
     ]
    }
   ],
   "source": [
    "# Glucose uptake range from \"Kinetics of continuous cultivation of the oleaginous yeast Rhodosporidium toruloides\"\n",
    "print(0.05/model.metabolites.glc__D_c.formula_weight*1000)\n",
    "print(0.445/model.metabolites.glc__D_c.formula_weight*1000)"
   ]
  },
  {
   "cell_type": "code",
   "execution_count": 118,
   "metadata": {
    "scrolled": true
   },
   "outputs": [
    {
     "name": "stdout",
     "output_type": "stream",
     "text": [
      "110.63239368442747 2.6828031603324685e-10\n"
     ]
    },
    {
     "data": {
      "image/png": "[encoded data removed]",
      "text/plain": [
       "<Figure size 432x288 with 1 Axes>"
      ]
     },
     "metadata": {
      "needs_background": "light"
     },
     "output_type": "display_data"
    }
   ],
   "source": [
    "temp = np.arange(0.2, 2.5, 0.2)\n",
    "GAM = []\n",
    "for x in temp:\n",
    "    with model:\n",
    "        model.reactions.get_by_id('EX_o2_e').lower_bound = -1000.0\n",
    "        model.reactions.get_by_id('EX_glc__D_e').lower_bound = -x\n",
    "        model.reactions.get_by_id('BIOMASS_RT').lower_bound = 0.0756654696*x\n",
    "        model.objective = 'ATPM'\n",
    "        sol = model.optimize()\n",
    "        GAM.append(sol.objective_value/0.0756654696/x)\n",
    "plt.scatter(temp,GAM)\n",
    "print(np.mean(GAM), np.std(GAM))"
   ]
  },
  {
   "cell_type": "code",
   "execution_count": 119,
   "metadata": {},
   "outputs": [
    {
     "name": "stdout",
     "output_type": "stream",
     "text": [
      "[7.56654696e-02 4.72728327e-16]\n"
     ]
    },
    {
     "data": {
      "text/plain": [
       "[<matplotlib.lines.Line2D at 0x1a2b1df9b0>,\n",
       " <matplotlib.lines.Line2D at 0x1a2b1dfb38>]"
      ]
     },
     "execution_count": 119,
     "metadata": {},
     "output_type": "execute_result"
    },
    {
     "data": {
      "image/png": "[encoded data removed]",
      "text/plain": [
       "<Figure size 432x288 with 1 Axes>"
      ]
     },
     "metadata": {
      "needs_background": "light"
     },
     "output_type": "display_data"
    }
   ],
   "source": [
    "temp = np.arange(0.2, 2.5, 0.2)\n",
    "y = []\n",
    "GAM = round(np.mean(GAM), 6)\n",
    "for x in temp:\n",
    "    with model:\n",
    "        model.reactions.get_by_id('EX_o2_e').lower_bound = -1000.0\n",
    "        model.reactions.get_by_id('EX_glc__D_e').lower_bound = -x\n",
    "        model.reactions.get_by_id('BIOMASS_RT').add_metabolites({'atp_c': -GAM, 'h2o_c': -GAM,\n",
    "                                                                 'adp_c': GAM, 'h_c': GAM, 'pi_c': GAM})\n",
    "        sol = model.optimize()\n",
    "        y.append(sol.objective_value)\n",
    "fit = np.polyfit(temp,y,1)\n",
    "print(fit)\n",
    "plt.plot(temp, y, 'o', temp, np.poly1d(fit)(temp), '--k')"
   ]
  },
  {
   "cell_type": "code",
   "execution_count": 120,
   "metadata": {},
   "outputs": [],
   "source": [
    "# Set non-growth associated ATP maintenance\n",
    "model.reactions.get_by_id('ATPM').lower_bound = NGAM\n",
    "model.reactions.get_by_id('ATPM').upper_bound = 1000.0"
   ]
  },
  {
   "cell_type": "code",
   "execution_count": 121,
   "metadata": {},
   "outputs": [],
   "source": [
    "# Set growth associated ATP maintenance\n",
    "model.reactions.get_by_id('BIOMASS_RT').add_metabolites({'atp_c': -GAM, 'h2o_c': -GAM,\n",
    "                                                         'adp_c': GAM, 'h_c': GAM, 'pi_c': GAM})"
   ]
  },
  {
   "cell_type": "code",
   "execution_count": 122,
   "metadata": {},
   "outputs": [
    {
     "name": "stdout",
     "output_type": "stream",
     "text": [
      "0.07327809353115868\n"
     ]
    }
   ],
   "source": [
    "model.reactions.get_by_id('EX_o2_e').lower_bound = -1000.0\n",
    "model.reactions.get_by_id('EX_glc__D_e').lower_bound = -1.0\n",
    "sol = model.optimize()\n",
    "print(sol.objective_value)"
   ]
  },
  {
   "cell_type": "code",
   "execution_count": 123,
   "metadata": {},
   "outputs": [
    {
     "name": "stdout",
     "output_type": "stream",
     "text": [
      "1120\n",
      "2168\n",
      "1965\n"
     ]
    },
    {
     "data": {
      "text/html": [
       "\n",
       "        <table>\n",
       "            <tr>\n",
       "                <td><strong>Name</strong></td>\n",
       "                <td>R. toruloides</td>\n",
       "            </tr><tr>\n",
       "                <td><strong>Memory address</strong></td>\n",
       "                <td>0x0101d2270f0</td>\n",
       "            </tr><tr>\n",
       "                <td><strong>Number of metabolites</strong></td>\n",
       "                <td>1965</td>\n",
       "            </tr><tr>\n",
       "                <td><strong>Number of reactions</strong></td>\n",
       "                <td>2168</td>\n",
       "            </tr><tr>\n",
       "                <td><strong>Number of groups</strong></td>\n",
       "                <td>0</td>\n",
       "            </tr><tr>\n",
       "                <td><strong>Objective expression</strong></td>\n",
       "                <td>1.0*BIOMASS_RT - 1.0*BIOMASS_RT_reverse_2b3e0</td>\n",
       "            </tr><tr>\n",
       "                <td><strong>Compartments</strong></td>\n",
       "                <td>c, x, m, e, r, v, n, g, d</td>\n",
       "            </tr>\n",
       "          </table>"
      ],
      "text/plain": [
       "<Model R. toruloides at 0x101d2270f0>"
      ]
     },
     "execution_count": 123,
     "metadata": {},
     "output_type": "execute_result"
    }
   ],
   "source": [
    "print(len(model.genes))\n",
    "print(len(model.reactions))\n",
    "print(len(model.metabolites))\n",
    "model"
   ]
  },
  {
   "cell_type": "code",
   "execution_count": 124,
   "metadata": {},
   "outputs": [
    {
     "name": "stdout",
     "output_type": "stream",
     "text": [
      "\n"
     ]
    }
   ],
   "source": [
    "for x in sorted(model.genes, key=lambda x: x.id):\n",
    "    if not x.reactions:\n",
    "        print(x)\n",
    "print()\n",
    "for x in sorted(model.metabolites, key=lambda x: x.id):\n",
    "    if not x.reactions:\n",
    "        print(x)"
   ]
  },
  {
   "cell_type": "code",
   "execution_count": 125,
   "metadata": {},
   "outputs": [],
   "source": [
    "cobra.manipulation.remove_genes(model, [x for x in model.genes if not x.reactions])\n",
    "model.remove_metabolites([x for x in model.metabolites if not x.reactions])"
   ]
  },
  {
   "cell_type": "code",
   "execution_count": 126,
   "metadata": {},
   "outputs": [
    {
     "name": "stdout",
     "output_type": "stream",
     "text": [
      "1120\n",
      "2168\n",
      "1965\n",
      "1231\n",
      "9\n"
     ]
    },
    {
     "data": {
      "text/html": [
       "\n",
       "        <table>\n",
       "            <tr>\n",
       "                <td><strong>Name</strong></td>\n",
       "                <td>R. toruloides</td>\n",
       "            </tr><tr>\n",
       "                <td><strong>Memory address</strong></td>\n",
       "                <td>0x0101d2270f0</td>\n",
       "            </tr><tr>\n",
       "                <td><strong>Number of metabolites</strong></td>\n",
       "                <td>1965</td>\n",
       "            </tr><tr>\n",
       "                <td><strong>Number of reactions</strong></td>\n",
       "                <td>2168</td>\n",
       "            </tr><tr>\n",
       "                <td><strong>Number of groups</strong></td>\n",
       "                <td>0</td>\n",
       "            </tr><tr>\n",
       "                <td><strong>Objective expression</strong></td>\n",
       "                <td>1.0*BIOMASS_RT - 1.0*BIOMASS_RT_reverse_2b3e0</td>\n",
       "            </tr><tr>\n",
       "                <td><strong>Compartments</strong></td>\n",
       "                <td>c, x, m, e, r, v, n, g, d</td>\n",
       "            </tr>\n",
       "          </table>"
      ],
      "text/plain": [
       "<Model R. toruloides at 0x101d2270f0>"
      ]
     },
     "execution_count": 126,
     "metadata": {},
     "output_type": "execute_result"
    }
   ],
   "source": [
    "print(len(model.genes))\n",
    "print(len(model.reactions))\n",
    "print(len(model.metabolites))\n",
    "print(len(set([m.id.rsplit('_',1)[0] for m in model.metabolites])))\n",
    "print(len(model.compartments))\n",
    "model"
   ]
  },
  {
   "cell_type": "code",
   "execution_count": 127,
   "metadata": {},
   "outputs": [],
   "source": [
    "cobra.io.save_json_model(model, \"IFO0880_GPR_2c.json\")"
   ]
  },
  {
   "cell_type": "code",
   "execution_count": 128,
   "metadata": {},
   "outputs": [],
   "source": [
    "model_old = cobra.io.load_json_model(\"IFO0880_GPR_2b.json\")\n",
    "model_new = cobra.io.load_json_model(\"IFO0880_GPR_2c.json\")"
   ]
  },
  {
   "cell_type": "code",
   "execution_count": 129,
   "metadata": {
    "scrolled": true
   },
   "outputs": [
    {
     "name": "stdout",
     "output_type": "stream",
     "text": [
      "Removed reactions\n",
      "\n",
      "ARACHCPT1: arachcoa_c + crn_c --> arachcrn_c + coa_c\n",
      "ARACHCPT2: arachcrn_m + coa_m --> arachcoa_m + crn_m\n",
      "ARACHCRNt: arachcrn_c --> arachcrn_m\n",
      "FAOXC240200x: 2.0 coa_x + 2.0 h2o_x + 2.0 nad_x + 2.0 o2_x + ttccoa_x --> 2.0 accoa_x + arachcoa_x + 2.0 h2o2_x + 2.0 h_x + 2.0 nadh_x\n",
      "FATP1t: hdca_c + na1_c <=> hdca_e + na1_e\n",
      "FATP2t: na1_c + ocdcea_c <=> na1_e + ocdcea_e\n",
      "FATP3t: na1_c + ocdca_c <=> na1_e + ocdca_e\n",
      "FATP4t: arach_c + na1_c <=> arach_e + na1_e\n",
      "FATP8t: na1_c + ttc_c <=> na1_e + ttc_e\n",
      "FATP9t: na1_c + nrvnc_c <=> na1_e + nrvnc_e\n"
     ]
    }
   ],
   "source": [
    "print('Removed reactions\\n')\n",
    "for r in sorted(model_old.reactions, key=lambda x: x.id):\n",
    "    if r not in model_new.reactions:\n",
    "        print(r)"
   ]
  },
  {
   "cell_type": "code",
   "execution_count": 130,
   "metadata": {},
   "outputs": [
    {
     "name": "stdout",
     "output_type": "stream",
     "text": [
      "Updated reactions\n",
      "\n",
      "Old AGATer_RT: 0.01 1ag3p_RT_r + 0.02 dcacoa_r + 0.06 ddcacoa_r + 0.17 hdcoa_r + 0.09 ocdycacoa_r + 0.24 odecoa_r + 0.27 pmtcoa_r + 0.05 stcoa_r + 0.1 tdcoa_r --> coa_r + 0.01 pa_RT_r 10427 or 16030 or 16779 or 9746\n",
      "New AGATer_RT: 0.01 1ag3p_RT_r + 0.01 arachcoa_r + 0.02 hpdcacoa_r + 0.1 lnlncgcoa_r + 0.37 ocdycacoa_r + 0.32 odecoa_r + 0.09 pmtcoa_r + 0.07 stcoa_r + 0.02 ttccoa_r --> coa_r + 0.01 pa_RT_r 10427 or 16030 or 16779 or 9746\n",
      "\n",
      "Old ATPM: atp_c + h2o_c --> adp_c + h_c + pi_c \n",
      "New ATPM: atp_c + h2o_c --> adp_c + h_c + pi_c \n",
      "\n",
      "Old BIOMASS_RT: 1.1348 13BDglcn_c + 1e-06 5mthf_c + 0.4588 ala__L_c + 0.046 amp_c + 0.1607 arg__L_c + 0.1017 asn__L_c + 0.2975 asp__L_c + 59.276 atp_c + 1e-06 btn_m + 1e-06 camp_c + 0.0447 cmp_c + 1e-06 coa_c + 0.0066 cys__L_c + 0.0036 damp_c + 0.0024 dcmp_c + 0.0024 dgmp_c + 0.0036 dtmp_c + 0.0007 ergst_r + 1e-06 fad_c + 0.1054 gln__L_c + 0.3018 glu__L_c + 0.2904 gly_c + 0.5185 glycogen_c + 0.046 gmp_c + 1e-06 gthrd_c + 59.276 h2o_c + 1e-06 hemeA_m + 0.0663 his__L_c + 0.1927 ile__L_c + 0.2964 leu__L_c + 1e-06 lipopb_m + 0.2862 lys__L_c + 0.8079 mannan_r + 0.0507 met__L_c + 1e-06 mlthf_c + 1e-06 nad_c + 1e-06 nadp_c + 6e-06 pa_RT_r + 6e-05 pc_RT_r + 4.5e-05 pe_RT_r + 0.1339 phe__L_c + 0.1647 pro__L_c + 1.7e-05 ps_RT_r + 5.3e-05 ptd1ino_RT_r + 1e-06 ptrc_c + 1e-06 pydx5p_c + 1e-06 q9_m + 0.00099 ribflv_c + 0.1854 ser__L_c + 0.02 so4_c + 1e-06 spmd_c + 1e-06 thf_c + 1e-06 thmpp_c + 0.1914 thr__L_c + 0.0234 tre_c + 6.6e-05 triglyc_RT_r + 0.0284 trp__L_c + 0.102 tyr__L_c + 0.0599 ump_c + 0.2646 val__L_c + 0.0015 zymst_r --> 59.276 adp_c + 58.70001 h_c + 59.305 pi_c \n",
      "New BIOMASS_RT: 0.957502 13BDglcn_c + 0.177315 16BDglcn_c + 0.001283 5mthf_c + 0.577574 alatrna_c + 0.146675 argtrna_c + 0.10797 asntrna_c + 0.197296 asptrna_c + 110.681641 atp_c + 0.002418 btn_m + 0.000832 ca2_c + 0.001792 camp_c + 0.031005 chitin_c + 1.8e-05 clpn_RT_m + 0.00077 coa_c + 0.044881 ctp_c + 0.000525 cu2_c + 0.034269 cystrna_c + 0.002451 datp_c + 0.004285 dctp_c + 0.003763 dgtp_c + 0.002523 dttp_c + 0.004031 ergst_r + 1.6e-05 ergstest_RT_r + 0.000751 fad_c + 0.000597 fe2_c + 0.000597 fe3_c + 0.117898 glntrna_c + 0.208673 glutrna_c + 0.518069 glycogen_c + 0.51322 glytrna_c + 0.00192 gthrd_c + 0.051085 gtp_c + 106.71258 h2o_c + 0.000691 hemeA_m + 0.061167 histrna_c + 0.158569 iletrna_c + 0.585703 k_c + 0.320205 leutrna_c + 0.003107 lipopb_m + 0.172334 lystrna_c + 0.807941 mannan_r + 0.05705 mettrna_c + 0.061716 mg2_c + 0.001292 mlthf_c + 0.000607 mn2_c + 0.026099 na1_c + 0.000888 nad_c + 0.000795 nadp_c + 1.4e-05 pa_RT_r + 0.000172 pc_RT_r + 0.00013 pe_RT_r + 0.095164 phetrna_c + 0.235897 protrna_c + 2e-05 ps_RT_r + 0.004006 psphings_r + 4.7e-05 ptd1ino_RT_r + 0.006524 ptrc_c + 0.0024 pydx5p_c + 0.00074 q9_m + 0.00099 ribflv_c + 0.33687 sertrna_c + 0.003967 spmd_c + 0.001327 thf_c + 0.001393 thmpp_c + 0.21813 thrtrna_c + 0.023372 tre_c + 0.000432 triglyc_RT_r + 0.023319 trptrna_c + 0.062363 tyrtrna_c + 0.051129 utp_c + 0.275168 valtrna_c + 0.00051 zn2_c + 0.004156 zymst_r + 1.7e-05 zymstest_RT_d --> 110.632394 adp_c + 110.632394 h_c + 110.632394 pi_c + 0.209364 ppi_c \n",
      "\n",
      "Old DAGL_RT: 0.01 12dgr_RT_d + h2o_c --> 0.02 dca_c + 0.06 ddca_c + h_c + 0.27 hdca_c + 0.17 hdcea_c + 0.01 mag_RT_d + 0.05 ocdca_c + 0.24 ocdcea_c + 0.09 ocdcya_c + 0.1 ttdca_c 11739 or 15065\n",
      "New DAGL_RT: 0.01 12dgr_RT_d + h2o_c --> h_c + 0.23 hdca_c + 0.01 hdcea_c + 0.01 lnlncg_c + 0.01 mag_RT_d + 0.12 ocdca_c + 0.48 ocdcea_c + 0.14 ocdcya_c + 0.01 ttc_c 11739 or 15065\n",
      "\n",
      "Old EPISTATer_RT: 0.01 epist_r + 0.655 hdcoa_r + 0.01 hexccoa_r + 0.27 odecoa_r + 0.02 pmtcoa_r + 0.03 stcoa_r + 0.015 tdcoa_r --> coa_r + 0.01 epistest_RT_r 11799\n",
      "New EPISTATer_RT: epist_r + 0.01 hdcoa_r + 0.01 lnlncgcoa_r + 0.14 ocdycacoa_r + 0.48 odecoa_r + 0.23 pmtcoa_r + 0.12 stcoa_r + 0.01 ttccoa_r --> coa_r + 0.01 epistest_RT_r 11799\n",
      "\n",
      "Old EPISTESTH_RT: 0.01 epistest_RT_d + h2o_c --> 0.01 epist_c + h_c + 0.02 hdca_c + 0.655 hdcea_c + 0.01 hexc_c + 0.03 ocdca_c + 0.27 ocdcea_c + 0.015 ttdca_c 14247 or 14617\n",
      "New EPISTESTH_RT: 0.01 epistest_RT_d + h2o_c --> epist_c + h_c + 0.23 hdca_c + 0.01 hdcea_c + 0.01 lnlncg_c + 0.12 ocdca_c + 0.48 ocdcea_c + 0.14 ocdcya_c + 0.01 ttc_c 14247 or 14617\n",
      "\n",
      "Old ERGSTATer_RT: 0.01 ergst_r + 0.655 hdcoa_r + 0.01 hexccoa_r + 0.27 odecoa_r + 0.02 pmtcoa_r + 0.03 stcoa_r + 0.015 tdcoa_r --> coa_r + 0.01 ergstest_RT_r 11799\n",
      "New ERGSTATer_RT: ergst_r + 0.01 hdcoa_r + 0.01 lnlncgcoa_r + 0.14 ocdycacoa_r + 0.48 odecoa_r + 0.23 pmtcoa_r + 0.12 stcoa_r + 0.01 ttccoa_r --> coa_r + 0.01 ergstest_RT_r 11799\n",
      "\n",
      "Old ERGSTESTH_RT: 0.01 ergstest_RT_d + h2o_c --> 0.01 ergst_c + h_c + 0.02 hdca_c + 0.655 hdcea_c + 0.01 hexc_c + 0.03 ocdca_c + 0.27 ocdcea_c + 0.015 ttdca_c 14247 or 14617\n",
      "New ERGSTESTH_RT: 0.01 ergstest_RT_d + h2o_c --> ergst_c + h_c + 0.23 hdca_c + 0.01 hdcea_c + 0.01 lnlncg_c + 0.12 ocdca_c + 0.48 ocdcea_c + 0.14 ocdcya_c + 0.01 ttc_c 14247 or 14617\n",
      "\n",
      "Old EX_ca2_e: ca2_e -->  \n",
      "New EX_ca2_e: ca2_e <=>  \n",
      "\n",
      "Old EX_glc__D_e: glc__D_e <=>  \n",
      "New EX_glc__D_e: glc__D_e <=>  \n",
      "\n",
      "Old EX_k_e: k_e -->  \n",
      "New EX_k_e: k_e <=>  \n",
      "\n",
      "Old EX_na1_e: na1_e -->  \n",
      "New EX_na1_e: na1_e <=>  \n",
      "\n",
      "Old EX_o2_e: o2_e <=>  \n",
      "New EX_o2_e: o2_e <=>  \n",
      "\n",
      "Old FAS240COAer: 9.0 h_r + 3.0 malcoa_r + 6.0 nadph_r + stcoa_r --> 3.0 co2_r + 3.0 coa_r + 3.0 h2o_r + 6.0 nadp_r + ttccoa_r (10677 and 11343 and 16241 and 16695) or (10677 and 16241 and 16655 and 16695)\n",
      "New FAS240COAer: docoscoa_r + 3.0 h_r + malcoa_r + 2.0 nadph_r --> co2_r + coa_r + h2o_r + 2.0 nadp_r + ttccoa_r (10677 and 11343 and 16241 and 16695) or (10677 and 16241 and 16655 and 16695)\n",
      "\n",
      "Old FECOSTATer_RT: 0.01 fecost_r + 0.655 hdcoa_r + 0.01 hexccoa_r + 0.27 odecoa_r + 0.02 pmtcoa_r + 0.03 stcoa_r + 0.015 tdcoa_r --> coa_r + 0.01 fecostest_RT_r 11799\n",
      "New FECOSTATer_RT: fecost_r + 0.01 hdcoa_r + 0.01 lnlncgcoa_r + 0.14 ocdycacoa_r + 0.48 odecoa_r + 0.23 pmtcoa_r + 0.12 stcoa_r + 0.01 ttccoa_r --> coa_r + 0.01 fecostest_RT_r 11799\n",
      "\n",
      "Old FECOSTESTH_RT: 0.01 fecostest_RT_d + h2o_c --> 0.01 fecost_c + h_c + 0.02 hdca_c + 0.655 hdcea_c + 0.01 hexc_c + 0.03 ocdca_c + 0.27 ocdcea_c + 0.015 ttdca_c 14247 or 14617\n",
      "New FECOSTESTH_RT: 0.01 fecostest_RT_d + h2o_c --> fecost_c + h_c + 0.23 hdca_c + 0.01 hdcea_c + 0.01 lnlncg_c + 0.12 ocdca_c + 0.48 ocdcea_c + 0.14 ocdcya_c + 0.01 ttc_c 14247 or 14617\n",
      "\n",
      "Old GAT1er_RT: 0.02 dcacoa_r + 0.06 ddcacoa_r + glyc3p_r + 0.17 hdcoa_r + 0.09 ocdycacoa_r + 0.24 odecoa_r + 0.27 pmtcoa_r + 0.05 stcoa_r + 0.1 tdcoa_r --> 0.01 1ag3p_RT_r + coa_r 15435\n",
      "New GAT1er_RT: 0.01 arachcoa_r + glyc3p_r + 0.02 hpdcacoa_r + 0.1 lnlncgcoa_r + 0.37 ocdycacoa_r + 0.32 odecoa_r + 0.09 pmtcoa_r + 0.07 stcoa_r + 0.02 ttccoa_r --> 0.01 1ag3p_RT_r + coa_r 15435\n",
      "\n",
      "Old GAT2er_RT: 0.02 dcacoa_r + 0.06 ddcacoa_r + dhap_r + 0.17 hdcoa_r + 0.09 ocdycacoa_r + 0.24 odecoa_r + 0.27 pmtcoa_r + 0.05 stcoa_r + 0.1 tdcoa_r --> 0.01 1agly3p_RT_r + coa_r 13369 or 15435\n",
      "New GAT2er_RT: 0.01 arachcoa_r + dhap_r + 0.02 hpdcacoa_r + 0.1 lnlncgcoa_r + 0.37 ocdycacoa_r + 0.32 odecoa_r + 0.09 pmtcoa_r + 0.07 stcoa_r + 0.02 ttccoa_r --> 0.01 1agly3p_RT_r + coa_r 13369 or 15435\n",
      "\n",
      "Old LANOSTATer_RT: 0.655 hdcoa_r + 0.01 hexccoa_r + 0.01 lanost_r + 0.27 odecoa_r + 0.02 pmtcoa_r + 0.03 stcoa_r + 0.015 tdcoa_r --> coa_r + 0.01 lanostest_RT_r 11799\n",
      "New LANOSTATer_RT: 0.01 hdcoa_r + lanost_r + 0.01 lnlncgcoa_r + 0.14 ocdycacoa_r + 0.48 odecoa_r + 0.23 pmtcoa_r + 0.12 stcoa_r + 0.01 ttccoa_r --> coa_r + 0.01 lanostest_RT_r 11799\n",
      "\n",
      "Old LANOSTESTH_RT: h2o_c + 0.01 lanostest_RT_d --> h_c + 0.02 hdca_c + 0.655 hdcea_c + 0.01 hexc_c + 0.01 lanost_c + 0.03 ocdca_c + 0.27 ocdcea_c + 0.015 ttdca_c 14247 or 14617\n",
      "New LANOSTESTH_RT: h2o_c + 0.01 lanostest_RT_d --> h_c + 0.23 hdca_c + 0.01 hdcea_c + lanost_c + 0.01 lnlncg_c + 0.12 ocdca_c + 0.48 ocdcea_c + 0.14 ocdcya_c + 0.01 ttc_c 14247 or 14617\n",
      "\n",
      "Old LPCATer_RT: 0.01 1agpc_RT_r + 0.02 dcacoa_r + 0.06 ddcacoa_r + 0.17 hdcoa_r + 0.09 ocdycacoa_r + 0.24 odecoa_r + 0.27 pmtcoa_r + 0.05 stcoa_r + 0.1 tdcoa_r --> coa_r + 0.01 pc_RT_r 16030\n",
      "New LPCATer_RT: 0.01 1agpc_RT_r + 0.01 arachcoa_r + 0.02 hpdcacoa_r + 0.1 lnlncgcoa_r + 0.37 ocdycacoa_r + 0.32 odecoa_r + 0.09 pmtcoa_r + 0.07 stcoa_r + 0.02 ttccoa_r --> coa_r + 0.01 pc_RT_r 16030\n",
      "\n",
      "Old MAGL_RT: h2o_c + 0.01 mag_RT_d --> 0.02 dca_c + 0.06 ddca_c + glyc_c + h_c + 0.27 hdca_c + 0.17 hdcea_c + 0.05 ocdca_c + 0.24 ocdcea_c + 0.09 ocdcya_c + 0.1 ttdca_c 14158 or 15065 or 9728\n",
      "New MAGL_RT: h2o_c + 0.01 mag_RT_d --> glyc_c + h_c + 0.23 hdca_c + 0.01 hdcea_c + 0.01 lnlncg_c + 0.12 ocdca_c + 0.48 ocdcea_c + 0.14 ocdcya_c + 0.01 ttc_c 14158 or 15065 or 9728\n",
      "\n",
      "Old PLBP1Ie_RT: h2o_e + 0.005 ptd1ino_RT_e --> 0.02 dca_e + 0.06 ddca_e + 0.5 g3pi_e + h_e + 0.27 hdca_e + 0.17 hdcea_e + 0.05 ocdca_e + 0.24 ocdcea_e + 0.09 ocdcya_e + 0.1 ttdca_e 12385\n",
      "New PLBP1Ie_RT: h2o_e + 0.005 ptd1ino_RT_e --> 0.01 arach_e + 0.5 g3pi_e + h_e + 0.09 hdca_e + 0.02 hpdca_e + 0.1 lnlncg_e + 0.07 ocdca_e + 0.32 ocdcea_e + 0.37 ocdcya_e + 0.02 ttc_e 12385\n",
      "\n",
      "Old PLBPC_RT: h2o_c + 0.005 pc_RT_r --> 0.02 dca_c + 0.06 ddca_c + 0.5 g3pc_c + h_c + 0.27 hdca_c + 0.17 hdcea_c + 0.05 ocdca_c + 0.24 ocdcea_c + 0.09 ocdcya_c + 0.1 ttdca_c 14309\n",
      "New PLBPC_RT: h2o_c + 0.005 pc_RT_r --> 0.01 arach_c + 0.5 g3pc_c + h_c + 0.09 hdca_c + 0.02 hpdca_c + 0.1 lnlncg_c + 0.07 ocdca_c + 0.32 ocdcea_c + 0.37 ocdcya_c + 0.02 ttc_c 14309\n",
      "\n",
      "Old PLBPCe_RT: h2o_e + 0.005 pc_RT_e --> 0.02 dca_e + 0.06 ddca_e + 0.5 g3pc_e + h_e + 0.27 hdca_e + 0.17 hdcea_e + 0.05 ocdca_e + 0.24 ocdcea_e + 0.09 ocdcya_e + 0.1 ttdca_e 12385\n",
      "New PLBPCe_RT: h2o_e + 0.005 pc_RT_e --> 0.01 arach_e + 0.5 g3pc_e + h_e + 0.09 hdca_e + 0.02 hpdca_e + 0.1 lnlncg_e + 0.07 ocdca_e + 0.32 ocdcea_e + 0.37 ocdcya_e + 0.02 ttc_e 12385\n",
      "\n",
      "Old PLBPEe_RT: h2o_e + 0.005 pe_RT_e --> 0.02 dca_e + 0.06 ddca_e + 0.5 g3pe_e + h_e + 0.27 hdca_e + 0.17 hdcea_e + 0.05 ocdca_e + 0.24 ocdcea_e + 0.09 ocdcya_e + 0.1 ttdca_e 12385\n",
      "New PLBPEe_RT: h2o_e + 0.005 pe_RT_e --> 0.01 arach_e + 0.5 g3pe_e + h_e + 0.09 hdca_e + 0.02 hpdca_e + 0.1 lnlncg_e + 0.07 ocdca_e + 0.32 ocdcea_e + 0.37 ocdcya_e + 0.02 ttc_e 12385\n",
      "\n",
      "Old TAGL_RT: h2o_c + 0.01 triglyc_RT_d --> 0.01 12dgr_RT_d + 0.02 dca_c + 0.06 ddca_c + h_c + 0.27 hdca_c + 0.17 hdcea_c + 0.05 ocdca_c + 0.24 ocdcea_c + 0.09 ocdcya_c + 0.1 ttdca_c 10393 or 14317 or 14617 or 15065 or 9746\n",
      "New TAGL_RT: h2o_c + 0.01 triglyc_RT_d --> 0.01 12dgr_RT_d + h_c + 0.23 hdca_c + 0.01 hdcea_c + 0.01 lnlncg_c + 0.12 ocdca_c + 0.48 ocdcea_c + 0.14 ocdcya_c + 0.01 ttc_c 10393 or 14317 or 14617 or 15065 or 9746\n",
      "\n",
      "Old TAGtrd: triglyc_RT_r --> triglyc_RT_d \n",
      "New TAGtrd: 0.03 hdcoa_r + 0.48 odecoa_r + 0.42 pmtcoa_r + 0.15 stcoa_r + 0.01 triglyc_RT_r --> 0.03 arachcoa_r + 0.06 hpdcacoa_r + 0.27 lnlncgcoa_r + 0.69 ocdycacoa_r + 0.01 triglyc_RT_d + 0.03 ttccoa_r \n",
      "\n",
      "Old TRIGSer_RT: 0.01 12dgr_RT_r + 0.02 dcacoa_r + 0.06 ddcacoa_r + 0.17 hdcoa_r + 0.09 ocdycacoa_r + 0.24 odecoa_r + 0.27 pmtcoa_r + 0.05 stcoa_r + 0.1 tdcoa_r --> coa_r + 0.01 triglyc_RT_r 16460\n",
      "New TRIGSer_RT: 0.01 12dgr_RT_r + 0.01 arachcoa_r + 0.02 hpdcacoa_r + 0.1 lnlncgcoa_r + 0.37 ocdycacoa_r + 0.32 odecoa_r + 0.09 pmtcoa_r + 0.07 stcoa_r + 0.02 ttccoa_r --> coa_r + 0.01 triglyc_RT_r 16460\n",
      "\n",
      "Old ZYMSTATer_RT: 0.655 hdcoa_r + 0.01 hexccoa_r + 0.27 odecoa_r + 0.02 pmtcoa_r + 0.03 stcoa_r + 0.015 tdcoa_r + 0.01 zymst_r --> coa_r + 0.01 zymstest_RT_r 11799\n",
      "New ZYMSTATer_RT: 0.01 hdcoa_r + 0.01 lnlncgcoa_r + 0.14 ocdycacoa_r + 0.48 odecoa_r + 0.23 pmtcoa_r + 0.12 stcoa_r + 0.01 ttccoa_r + zymst_r --> coa_r + 0.01 zymstest_RT_r 11799\n",
      "\n",
      "Old ZYMSTESTH_RT: h2o_c + 0.01 zymstest_RT_d --> h_c + 0.02 hdca_c + 0.655 hdcea_c + 0.01 hexc_c + 0.03 ocdca_c + 0.27 ocdcea_c + 0.015 ttdca_c + 0.01 zymst_c 14247 or 14617\n",
      "New ZYMSTESTH_RT: h2o_c + 0.01 zymstest_RT_d --> h_c + 0.23 hdca_c + 0.01 hdcea_c + 0.01 lnlncg_c + 0.12 ocdca_c + 0.48 ocdcea_c + 0.14 ocdcya_c + 0.01 ttc_c + zymst_c 14247 or 14617\n",
      "\n"
     ]
    }
   ],
   "source": [
    "print('Updated reactions\\n')\n",
    "for r in sorted(model_old.reactions, key=lambda x: x.id):\n",
    "    if r in model_new.reactions:\n",
    "        r2 = model_new.reactions.get_by_id(r.id)\n",
    "        if (r.name == r2.name and r.reaction == r2.reaction and r.gene_reaction_rule == r2.gene_reaction_rule and\n",
    "            r.lower_bound == r2.lower_bound and r.upper_bound == r2.upper_bound):\n",
    "            pass\n",
    "        else:\n",
    "            print('Old', r, r.gene_reaction_rule)\n",
    "            print('New', r2, r2.gene_reaction_rule)\n",
    "            print()"
   ]
  },
  {
   "cell_type": "code",
   "execution_count": 131,
   "metadata": {
    "scrolled": true
   },
   "outputs": [
    {
     "name": "stdout",
     "output_type": "stream",
     "text": [
      "Added reactions\n",
      "\n",
      "ARACHt: arach_e --> arach_c\n",
      "CA2t: ca2_e <=> ca2_c\n",
      "CU2t: cu2_e <=> cu2_c\n",
      "DOCOSACt: docosac_e --> docosac_c\n",
      "EPISTtr: epist_c <=> epist_r\n",
      "ERGSTtr: ergst_c <=> ergst_r\n",
      "EX_cu2_e: cu2_e <=> \n",
      "EX_mg2_e: mg2_e <=> \n",
      "EX_mn2_e: mn2_e <=> \n",
      "EX_zn2_e: zn2_e <=> \n",
      "FA200tp: arach_c --> arach_x\n",
      "FA220tp: docosac_c --> docosac_x\n",
      "FACOAL200p: arach_x + atp_x + coa_x --> amp_x + arachcoa_x + ppi_x\n",
      "FACOAL220p: atp_x + coa_x + docosac_x --> amp_x + docoscoa_x + ppi_x\n",
      "FAOXC22C20x: coa_x + docoscoa_x + h2o_x + nad_x + o2_x --> accoa_x + arachcoa_x + h2o2_x + h_x + nadh_x\n",
      "FAOXC24C22x: coa_x + h2o_x + nad_x + o2_x + ttccoa_x --> accoa_x + docoscoa_x + h2o2_x + h_x + nadh_x\n",
      "FAS170COA_L: 21.0 h_c + 7.0 malcoa_c + 14.0 nadph_c + ppcoa_c --> 7.0 co2_c + 7.0 coa_c + 7.0 h2o_c + hpdcacoa_c + 14.0 nadp_c\n",
      "FAS200COAer: 3.0 h_r + malcoa_r + 2.0 nadph_r + stcoa_r --> arachcoa_r + co2_r + coa_r + h2o_r + 2.0 nadp_r\n",
      "FAS220COAer: arachcoa_r + 3.0 h_r + malcoa_r + 2.0 nadph_r --> co2_r + coa_r + docoscoa_r + h2o_r + 2.0 nadp_r\n",
      "FECOSTtr: fecost_c <=> fecost_r\n",
      "HDCAt: hdca_e --> hdca_c\n",
      "HDCEAt: hdcea_e --> hdcea_c\n",
      "HPDCACOAtr: hpdcacoa_c <=> hpdcacoa_r\n",
      "HPDCAt: hpdca_e --> hpdca_c\n",
      "Kt2r: h_e + k_e <=> h_c + k_c\n",
      "LANOSTtr: lanost_c <=> lanost_r\n",
      "LNLNCGt: lnlncg_e --> lnlncg_c\n",
      "MG2t: mg2_e <=> mg2_c\n",
      "MNt: mn2_e <=> mn2_c\n",
      "OCDCAt: ocdca_e --> ocdca_c\n",
      "OCDCEAt: ocdcea_e --> ocdcea_c\n",
      "OCDCYAt: ocdcya_e --> ocdcya_c\n",
      "SK_epistest_RT_d: epistest_RT_d --> \n",
      "SK_ergstest_RT_d: ergstest_RT_d --> \n",
      "SK_fecostest_RT_d: fecostest_RT_d --> \n",
      "SK_lanostest_RT_d: lanostest_RT_d --> \n",
      "SK_triglyc_RT_d: triglyc_RT_d --> \n",
      "SK_zymstest_RT_d: zymstest_RT_d --> \n",
      "SRC_trnaala_c:  --> trnaala_c\n",
      "SRC_trnaarg_c:  --> trnaarg_c\n",
      "SRC_trnaasn_c:  --> trnaasn_c\n",
      "SRC_trnaasp_c:  --> trnaasp_c\n",
      "SRC_trnacys_c:  --> trnacys_c\n",
      "SRC_trnagln_c:  --> trnagln_c\n",
      "SRC_trnaglu_c:  --> trnaglu_c\n",
      "SRC_trnagly_c:  --> trnagly_c\n",
      "SRC_trnahis_c:  --> trnahis_c\n",
      "SRC_trnaile_c:  --> trnaile_c\n",
      "SRC_trnaleu_c:  --> trnaleu_c\n",
      "SRC_trnalys_c:  --> trnalys_c\n",
      "SRC_trnamet_c:  --> trnamet_c\n",
      "SRC_trnaphe_c:  --> trnaphe_c\n",
      "SRC_trnapro_c:  --> trnapro_c\n",
      "SRC_trnaser_c:  --> trnaser_c\n",
      "SRC_trnathr_c:  --> trnathr_c\n",
      "SRC_trnatrp_c:  --> trnatrp_c\n",
      "SRC_trnatyr_c:  --> trnatyr_c\n",
      "SRC_trnaval_c:  --> trnaval_c\n",
      "TTCt: ttc_e --> ttc_c\n",
      "ZYMSTtr: zymst_c <=> zymst_r\n",
      "Zn2t: zn2_e <=> zn2_c\n"
     ]
    }
   ],
   "source": [
    "print('Added reactions\\n')\n",
    "for r in sorted(model_new.reactions, key=lambda x: x.id):\n",
    "    if r not in model_old.reactions:\n",
    "        print(r)"
   ]
  }
 ],
 "metadata": {
  "kernelspec": {
   "display_name": "python3_cobrapy0.17.1",
   "language": "python",
   "name": "python3_cobrapy0.17.1"
  },
  "language_info": {
   "codemirror_mode": {
    "name": "ipython",
    "version": 3
   },
   "file_extension": ".py",
   "mimetype": "text/x-python",
   "name": "python",
   "nbconvert_exporter": "python",
   "pygments_lexer": "ipython3",
   "version": "3.6.12"
  }
 },
 "nbformat": 4,
 "nbformat_minor": 2
}
