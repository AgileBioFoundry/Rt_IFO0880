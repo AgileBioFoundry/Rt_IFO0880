{
 "cells": [
  {
   "cell_type": "code",
   "execution_count": null,
   "metadata": {},
   "outputs": [],
   "source": [
    "%%bash\n",
    "export HMMTOP_ARCH=~/Documents/hmmtop_2.1/hmmtop.arch\n",
    "export HMMTOP_PSV=~/Documents/hmmtop_2.1/hmmtop.psv\n",
    "export PATH=$PATH:~/Documents/GitHub/BioVx/scripts/\n",
    "gblast3.py -i ../../Data/Rhoto_IFO0880_4/Rhoto_IFO0880_4_GeneCatalog_proteins_20170509.aa.modified.fasta \\\n",
    "           -o ../../Data/TCDB"
   ]
  },
  {
   "cell_type": "code",
   "execution_count": 1,
   "metadata": {
    "scrolled": true
   },
   "outputs": [
    {
     "name": "stdout",
     "output_type": "stream",
     "text": [
      "#Query_id\tHit_xid\tHit_tcid\tHit_desc\tMatch_length\te-value\t%_identity\tQuery_Length\tHit_Length\tQuery_Coverage\tHit_Coverage\tQuery_n_TMS\tHit_n_TMS\tTM_Overlap_Score\tFamily_Abrv\tPredicted_Substrate\trow_number\n",
      "13972\tQ14028\t1.A.1.5.3\tgnl|BL_ORD_ID|9872 gnl|TC-DB|Q14028|1.A.1.5.3 Cyclic-nucleotide-gated cation channel 4 (CNG channel 4) (CNG-4) (CNG4) (Cyclic nucleotide-gated cation channel modulatory subunit) - Homo sapiens (Human).\t576\t3.01319e-11\t23.0\t729\t1251\t72.7\t41.0\t0\t0\tNone\tVIC\tcations\t1\n",
      "14619\tQ9UL51\t1.A.1.5.11\tgnl|BL_ORD_ID|15304 gnl|TC-DB|Q9UL51|1.A.1.5.11 Potassium/sodium hyperpolarization-activated cyclic nucleotide-gated channel 2 OS=Homo sapiens GN=HCN2 PE=1 SV=3\t196\t4.4374e-07\t27.0\t351\t889\t48.4\t20.1\t0\t0\tNone\tVIC\tcations\t2\n",
      "15817\tQ9UL51\t1.A.1.5.11\tgnl|BL_ORD_ID|15304 gnl|TC-DB|Q9UL51|1.A.1.5.11 Potassium/sodium hyperpolarization-activated cyclic nucleotide-gated channel 2 OS=Homo sapiens GN=HCN2 PE=1 SV=3\t155\t9.84162e-06\t24.0\t309\t889\t47.2\t16.3\t0\t0\tNone\tVIC\tcations\t3\n",
      "13686\tQ9Y3Q4\t1.A.1.5.11\tgnl|BL_ORD_ID|15595 gnl|TC-DB|Q9Y3Q4|1.A.1.5.11 Potassium/sodium hyperpolarization-activated cyclic nucleotide-gated channel 4 OS=Homo sapiens GN=HCN4 PE=1 SV=1\t178\t2.59846e-05\t29.0\t368\t1203\t46.7\t13.9\t0\t0\tNone\tVIC\tcations\t4\n",
      "12675\tQ9UL51\t1.A.1.5.11\tgnl|BL_ORD_ID|15304 gnl|TC-DB|Q9UL51|1.A.1.5.11 Potassium/sodium hyperpolarization-activated cyclic nucleotide-gated channel 2 OS=Homo sapiens GN=HCN2 PE=1 SV=3\t85\t0.000153194\t40.0\t209\t889\t40.2\t9.0\t0\t0\tNone\tVIC\tcations\t5\n",
      "13149\tQ9Y3Q4\t1.A.1.5.11\tgnl|BL_ORD_ID|15595 gnl|TC-DB|Q9Y3Q4|1.A.1.5.11 Potassium/sodium hyperpolarization-activated cyclic nucleotide-gated channel 4 OS=Homo sapiens GN=HCN4 PE=1 SV=1\t163\t0.000373194\t27.0\t187\t1203\t81.3\t11.6\t0\t0\tNone\tVIC\tcations\t6\n",
      "9630\tQ9Y3Q4\t1.A.1.5.11\tgnl|BL_ORD_ID|15595 gnl|TC-DB|Q9Y3Q4|1.A.1.5.11 Potassium/sodium hyperpolarization-activated cyclic nucleotide-gated channel 4 OS=Homo sapiens GN=HCN4 PE=1 SV=1\t180\t0.000445072\t29.0\t326\t1203\t53.7\t14.1\t0\t0\tNone\tVIC\tcations\t7\n",
      "15047\tP40310\t1.A.1.7.1\tgnl|BL_ORD_ID|7941 gnl|TC-DB|P40310|1.A.1.7.1 OUTWARD-RECTIFIER POTASSIUM CHANNEL TOK1 (TWO-DOMAIN OUTWARD RECTIFIER K+ CHANNEL YORK) - Saccharomyces cerevisiae (Baker's yeast).\t466\t1.66721e-24\t22.0\t720\t691\t59.3\t59.9\t0\t0\tNone\tVIC\tK+\t8\n",
      "14173\tO55017\t1.A.1.11.9\tgnl|BL_ORD_ID|5591 gnl|TC-DB|O55017|1.A.1.11.9 Voltage-dependent N-type calcium channel subunit alpha-1B - Mus musculus (Mouse).\t115\t0.000876854\t30.0\t226\t2327\t47.8\t4.5\t0\t0\tNone\tVIC\tCa2+\t9\n"
     ]
    }
   ],
   "source": [
    "%%bash\n",
    "head ../../Data/TCDB/results.tsv"
   ]
  },
  {
   "cell_type": "code",
   "execution_count": 2,
   "metadata": {},
   "outputs": [],
   "source": [
    "%%bash\n",
    "open ../../Data/TCDB/results.html"
   ]
  },
  {
   "cell_type": "code",
   "execution_count": null,
   "metadata": {},
   "outputs": [],
   "source": []
  }
 ],
 "metadata": {
  "kernelspec": {
   "display_name": "Python 3",
   "language": "python",
   "name": "python3"
  },
  "language_info": {
   "codemirror_mode": {
    "name": "ipython",
    "version": 3
   },
   "file_extension": ".py",
   "mimetype": "text/x-python",
   "name": "python",
   "nbconvert_exporter": "python",
   "pygments_lexer": "ipython3",
   "version": "3.8.5"
  }
 },
 "nbformat": 4,
 "nbformat_minor": 2
}
