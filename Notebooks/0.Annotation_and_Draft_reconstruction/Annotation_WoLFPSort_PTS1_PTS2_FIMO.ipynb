{
 "cells": [
  {
   "cell_type": "code",
   "execution_count": 1,
   "metadata": {},
   "outputs": [],
   "source": [
    "import csv"
   ]
  },
  {
   "cell_type": "code",
   "execution_count": 2,
   "metadata": {},
   "outputs": [
    {
     "data": {
      "text/plain": [
       "{'cyto_nucl': 13.5, 'nucl': 12.5, 'cyto': 11.5}"
      ]
     },
     "execution_count": 2,
     "metadata": {},
     "output_type": "execute_result"
    }
   ],
   "source": [
    "wolfpsort = dict()\n",
    "\n",
    "with open(\"../../Data/WoLFPSort/WoLFPSort_result.txt\",'r') as f:\n",
    "    reader = csv.reader(f)\n",
    "    line = next(reader)\n",
    "    for line in reader:\n",
    "        x, y = line[0].split(' ',1)\n",
    "#        y = [z.strip() for z in line[1].split(',')]\n",
    "        y = [y] + [z.strip() for z in line[1:]]\n",
    "        wolfpsort[x] = {z.split(' ')[0]: float(z.split(' ')[1]) for z in y}\n",
    "\n",
    "wolfpsort['10000']"
   ]
  },
  {
   "cell_type": "code",
   "execution_count": 3,
   "metadata": {},
   "outputs": [
    {
     "data": {
      "text/plain": [
       "8490"
      ]
     },
     "execution_count": 3,
     "metadata": {},
     "output_type": "execute_result"
    }
   ],
   "source": [
    "len(wolfpsort)"
   ]
  },
  {
   "cell_type": "code",
   "execution_count": 4,
   "metadata": {},
   "outputs": [
    {
     "data": {
      "text/plain": [
       "{'E.R.',\n",
       " 'cysk',\n",
       " 'cyto',\n",
       " 'cyto_mito',\n",
       " 'cyto_nucl',\n",
       " 'cyto_pero',\n",
       " 'extr',\n",
       " 'golg',\n",
       " 'mito',\n",
       " 'mito_nucl',\n",
       " 'nucl',\n",
       " 'pero',\n",
       " 'plas',\n",
       " 'vacu'}"
      ]
     },
     "execution_count": 4,
     "metadata": {},
     "output_type": "execute_result"
    }
   ],
   "source": [
    "compartment = set()\n",
    "for x in wolfpsort.values():\n",
    "    for y in x.keys():\n",
    "        if y not in compartment:\n",
    "            compartment.add(y)\n",
    "compartment"
   ]
  },
  {
   "cell_type": "code",
   "execution_count": 5,
   "metadata": {},
   "outputs": [
    {
     "name": "stdout",
     "output_type": "stream",
     "text": [
      "1751\n"
     ]
    }
   ],
   "source": [
    "pero_list_all = set()\n",
    "for k, v in wolfpsort.items():\n",
    "    if 'pero' in v.keys():\n",
    "        pero_list_all.add(k)\n",
    "print(len(pero_list_all))"
   ]
  },
  {
   "cell_type": "code",
   "execution_count": 6,
   "metadata": {},
   "outputs": [],
   "source": [
    "import numpy as np\n",
    "import matplotlib.pyplot as plt"
   ]
  },
  {
   "cell_type": "code",
   "execution_count": 7,
   "metadata": {},
   "outputs": [
    {
     "data": {
      "text/plain": [
       "(array([270., 636., 362., 227., 112.,  68.,  47.,  14.,   3.,   6.,   5.,\n",
       "          1.]),\n",
       " array([ 1.,  2.,  3.,  4.,  5.,  6.,  7.,  8.,  9., 10., 11., 12., 13.]),\n",
       " <BarContainer object of 12 artists>)"
      ]
     },
     "execution_count": 7,
     "metadata": {},
     "output_type": "execute_result"
    },
    {
     "data": {
      "image/png": "[encoded data removed]",
      "text/plain": [
       "<Figure size 432x288 with 1 Axes>"
      ]
     },
     "metadata": {
      "needs_background": "light"
     },
     "output_type": "display_data"
    }
   ],
   "source": [
    "plt.hist([wolfpsort[x]['pero'] for x in pero_list_all], bins=12)"
   ]
  },
  {
   "cell_type": "code",
   "execution_count": 8,
   "metadata": {},
   "outputs": [
    {
     "name": "stdout",
     "output_type": "stream",
     "text": [
      "224\n"
     ]
    }
   ],
   "source": [
    "pero_list = set()\n",
    "for k, v in wolfpsort.items():\n",
    "    if 'pero' in v.keys() and v['pero'] >= 6:\n",
    "        pero_list.add(k)\n",
    "    elif 'cyto_pero' in v.keys() and v['cyto_pero'] >= 6:\n",
    "        pero_list.add(k)\n",
    "print(len(pero_list))"
   ]
  },
  {
   "cell_type": "code",
   "execution_count": 9,
   "metadata": {},
   "outputs": [
    {
     "name": "stdout",
     "output_type": "stream",
     "text": [
      "19\n"
     ]
    }
   ],
   "source": [
    "pero_top_list = set()\n",
    "for k, v in wolfpsort.items():\n",
    "    if any(x in max(v.items(), key=lambda x: x[1]) for x in ['pero','cyto_pero']):\n",
    "        pero_top_list.add(k)\n",
    "print(len(pero_top_list))"
   ]
  },
  {
   "cell_type": "code",
   "execution_count": 10,
   "metadata": {},
   "outputs": [
    {
     "name": "stdout",
     "output_type": "stream",
     "text": [
      "14977 {'pero': 10.5, 'mito': 9.0, 'cyto_pero': 7.833, 'cyto_nucl': 4.333, 'cyto': 4.0}\n",
      "14189 {'pero': 8.0, 'cyto': 7.5, 'cyto_nucl': 6.0, 'nucl': 3.5, 'mito': 3.0, 'extr': 3.0}\n",
      "14081 {'pero': 9.0, 'nucl': 7.0, 'cyto_pero': 7.0, 'mito': 5.0, 'cyto': 5.0, 'cyto_mito': 5.0}\n",
      "11389 {'pero': 11.0, 'cyto': 9.5, 'cyto_nucl': 8.0, 'nucl': 3.5}\n",
      "14222 {'pero': 10.0, 'cyto': 7.0, 'nucl': 5.0, 'mito': 4.0}\n",
      "16607 {'pero': 9.0, 'cysk': 7.0, 'cyto': 6.0, 'nucl': 5.0}\n",
      "8690 {'pero': 8.0, 'cyto': 5.5, 'cyto_nucl': 5.5, 'mito': 5.0, 'nucl': 4.5, 'extr': 4.0}\n",
      "15116 {'pero': 10.0, 'cyto': 8.5, 'cyto_nucl': 6.5, 'nucl': 3.5, 'mito': 3.0}\n",
      "11263 {'pero': 10.0, 'cyto': 9.5, 'cyto_nucl': 7.0, 'nucl': 3.5, 'extr': 2.0}\n",
      "14932 {'pero': 13.0, 'cyto_nucl': 6.0, 'nucl': 5.0, 'cyto': 5.0, 'mito': 2.0, 'extr': 2.0}\n",
      "13590 {'pero': 10.0, 'nucl': 8.5, 'cyto_nucl': 8.0, 'cyto': 6.5}\n",
      "9457 {'cyto_pero': 12.0, 'cyto': 11.5, 'pero': 11.5, 'nucl': 3.0}\n",
      "13135 {'pero': 8.0, 'nucl': 7.5, 'cyto_nucl': 7.5, 'cyto': 6.5, 'extr': 3.0}\n",
      "15829 {'pero': 7.5, 'cyto_pero': 6.5, 'cysk': 6.0, 'mito': 5.0, 'cyto': 4.5, 'nucl': 3.0}\n",
      "15247 {'pero': 8.0, 'nucl': 7.5, 'cyto_nucl': 7.0, 'cyto': 5.5, 'mito': 3.0}\n",
      "14506 {'pero': 9.0, 'cysk': 6.0, 'cyto': 5.0, 'mito': 4.0, 'cyto_nucl': 4.0}\n",
      "13626 {'pero': 11.5, 'cyto_pero': 11.0, 'cyto': 9.5, 'mito': 4.0}\n",
      "16147 {'pero': 8.0, 'cyto': 7.0, 'mito': 6.0, 'cyto_nucl': 6.0}\n",
      "13779 {'pero': 6.0, 'cyto': 5.5, 'cyto_nucl': 5.0, 'cysk': 5.0, 'mito': 4.0, 'nucl': 3.5}\n"
     ]
    }
   ],
   "source": [
    "for x in pero_top_list:\n",
    "    print(x, wolfpsort[x])"
   ]
  },
  {
   "cell_type": "code",
   "execution_count": 11,
   "metadata": {},
   "outputs": [],
   "source": [
    "from Bio import SeqIO"
   ]
  },
  {
   "cell_type": "code",
   "execution_count": 12,
   "metadata": {},
   "outputs": [
    {
     "name": "stdout",
     "output_type": "stream",
     "text": [
      "ID: 8690\n",
      "Name: 8690\n",
      "Description: 8690 gm1.300_g_mRNA\n",
      "Number of features: 0\n",
      "Seq('MAPAQHHPFYVQEKAAFEQDPANAVLLALGKDNEGLAGLARDVIRDAPDPTPPR...RC*')\n",
      "ID: 8690\n",
      "Name: 8690\n",
      "Description: 8690 gm1.300_g_mRNA\n",
      "Number of features: 0\n",
      "Seq('MAPAQHHPFY')\n"
     ]
    }
   ],
   "source": [
    "record_dict = SeqIO.index(\"../../Data/Rhoto_IFO0880_4/Rhoto_IFO0880_4_GeneCatalog_proteins_20170509.aa.modified.fasta\", \"fasta\")\n",
    "print(record_dict[\"8690\"])\n",
    "print(record_dict[\"8690\"][0:10])"
   ]
  },
  {
   "cell_type": "code",
   "execution_count": 13,
   "metadata": {},
   "outputs": [],
   "source": [
    "with open(\"../../Data/WoLFPSort/all_last_3.txt\", \"w\") as output_handle:\n",
    "    writer = csv.writer(output_handle)\n",
    "    for x in record_dict.keys():\n",
    "        writer.writerow([x, record_dict[x][-4:].seq])"
   ]
  },
  {
   "cell_type": "code",
   "execution_count": 14,
   "metadata": {
    "scrolled": false
   },
   "outputs": [
    {
     "name": "stdout",
     "output_type": "stream",
     "text": [
      "14977 TSFAHKSRDHGDTSKVEGRPTKIDRPSWFGSSLNPAVAISADPMEGSEF GKL*\n",
      "14189 HTQDPTWDARNVLQHAGDVRHTYKSSIGALFRLSRSWSAAAAPYRFKAI TGG*\n",
      "14081 VAGAEGSQGKAWATLLTKTSYLQGALVLADSLARHRSKYPLVVFATQEL DLN*\n",
      "11389 ADNDSTGATRLARQRSTSSEIHQSRLSSSGQLIVVANRLPVTITADKDA GKA*\n",
      "14222 DYQNRVGSKFGGGGVARADETAIDRRERLRKLALETIDLAKDPYILRNH AQK*\n",
      "16607 SSDADKRPLHHSEVAKHADKDSLWVIVNGNAYDLTEFAPEHPGGMGILL ASL*\n",
      "8690 APAQHHPFYVQEKAAFEQDPANAVLLALGKDNEGLAGLARDVIRDAPDP ARC*\n",
      "15116 HVDHTETTPLRARLQSTTELPVDESVQAFLDKLANRIYSLESEVGRLQA GRL*\n",
      "11263 SLGSCCVSGFKHEGTPSGKTQDINGVSTYISLPKGDYDKTKALLFLTDI AHL*\n",
      "14932 PLLHGGSPRDPEGQSDHFAVNQKVAVDGPRGQTNAAAAMQRILADAVQQ NGR*\n",
      "13590 VDSGPSGAGAAAQDALTPPAQPAKPSLLLRRGKRSFLIALPSSYADALA AKV*\n",
      "9457 QAAKMSPQHNALPQGVQIHGKVEGRHQEILTPAALQFLAVLHRNFNPTR AKL*\n",
      "13135 KNQQVCPPSPRPLLDSTFPDFPSSSASQIIFINDWYHDTTDTIVNSLLS ECS*\n",
      "15829 VLAPPTDPSHPNDHSLIKHNNDPLHPAFLIPELCRGFYKLGWVTGTGGG TKQ*\n",
      "15247 NGGKSVSNGSGGLDAMQYEGEEGFVPLWEGSNLDRREFVRLALQAFQDM AIA*\n",
      "14506 SAPHALVEWVDGLLRQFGPASSQLKSWIALEDKPTKIADMMWWYYAIHP RSF*\n",
      "13626 NKDDLPPRSTPTYALYQREIFLDGATKGKLPEFNTDPDEMENVAKETLS AKL*\n",
      "16147 NYIQLEKLGEGTYATVHKGRSRITNELVALKEIHLDAEEGTPSTAIREI AYQ*\n",
      "13779 ASLSSLIASVVDNDQGGFGPSASHLPPQFKDIPYAPFSKNDKLGRIVDW DGL*\n"
     ]
    }
   ],
   "source": [
    "for x in pero_top_list:\n",
    "    print(x, record_dict[x][1:50].seq, record_dict[x][-4:].seq)"
   ]
  },
  {
   "cell_type": "code",
   "execution_count": 15,
   "metadata": {
    "scrolled": true
   },
   "outputs": [
    {
     "name": "stdout",
     "output_type": "stream",
     "text": [
      "8678 MLSSTASTAARRLAHIRMSSTTAQNGLREVFIVGAVRPDSFSRATRCPRA QRL*\n",
      "8885 MSAVYIASAKRTAFGAFGGALKSYTASQLGGFAAKAALAELPEGTKVDSV ERV*\n",
      "13813 MSSTISAAKERLSGLVSHLTPRGKAALTQQNDDDVVIVSAVRTPITRAKK AEN*\n",
      "9065 MSGLISSTIDSIRGTGKSKLLKKSPDDVVITMAVRTPLQKARKGGFKDMS VAE*\n",
      "15228 MRPSVPARAIADVLKKRPDDVCIVTTLRTPIGKFRGGLKDMHAEELLSHV VRD*\n",
      "10012 MTHYVPRLLRTTTLAARPALAASARTLPTRPAVASSRPVSTTASSAGLGL GAL*\n",
      "11989 MSLRLPLRQLAAKRVPPQALAARFASSEATAPAELAKTSSFAPYQWEDPL AFE*\n",
      "14070 MLARTARSAARSLAHAHRAPQAARCFSSYIESENPVSLYSLTEEERMLKD EYS*\n",
      "12570 MLSRLALRTSRTARLSTRSTRAYASEASEYTGGPTFELSEEQVGIRDLAR DYA*\n",
      "12564 MASSATSYLTHLVEGLQGQYGTVGLYAAVQRLFVGFGFVGGPGSCVIDAP GVY*\n",
      "12742 MSYQPPSSVPVEIPDGFKPLGTSGSRLLEIERSKASFSPADLEKYIYGDA SKL*\n",
      "12752 MAPQSTLDIQAARQRASFDPDVLHRVLLAGSKDPDMRKRVAQLISASPAF AKL*\n",
      "9700 MPTPLADTPTPPTPMETIAKERLNPPFDLRRMTYAMGDGEKEVKLREKHM AEE*\n",
      "12086 MAQKASTFTKEQVASHTSEKDGVWIIVEGGVYDVTKFLDDHPGGKKILLN AKL*\n",
      "10408 MDNSHPVVPYIGQAAWAFVQPHFSQYGKDTLAKLIAFVEGECIPAEKLFH SKL*\n",
      "12989 MTFGSLVPFAEPAHCRDLPSPYYNESHDRLRKAAREWAEEHIMDVAYEWE AKL*\n",
      "16253 MAARTFSLEQISEHNKEGDLWIVVNGDVYDLSRFTDIHPGGAGVLLASDI AVL*\n",
      "14805 MLPALRATSMRTALPRFPRQSVVRWQSSAAAGPGEYTSILVSQPAPGVSQ TNS*\n",
      "11362 MAEQLRFDKKTVVITGAGGGLGRAYSLFFASRGANVVVNDLSRENAQKVV LAQ*\n",
      "11907 MSNYESKLIKCTLPSEGVLQVTLARPPVNAYNSELSAELQRHFEQASSDP AKL*\n",
      "16515 MTTPQHPPVGPHLVVSYPAPKVLQLRLNRPEALNAMTDGLEADLCKMLDW ARL*\n",
      "11203 MLLTRTLRTLPRSQTYNAIRTLSTGAPDIQRLTVFGGGLMGAGIAQVAAQ YSS*\n",
      "15180 ADGIDKVAVIGAGQMGIGISYVAAKTAGVDVLISDRSAQQITKGLQFVDT YTAR\n",
      "16284 MDVAQKVWIVTGGASGLGAAVVAALVTRGGFVAVLDLNEEAGSQAEKQYG AKM*\n",
      "13606 MTSQPLTALVTGGASGIGLGIVRTLLASTSPAYNILIVDRSSASFPSLLS ASF*\n",
      "11362 MAEQLRFDKKTVVITGAGGGLGRAYSLFFASRGANVVVNDLSRENAQKVV LAQ*\n",
      "9469 MPAHNLDKAVGHESKPLPVAWNQRDLLLYAVGIGAKKDELAFTYEDDPNW SKL*\n",
      "10293 MAPADAILVEIQAPFAIITLNQPQKKNALDSTLYKRLSSILQDIDRKPEV HKI*\n",
      "13228 MAQQTASVFRPDLMKGKVAFVTGGGSGICYGITKQLMAHGANAAIFGRRK SKL*\n",
      "11338 MSLAFEPVELPNGVVLKNRICKAAMEENLADIDHFLAPSHELIELYRAWG KEE*\n"
     ]
    }
   ],
   "source": [
    "temp = [\"8678\",\"8885\",\"13813\",\"9065\",\"15228\",\"10012\",\"11989\",\"14070\",\"12570\",\"12564\",\"12742\",\"12752\",\"9700\",\"12086\",\"10408\",\"12989\",\"16253\",\"14805\",\"11362\",\"11907\",\"16515\",\"11203\",\"15180\",\"16284\",\"13606\",\"11362\",\"9469\",\n",
    "        \"10293\",\"13228\",\"11338\"]\n",
    "for x in temp:\n",
    "    print(x, record_dict[x][0:50].seq, record_dict[x][-4:].seq)\n",
    "#    print(record_dict[x][-4:].seq)"
   ]
  },
  {
   "cell_type": "code",
   "execution_count": 16,
   "metadata": {},
   "outputs": [],
   "source": [
    "with open(\"../../Data/WoLFPSort/pero_first_50.fasta\", \"w\") as output_handle:\n",
    "    for x in pero_list:\n",
    "        SeqIO.write(record_dict[x][0:50], output_handle, \"fasta\")"
   ]
  },
  {
   "cell_type": "code",
   "execution_count": 17,
   "metadata": {},
   "outputs": [],
   "source": [
    "with open(\"../../Data/WoLFPSort/pero_last_10.fasta\", \"w\") as output_handle:\n",
    "    for x in pero_list:\n",
    "        SeqIO.write(record_dict[x][-10:], output_handle, \"fasta\")"
   ]
  },
  {
   "cell_type": "code",
   "execution_count": 188,
   "metadata": {},
   "outputs": [
    {
     "name": "stderr",
     "output_type": "stream",
     "text": [
      "Writing results to output directory 'pero_first_50_meme_zoops_10w_3'.\n",
      "Initializing the motif probability tables for 2 to 224 sites...\n",
      "nsites = 224\n",
      "Done initializing.\n",
      "SEEDS: highwater mark: seq 223 pos 50\n",
      "\n",
      "seqs=   224, min=  50, max=   50, total=    11200\n",
      "\n",
      "motif=1\n",
      "SEED WIDTHS: 8 10\n",
      "em: w=  10, psites= 224, iter=  10 Warning: Can not convert EPS file to PNG as no install of Image Magick or Ghostscript is usable.\n",
      "\n",
      "motif=2\n",
      "SEED WIDTHS: 8 10\n",
      "em: w=  10, psites= 224, iter=  10 Warning: Can not convert EPS file to PNG as no install of Image Magick or Ghostscript is usable.\n",
      "\n",
      "motif=3\n",
      "SEED WIDTHS: 8 10\n",
      "em: w=  10, psites= 224, iter=  10 Warning: Can not convert EPS file to PNG as no install of Image Magick or Ghostscript is usable.\n",
      "\n"
     ]
    }
   ],
   "source": [
    "%%bash\n",
    "cd ../../Data/WoLFPSort/\n",
    "meme pero_first_50.fasta -mod zoops -maxw 10 -nmotifs 3 -o pero_first_50_meme_zoops_10w_3"
   ]
  },
  {
   "cell_type": "code",
   "execution_count": 189,
   "metadata": {},
   "outputs": [],
   "source": [
    "%%bash\n",
    "open ../../Data/WoLFPSort/pero_first_50_meme_zoops_10w_3/meme.html"
   ]
  },
  {
   "cell_type": "code",
   "execution_count": 191,
   "metadata": {},
   "outputs": [
    {
     "name": "stderr",
     "output_type": "stream",
     "text": [
      "Writing results to output directory 'pero_last_10_meme_zoops_10w_3'.\n",
      "Initializing the motif probability tables for 2 to 224 sites...\n",
      "nsites = 224\n",
      "Done initializing.\n",
      "SEEDS: highwater mark: seq 223 pos 10\n",
      "\n",
      "seqs=   224, min=  10, max=   10, total=     2240\n",
      "\n",
      "motif=1\n",
      "SEED WIDTHS: 8 10\n",
      "em: w=  10, psites= 224, iter=   0 Warning: Can not convert EPS file to PNG as no install of Image Magick or Ghostscript is usable.\n",
      "\n",
      "motif=2\n",
      "SEED WIDTHS: 8 10\n",
      "em: w=  10, psites= 224, iter=   0 Warning: Can not convert EPS file to PNG as no install of Image Magick or Ghostscript is usable.\n",
      "\n",
      "motif=3\n",
      "SEED WIDTHS: 8 10\n",
      "em: w=  10, psites= 224, iter=   0 Warning: Can not convert EPS file to PNG as no install of Image Magick or Ghostscript is usable.\n",
      "\n"
     ]
    }
   ],
   "source": [
    "%%bash\n",
    "cd ../../Data/WoLFPSort/\n",
    "meme pero_last_10.fasta -mod zoops -maxw 10 -nmotifs 3 -o pero_last_10_meme_zoops_10w_3"
   ]
  },
  {
   "cell_type": "code",
   "execution_count": 192,
   "metadata": {},
   "outputs": [],
   "source": [
    "%%bash\n",
    "open ../../Data/WoLFPSort/pero_last_10_meme_zoops_10w_3/meme.html"
   ]
  },
  {
   "cell_type": "markdown",
   "metadata": {},
   "source": [
    "PTS1 and PTS2 sequences from http://216.92.14.62/Target_signal.php"
   ]
  },
  {
   "cell_type": "code",
   "execution_count": 230,
   "metadata": {},
   "outputs": [
    {
     "name": "stderr",
     "output_type": "stream",
     "text": [
      "The output directory 'PTS1_meme' already exists.\n",
      "Its contents will be overwritten.\n",
      "Initializing the motif probability tables for 2 to 98 sites...\n",
      "nsites = 98\n",
      "Done initializing.\n",
      "SEEDS: highwater mark: seq 97 pos 8\n",
      "\n",
      "seqs=    98, min=   8, max=    8, total=      784\n",
      "\n",
      "motif=1\n",
      "SEED WIDTHS: 8\n",
      "em: w=   8, psites=  98, iter=   0 Warning: Can not convert EPS file to PNG as no install of Image Magick or Ghostscript is usable.\n",
      "\n"
     ]
    }
   ],
   "source": [
    "%%bash\n",
    "cd ../../Data/WoLFPSort/\n",
    "meme PTS1_sequence.fasta -mod oops -maxw 8 -nmotifs 1 -oc PTS1_meme"
   ]
  },
  {
   "cell_type": "code",
   "execution_count": 235,
   "metadata": {},
   "outputs": [],
   "source": [
    "%%bash\n",
    "open ../../Data/WoLFPSort/PTS1_meme/meme.html"
   ]
  },
  {
   "cell_type": "code",
   "execution_count": 155,
   "metadata": {},
   "outputs": [
    {
     "name": "stderr",
     "output_type": "stream",
     "text": [
      "The output directory 'PTS2_meme' already exists.\n",
      "Its contents will be overwritten.\n",
      "Initializing the motif probability tables for 2 to 9 sites...\n",
      "nsites = 9\n",
      "Done initializing.\n",
      "SEEDS: highwater mark: seq 8 pos 9\n",
      "\n",
      "seqs=     9, min=   9, max=    9, total=       81\n",
      "\n",
      "motif=1\n",
      "SEED WIDTHS: 8 9\n",
      "em: w=   9, psites=   9, iter=   0 Warning: Can not convert EPS file to PNG as no install of Image Magick or Ghostscript is usable.\n",
      "\n"
     ]
    }
   ],
   "source": [
    "%%bash\n",
    "cd ../../Data/WoLFPSort/\n",
    "meme PTS2_sequence.fasta -mod oops -maxw 9 -nmotifs 1 -oc PTS2_meme"
   ]
  },
  {
   "cell_type": "code",
   "execution_count": 211,
   "metadata": {},
   "outputs": [],
   "source": [
    "%%bash\n",
    "open ../../Data/WoLFPSort/PTS2_meme/meme.html"
   ]
  },
  {
   "cell_type": "code",
   "execution_count": 19,
   "metadata": {},
   "outputs": [],
   "source": [
    "with open(\"../../Data/WoLFPSort/all_first_50.fasta\", \"w\") as output_handle:\n",
    "    for x in wolfpsort.keys():\n",
    "        SeqIO.write(record_dict[x][0:50], output_handle, \"fasta\")"
   ]
  },
  {
   "cell_type": "code",
   "execution_count": 20,
   "metadata": {},
   "outputs": [],
   "source": [
    "with open(\"../../Data/WoLFPSort/all_last_9.fasta\", \"w\") as output_handle:\n",
    "    for x in wolfpsort.keys():\n",
    "        SeqIO.write(record_dict[x][-9:], output_handle, \"fasta\")"
   ]
  },
  {
   "cell_type": "code",
   "execution_count": 233,
   "metadata": {},
   "outputs": [
    {
     "name": "stderr",
     "output_type": "stream",
     "text": [
      "Using motif 1 of width 8.\n",
      "Computing q-values.\n",
      "Estimating pi_0 from a uniformly sampled set of 8611 p-values.\n",
      "Estimating pi_0.\n",
      "Estimated pi_0=0.963048\n"
     ]
    }
   ],
   "source": [
    "%%bash\n",
    "cd ../../Data/WoLFPSort/\n",
    "fimo --oc fimo_PTS1_all_last_9 --thresh 1e-3 PTS1_meme/meme.txt all_last_9.fasta"
   ]
  },
  {
   "cell_type": "code",
   "execution_count": 234,
   "metadata": {},
   "outputs": [],
   "source": [
    "%%bash\n",
    "open ../../Data/WoLFPSort/fimo_PTS1_all_last_9/fimo.html"
   ]
  },
  {
   "cell_type": "code",
   "execution_count": 236,
   "metadata": {},
   "outputs": [
    {
     "name": "stderr",
     "output_type": "stream",
     "text": [
      "Using motif 1 of width 9.\n",
      "Computing q-values.\n",
      "Estimating pi_0 from a uniformly sampled set of 10000 p-values.\n",
      "Estimating pi_0.\n",
      "Estimated pi_0=0.969494\n"
     ]
    }
   ],
   "source": [
    "%%bash\n",
    "cd ../../Data/WoLFPSort/\n",
    "fimo --oc fimo_PTS2_all_first_50 PTS2_meme/meme.txt all_first_50.fasta "
   ]
  },
  {
   "cell_type": "code",
   "execution_count": 237,
   "metadata": {},
   "outputs": [],
   "source": [
    "%%bash\n",
    "open ../../Data/WoLFPSort/fimo_PTS2_all_first_50/fimo.html"
   ]
  },
  {
   "cell_type": "code",
   "execution_count": null,
   "metadata": {},
   "outputs": [],
   "source": []
  }
 ],
 "metadata": {
  "kernelspec": {
   "display_name": "python3_biopython",
   "language": "python",
   "name": "python3_biopython"
  },
  "language_info": {
   "codemirror_mode": {
    "name": "ipython",
    "version": 3
   },
   "file_extension": ".py",
   "mimetype": "text/x-python",
   "name": "python",
   "nbconvert_exporter": "python",
   "pygments_lexer": "ipython3",
   "version": "3.9.1"
  }
 },
 "nbformat": 4,
 "nbformat_minor": 2
}
