{
 "cells": [
  {
   "cell_type": "markdown",
   "metadata": {
    "collapsed": true
   },
   "source": [
    "Install mysql from conda   \n",
    "run ./scripts/mysql_install_db --no-defaults from /users/joonhoonkim/bin/anaconda/pkgs/mysql-5.5.24-0  \n",
    "the root is already running a mysqld instance using port 3306  \n",
    "./bin/mysqld_safe --no-defaults --port 3308 & will run mysqld using port 3308, but use ~/.my.cnf file  \n",
    "\n",
    "[mysqld]  \n",
    "port=3308  \n",
    "basedir=/users/joonhoonkim/bin/anaconda/pkgs/mysql-5.5.24-0  \n",
    "datadir=/users/joonhoonkim/bin/anaconda/pkgs/mysql-5.5.24-0/data  \n",
    "plugin-dir=/users/joonhoonkim/bin/anaconda/pkgs/mysql-5.5.24-0/lib/plugin  \n",
    "log-error=/users/joonhoonkim/bin/anaconda/pkgs/mysql-5.5.24-0/data/mysql.err  \n",
    "pid-file=/users/joonhoonkim/bin/anaconda/pkgs/mysql-5.5.24-0/mysql.pid  \n",
    "\n",
    "[client]  \n",
    "port=3308  \n",
    "\n",
    "conda perl-dbd-mysql does not work  \n",
    "conda remove perl-dbd-mysql and cpan DBD::mysql  \n",
    "\n",
    "rehash and run the server with .my.cnf and local_infile=1  \n",
    "mysqld_safe --defaults-file=~/.my.cnf --local_infile=1 &  \n",
    "\n",
    "connect to server   \n",
    "mysql --defaults-file=~/.my.cnf  \n",
    "\n",
    "check users and set password for root  \n",
    "SELECT User, Host, Password FROM mysql.user;  \n",
    "SET PASSWORD FOR 'root'@'localhost' = PASSWORD('password');  \n",
    "\n",
    "create a user, a database, and assign  \n",
    "CREATE USER 'joonhoonkim'@'localhost' IDENTIFIED BY 'password';  \n",
    "CREATE DATABASE orthomcl;  \n",
    "GRANT ALL PRIVILEGES ON orthomcl.* TO 'joonhoonkim'@'localhost';  \n",
    "\n",
    "connect as a user and check database  \n",
    "mysql --defaults-file=~/.my.cnf -u joonhoonkim -p  \n",
    "SHOW DATABASES;  \n",
    "\n",
    "To shutdown   \n",
    "mysqladmin --defaults-file=~/.my.cnf -u root -p shutdown  "
   ]
  },
  {
   "cell_type": "code",
   "execution_count": 3,
   "metadata": {},
   "outputs": [
    {
     "name": "stdout",
     "output_type": "stream",
     "text": [
      "# this config assumes a mysql database named 'orthomcl'.  adjust according\n",
      "# to your situation.\n",
      "dbVendor=mysql \n",
      "dbConnectString=dbi:mysql:orthomcl:3307\n",
      "dbLogin=\n",
      "dbPassword=\n",
      "similarSequencesTable=SimilarSequences\n",
      "orthologTable=Ortholog\n",
      "inParalogTable=InParalog\n",
      "coOrthologTable=CoOrtholog\n",
      "interTaxonMatchView=InterTaxonMatch\n",
      "percentMatchCutoff=50\n",
      "evalueExponentCutoff=-5\n",
      "oracleIndexTblSpc=NONE"
     ]
    }
   ],
   "source": [
    "%%bash\n",
    "cd ../../Data/OrthoMCL\n",
    "cp ~/bin/anaconda/pkgs/orthomcl-2.0.9-pl5.22.0_0/share/orthomcl/orthomcl.config.template .\n",
    "cat orthomcl.config.template"
   ]
  },
  {
   "cell_type": "code",
   "execution_count": 21,
   "metadata": {},
   "outputs": [
    {
     "name": "stdout",
     "output_type": "stream",
     "text": [
      "# this config assumes a mysql database named 'orthomcl'.  adjust according\n",
      "# to your situation.\n",
      "dbVendor=mysql \n",
      "dbConnectString=dbi:mysql:orthomcl:localhost:3308;mysql_local_infile=1\n",
      "dbLogin=joonhoonkim\n",
      "dbPassword=password\n",
      "similarSequencesTable=SimilarSequences\n",
      "orthologTable=Ortholog\n",
      "inParalogTable=InParalog\n",
      "coOrthologTable=CoOrtholog\n",
      "interTaxonMatchView=InterTaxonMatch\n",
      "percentMatchCutoff=50\n",
      "evalueExponentCutoff=-5\n",
      "oracleIndexTblSpc=NONE"
     ]
    }
   ],
   "source": [
    "%%bash\n",
    "cd ../../Data/OrthoMCL\n",
    "cat orthomcl.config.template | \\\n",
    "    sed 's/3307/localhost:3308;mysql_local_infile=1/;\n",
    "         s/dbLogin=/dbLogin=joonhoonkim/;s/dbPassword=/dbPassword=password/' \\\n",
    "    > orthomcl.config\n",
    "cat orthomcl.config"
   ]
  },
  {
   "cell_type": "code",
   "execution_count": 24,
   "metadata": {},
   "outputs": [],
   "source": [
    "%%bash\n",
    "cd ../../Data/OrthoMCL\n",
    "orthomclInstallSchema orthomcl.config"
   ]
  },
  {
   "cell_type": "markdown",
   "metadata": {
    "collapsed": true
   },
   "source": [
    "S. cerevisiae from SGD  \n",
    "R. toruloides IFO0880 and NP11, L. starkeyi, Y. lipolytica from JGI  \n",
    "C. reinhardtii from http://augustus.gobics.de/predictions/chlamydomonas/ version 5  \n",
    "E. coli from NCBI gb and http://rocaplab.ocean.washington.edu/tools/genbank_to_fasta (locus_tag for E. coli)  \n",
    "P. putida KT2440 + pDK1"
   ]
  },
  {
   "cell_type": "code",
   "execution_count": 1,
   "metadata": {
    "scrolled": true
   },
   "outputs": [
    {
     "name": "stdout",
     "output_type": "stream",
     "text": [
      ">YAL001C TFC3 SGDID:S000000001, Chr I from 151006-147594,151166-151097, Genome Release 64-2-1, reverse complement, Verified ORF, \"Subunit of RNA polymerase III transcription initiation factor complex; part of the TauB domain of TFIIIC that binds DNA at the BoxB promoter sites of tRNA and similar genes; cooperates with Tfc6p in DNA binding; largest of six subunits of the RNA polymerase III transcription initiation factor complex (TFIIIC)\"\n",
      ">jgi|Rhoto_IFO0880_4|10000|CE150238_100509_mRNA\n",
      ">jgi|Rhoto1|1|RHTO_00001\n",
      ">jgi|Lipst1_1|66866|fgenesh1_kg.1_#_1_#_Locus9988v2rpkm0.52\n",
      ">jgi|Yarli1|64471|YALI0A00110g\n",
      ">chromosome10;u5g1.t1\n",
      ">b0001 | thrL | thr operon leader peptide\n",
      ">PP_0001 parB chromosome-partitioning protein\n"
     ]
    }
   ],
   "source": [
    "%%bash\n",
    "cd ../../Data/OrthoMCL/inputFasta\n",
    "head -n 1 orf_trans.fasta\n",
    "head -n 1 Rhoto_IFO0880_4_GeneCatalog_proteins_20170509.aa.fasta\n",
    "head -n 1 Rhoto1_GeneCatalog_proteins_20141208.aa.fasta\n",
    "head -n 1 Lipst1_1_GeneCatalog_proteins_20110609.aa.fasta\n",
    "head -n 1 Yarli1_GeneCatalog_proteins_20130122.aa.fasta\n",
    "head -n 1 augustus.u5.aa.fasta\n",
    "head -n 1 NC_000913.aa.fasta\n",
    "head -n 1 KT2440_pDK1.aa.fasta"
   ]
  },
  {
   "cell_type": "code",
   "execution_count": 2,
   "metadata": {},
   "outputs": [
    {
     "name": "stdout",
     "output_type": "stream",
     "text": [
      ">chromosome10;u5g1.t1\n",
      ">chromosome10;u5g2.t1\n",
      ">CRv4_Au5_s10_g1_t1\n",
      ">CRv4_Au5_s10_g2_t1\n"
     ]
    }
   ],
   "source": [
    "%%bash\n",
    "#format C. reinhardtii as CRv4_Au5_s2_g8330_t1\n",
    "cd ../../Data/OrthoMCL/inputFasta\n",
    "head augustus.u5.aa.fasta | grep '>'\n",
    "head augustus.u5.aa.fasta | sed 's/Xscaf//;s/chromosome/CRv4_Au5_s/;s/;u5/_/;s/\\.t/_t/' | grep '>'\n",
    "cat augustus.u5.aa.fasta | sed 's/Xscaf//;s/chromosome/CRv4_Au5_s/;s/;u5/_/;s/\\.t/_t/' \\\n",
    "    > augustus.u5.modified.aa.fasta"
   ]
  },
  {
   "cell_type": "code",
   "execution_count": 3,
   "metadata": {},
   "outputs": [
    {
     "name": "stdout",
     "output_type": "stream",
     "text": [
      ">sce|YAL001C\n",
      ">rtoi|10000\n",
      ">rton|RHTO_00001\n",
      ">lst|66866\n",
      ">yli|YALI0A00110g\n",
      ">cre|CRv4_Au5_s10_g1_t1\n",
      ">eco|b0001\n",
      ">ppu|PP_0001\n"
     ]
    }
   ],
   "source": [
    "%%bash\n",
    "cd ../../Data/OrthoMCL/compliantFasta\n",
    "orthomclAdjustFasta sce ../inputFasta/orf_trans.fasta 1\n",
    "orthomclAdjustFasta rtoi ../inputFasta/Rhoto_IFO0880_4_GeneCatalog_proteins_20170509.aa.fasta 3\n",
    "orthomclAdjustFasta rton ../inputFasta/Rhoto1_GeneCatalog_proteins_20141208.aa.fasta 4\n",
    "orthomclAdjustFasta lst ../inputFasta/Lipst1_1_GeneCatalog_proteins_20110609.aa.fasta 3\n",
    "orthomclAdjustFasta yli ../inputFasta/Yarli1_GeneCatalog_proteins_20130122.aa.fasta 4\n",
    "orthomclAdjustFasta cre ../inputFasta/augustus.u5.modified.aa.fasta 1\n",
    "orthomclAdjustFasta eco ../inputFasta/NC_000913.aa.fasta 1\n",
    "orthomclAdjustFasta ppu ../inputFasta/KT2440_pDK1.aa.fasta 1\n",
    "head -n 1 sce.fasta\n",
    "head -n 1 rtoi.fasta\n",
    "head -n 1 rton.fasta\n",
    "head -n 1 lst.fasta\n",
    "head -n 1 yli.fasta\n",
    "head -n 1 cre.fasta\n",
    "head -n 1 eco.fasta\n",
    "head -n 1 ppu.fasta"
   ]
  },
  {
   "cell_type": "code",
   "execution_count": 4,
   "metadata": {},
   "outputs": [
    {
     "name": "stderr",
     "output_type": "stream",
     "text": [
      "processing file lst.fasta\n",
      "processing file ppu.fasta\n",
      "processing file yli.fasta\n",
      "processing file cre.fasta\n",
      "processing file rtoi.fasta\n",
      "processing file sce.fasta\n",
      "processing file rton.fasta\n",
      "processing file eco.fasta\n"
     ]
    }
   ],
   "source": [
    "%%bash\n",
    "cd ../../Data/OrthoMCL\n",
    "orthomclFilterFasta compliantFasta 10 20"
   ]
  },
  {
   "cell_type": "code",
   "execution_count": 11,
   "metadata": {},
   "outputs": [
    {
     "name": "stdout",
     "output_type": "stream",
     "text": [
      "64068\n",
      "\n",
      "\n",
      "Building a new DB, current time: 01/31/2018 20:55:10\n",
      "New DB name:   /mnt/nfsbioi.jbei/nfs/nfsbioi1/joonhoonkim/Orthomcl/orthomcl_blast\n",
      "New DB title:  goodProteins.fasta\n",
      "Sequence type: Protein\n",
      "Deleted existing Protein BLAST database named /mnt/nfsbioi.jbei/nfs/nfsbioi1/joonhoonkim/Orthomcl/orthomcl_blast\n",
      "Keep MBits: T\n",
      "Maximum file size: 1000000000B\n",
      "Adding sequences from FASTA; added 64068 sequences in 2.75626 seconds.\n"
     ]
    }
   ],
   "source": [
    "%%bash\n",
    "cd ../../Data/OrthoMCL\n",
    "grep '>' goodProteins.fasta | wc -l\n",
    "makeblastdb -in goodProteins.fasta -dbtype prot -out orthomcl_blast"
   ]
  },
  {
   "cell_type": "code",
   "execution_count": 6,
   "metadata": {},
   "outputs": [
    {
     "name": "stderr",
     "output_type": "stream",
     "text": [
      "creating new files:\n",
      "goodProteins.00.fasta\n",
      "goodProteins.01.fasta\n",
      "goodProteins.02.fasta\n",
      "goodProteins.03.fasta\n",
      "goodProteins.04.fasta\n",
      "goodProteins.05.fasta\n",
      "goodProteins.06.fasta\n",
      "goodProteins.07.fasta\n",
      "goodProteins.08.fasta\n",
      "goodProteins.09.fasta\n",
      "goodProteins.10.fasta\n",
      "goodProteins.11.fasta\n"
     ]
    }
   ],
   "source": [
    "%%bash\n",
    "cd ../../Data/OrthoMCL\n",
    "pyfasta split -n 12 goodProteins.fasta"
   ]
  },
  {
   "cell_type": "code",
   "execution_count": 12,
   "metadata": {
    "scrolled": true
   },
   "outputs": [
    {
     "name": "stderr",
     "output_type": "stream",
     "text": [
      "Selenocysteine (U) at position 197 replaced by X\n",
      "Selenocysteine (U) at position 196 replaced by X\n",
      "Selenocysteine (U) at position 196 replaced by X\n",
      "Selenocysteine (U) at position 140 replaced by X\n",
      "Selenocysteine (U) at position 140 replaced by X\n",
      "Selenocysteine (U) at position 197 replaced by X\n",
      "Selenocysteine (U) at position 196 replaced by X\n",
      "Selenocysteine (U) at position 196 replaced by X\n",
      "Selenocysteine (U) at position 140 replaced by X\n",
      "Selenocysteine (U) at position 197 replaced by X\n",
      "Selenocysteine (U) at position 196 replaced by X\n",
      "Selenocysteine (U) at position 196 replaced by X\n",
      "Selenocysteine (U) at position 140 replaced by X\n",
      "Selenocysteine (U) at position 197 replaced by X\n",
      "Selenocysteine (U) at position 196 replaced by X\n",
      "Selenocysteine (U) at position 196 replaced by X\n",
      "Selenocysteine (U) at position 140 replaced by X\n",
      "Selenocysteine (U) at position 197 replaced by X\n",
      "Selenocysteine (U) at position 196 replaced by X\n",
      "Selenocysteine (U) at position 196 replaced by X\n",
      "Selenocysteine (U) at position 140 replaced by X\n",
      "Selenocysteine (U) at position 140 replaced by X\n",
      "Selenocysteine (U) at position 140 replaced by X\n",
      "Selenocysteine (U) at position 197 replaced by X\n",
      "Selenocysteine (U) at position 196 replaced by X\n",
      "Selenocysteine (U) at position 196 replaced by X\n",
      "Selenocysteine (U) at position 140 replaced by X\n",
      "Selenocysteine (U) at position 140 replaced by X\n",
      "Selenocysteine (U) at position 197 replaced by X\n",
      "Selenocysteine (U) at position 196 replaced by X\n",
      "Selenocysteine (U) at position 196 replaced by X\n",
      "Selenocysteine (U) at position 140 replaced by X\n",
      "Selenocysteine (U) at position 197 replaced by X\n",
      "Selenocysteine (U) at position 196 replaced by X\n",
      "Selenocysteine (U) at position 196 replaced by X\n",
      "Selenocysteine (U) at position 140 replaced by X\n",
      "Selenocysteine (U) at position 140 replaced by X\n",
      "Selenocysteine (U) at position 197 replaced by X\n",
      "Selenocysteine (U) at position 196 replaced by X\n",
      "Selenocysteine (U) at position 140 replaced by X\n",
      "Selenocysteine (U) at position 197 replaced by X\n",
      "Selenocysteine (U) at position 196 replaced by X\n",
      "Selenocysteine (U) at position 196 replaced by X\n",
      "Selenocysteine (U) at position 140 replaced by X\n",
      "Selenocysteine (U) at position 197 replaced by X\n",
      "Selenocysteine (U) at position 196 replaced by X\n",
      "Selenocysteine (U) at position 140 replaced by X\n",
      "Selenocysteine (U) at position 140 replaced by X\n",
      "Selenocysteine (U) at position 140 replaced by X\n",
      "Selenocysteine (U) at position 197 replaced by X\n",
      "Selenocysteine (U) at position 196 replaced by X\n",
      "Selenocysteine (U) at position 196 replaced by X\n",
      "Selenocysteine (U) at position 140 replaced by X\n",
      "Selenocysteine (U) at position 197 replaced by X\n",
      "Selenocysteine (U) at position 196 replaced by X\n",
      "Selenocysteine (U) at position 196 replaced by X\n",
      "Selenocysteine (U) at position 140 replaced by X\n",
      "Selenocysteine (U) at position 140 replaced by X\n",
      "Selenocysteine (U) at position 197 replaced by X\n",
      "Selenocysteine (U) at position 196 replaced by X\n",
      "Selenocysteine (U) at position 196 replaced by X\n",
      "Selenocysteine (U) at position 140 replaced by X\n",
      "Selenocysteine (U) at position 197 replaced by X\n",
      "Selenocysteine (U) at position 196 replaced by X\n",
      "Selenocysteine (U) at position 196 replaced by X\n",
      "Selenocysteine (U) at position 140 replaced by X\n",
      "Selenocysteine (U) at position 197 replaced by X\n",
      "Selenocysteine (U) at position 196 replaced by X\n",
      "Selenocysteine (U) at position 196 replaced by X\n",
      "Selenocysteine (U) at position 140 replaced by X\n",
      "Selenocysteine (U) at position 197 replaced by X\n",
      "Selenocysteine (U) at position 196 replaced by X\n",
      "Selenocysteine (U) at position 196 replaced by X\n",
      "Selenocysteine (U) at position 140 replaced by X\n",
      "Selenocysteine (U) at position 197 replaced by X\n",
      "Selenocysteine (U) at position 196 replaced by X\n",
      "Selenocysteine (U) at position 196 replaced by X\n",
      "Selenocysteine (U) at position 140 replaced by X\n"
     ]
    }
   ],
   "source": [
    "%%bash\n",
    "cd ../../Data/OrthoMCL\n",
    "ls goodProteins.??.fasta | parallel \"blastall -p blastp -F 'm S' -v 100000 -b 100000 -e 1e-5 -d orthomcl_blast \\\n",
    "                                              -i {} -o {.}.tab -m 8 -z 64068\""
   ]
  },
  {
   "cell_type": "code",
   "execution_count": 13,
   "metadata": {},
   "outputs": [],
   "source": [
    "%%bash\n",
    "cd ../../Data/OrthoMCL\n",
    "cat goodProteins.??.tab > blastall.tab"
   ]
  },
  {
   "cell_type": "code",
   "execution_count": 14,
   "metadata": {},
   "outputs": [
    {
     "name": "stderr",
     "output_type": "stream",
     "text": [
      "acquiring genes from lst.fasta\n",
      "acquiring genes from ppu.fasta\n",
      "acquiring genes from yli.fasta\n",
      "acquiring genes from cre.fasta\n",
      "acquiring genes from rtoi.fasta\n",
      "acquiring genes from sce.fasta\n",
      "acquiring genes from rton.fasta\n",
      "acquiring genes from eco.fasta\n"
     ]
    }
   ],
   "source": [
    "%%bash\n",
    "cd ../../Data/OrthoMCL\n",
    "orthomclBlastParser blastall.tab compliantFasta > similarSequences.txt"
   ]
  },
  {
   "cell_type": "code",
   "execution_count": 25,
   "metadata": {},
   "outputs": [],
   "source": [
    "%%bash\n",
    "cd ../../Data/OrthoMCL\n",
    "orthomclLoadBlast orthomcl.config similarSequences.txt"
   ]
  },
  {
   "cell_type": "code",
   "execution_count": 26,
   "metadata": {},
   "outputs": [],
   "source": [
    "%%bash\n",
    "cd ../../Data/OrthoMCL\n",
    "orthomclPairs orthomcl.config orthomcl_pairs.log cleanup=no"
   ]
  },
  {
   "cell_type": "code",
   "execution_count": 28,
   "metadata": {},
   "outputs": [],
   "source": [
    "%%bash\n",
    "cd ../../Data/OrthoMCL\n",
    "orthomclDumpPairsFiles orthomcl.config"
   ]
  },
  {
   "cell_type": "code",
   "execution_count": 29,
   "metadata": {
    "scrolled": true
   },
   "outputs": [
    {
     "name": "stderr",
     "output_type": "stream",
     "text": [
      ".....[mcl] new tab created\n",
      "[mcl] pid 1235\n",
      " ite -------------------  chaos  time hom(avg,lo,hi) m-ie m-ex i-ex fmv\n",
      "  1  ...................  19.92  0.13 0.99/0.04/3.56 1.50 1.48 1.48   0\n",
      "  2  ...................  29.36  0.23 0.92/0.25/2.77 1.61 1.15 1.70   1\n",
      "  3  ...................  26.92  0.25 0.88/0.20/2.33 1.50 0.95 1.62   2\n",
      "  4  ...................  17.70  0.22 0.85/0.18/2.54 1.39 0.91 1.47   1\n",
      "  5  ...................  19.67  0.18 0.83/0.12/2.24 1.25 0.89 1.30   1\n",
      "  6  ...................  14.76  0.14 0.82/0.07/1.96 1.15 0.89 1.16   0\n",
      "  7  ...................  24.98  0.12 0.83/0.10/1.33 1.08 0.88 1.02   0\n",
      "  8  ...................  24.56  0.10 0.84/0.24/1.37 1.05 0.88 0.90   0\n",
      "  9  ...................   5.86  0.09 0.86/0.12/1.15 1.03 0.87 0.78   0\n",
      " 10  ...................   9.53  0.08 0.88/0.23/1.28 1.02 0.86 0.68   0\n",
      " 11  ...................   6.39  0.06 0.90/0.36/1.31 1.01 0.85 0.58   0\n",
      " 12  ...................   3.81  0.05 0.92/0.33/1.21 1.01 0.85 0.49   0\n",
      " 13  ...................   2.66  0.04 0.93/0.32/1.01 1.01 0.85 0.42   0\n",
      " 14  ...................   2.93  0.04 0.95/0.35/1.07 1.00 0.88 0.37   0\n",
      " 15  ...................   2.37  0.03 0.96/0.42/1.16 1.00 0.90 0.33   0\n",
      " 16  ...................   1.73  0.03 0.97/0.52/1.00 1.00 0.92 0.30   0\n",
      " 17  ...................   2.42  0.03 0.98/0.47/1.03 1.00 0.93 0.28   0\n",
      " 18  ...................   2.98  0.03 0.98/0.45/1.19 1.00 0.95 0.27   0\n",
      " 19  ...................   3.09  0.02 0.99/0.49/1.00 1.00 0.95 0.25   0\n",
      " 20  ...................   2.10  0.03 0.99/0.56/1.00 1.00 0.95 0.24   0\n",
      " 21  ...................   1.56  0.02 0.99/0.57/1.00 1.00 0.97 0.24   0\n",
      " 22  ...................   0.81  0.02 0.99/0.55/1.00 1.00 0.97 0.23   0\n",
      " 23  ...................   0.89  0.02 1.00/0.58/1.00 1.00 0.99 0.23   0\n",
      " 24  ...................   0.73  0.02 1.00/0.67/1.00 1.00 0.99 0.22   0\n",
      " 25  ...................   0.73  0.02 1.00/0.60/1.00 1.00 0.99 0.22   0\n",
      " 26  ...................   0.90  0.02 1.00/0.56/1.00 1.00 0.99 0.22   0\n",
      " 27  ...................   0.83  0.02 1.00/0.63/1.00 1.00 1.00 0.22   0\n",
      " 28  ...................   0.50  0.02 1.00/0.63/1.00 1.00 1.00 0.22   0\n",
      " 29  ...................   0.38  0.02 1.00/0.74/1.00 1.00 1.00 0.22   0\n",
      " 30  ...................   0.25  0.02 1.00/0.76/1.00 1.00 1.00 0.22   0\n",
      " 31  ...................   0.25  0.02 1.00/0.76/1.00 1.00 1.00 0.22   0\n",
      " 32  ...................   0.25  0.02 1.00/0.77/1.00 1.00 1.00 0.22   0\n",
      " 33  ...................   0.24  0.02 1.00/0.76/1.00 1.00 1.00 0.22   0\n",
      " 34  ...................   0.17  0.02 1.00/0.83/1.00 1.00 1.00 0.22   0\n",
      " 35  ...................   0.21  0.02 1.00/0.83/1.00 1.00 1.00 0.22   0\n",
      " 36  ...................   0.25  0.02 1.00/0.77/1.00 1.00 1.00 0.22   0\n",
      " 37  ...................   0.24  0.02 1.00/0.77/1.00 1.00 1.00 0.21   0\n",
      " 38  ...................   0.25  0.02 1.00/0.77/1.00 1.00 1.00 0.21   0\n",
      " 39  ...................   0.24  0.02 1.00/0.77/1.00 1.00 1.00 0.21   0\n",
      " 40  ...................   0.17  0.02 1.00/0.83/1.00 1.00 1.00 0.21   0\n",
      " 41  ...................   0.07  0.02 1.00/0.93/1.00 1.00 1.00 0.21   0\n",
      " 42  ...................   0.02  0.02 1.00/0.98/1.00 1.00 1.00 0.21   0\n",
      " 43  ...................   0.00  0.02 1.00/1.00/1.00 1.00 1.00 0.21   0\n",
      " 44  ...................   0.00  0.02 1.00/1.00/1.00 1.00 1.00 0.21   0\n",
      "[mcl] jury pruning marks: <99,99,99>, out of 100\n",
      "[mcl] jury pruning synopsis: <99.0 or perfect> (cf -scheme, -do log)\n",
      "[mcl] output is in mclOutput\n",
      "[mcl] 12240 clusters found\n",
      "[mcl] output is in mclOutput\n",
      "\n",
      "Please cite:\n",
      "    Stijn van Dongen, Graph Clustering by Flow Simulation.  PhD thesis,\n",
      "    University of Utrecht, May 2000.\n",
      "       (  http://www.library.uu.nl/digiarchief/dip/diss/1895620/full.pdf\n",
      "       or  http://micans.org/mcl/lit/svdthesis.pdf.gz)\n",
      "OR\n",
      "    Stijn van Dongen, A cluster algorithm for graphs. Technical\n",
      "    Report INS-R0010, National Research Institute for Mathematics\n",
      "    and Computer Science in the Netherlands, Amsterdam, May 2000.\n",
      "       (  http://www.cwi.nl/ftp/CWIreports/INS/INS-R0010.ps.Z\n",
      "       or  http://micans.org/mcl/lit/INS-R0010.ps.Z)\n",
      "\n"
     ]
    }
   ],
   "source": [
    "%%bash\n",
    "cd ../../Data/OrthoMCL\n",
    "mcl mclInput --abc -I 1.5 -o mclOutput"
   ]
  },
  {
   "cell_type": "code",
   "execution_count": 30,
   "metadata": {},
   "outputs": [],
   "source": [
    "%%bash\n",
    "cd ../../Data/OrthoMCL\n",
    "orthomclMclToGroups OG 1000 < mclOutput > groups.txt"
   ]
  },
  {
   "cell_type": "code",
   "execution_count": 31,
   "metadata": {},
   "outputs": [
    {
     "name": "stdout",
     "output_type": "stream",
     "text": [
      "OG13230: sce|YOR242C yli|YALI0D06710g\n",
      "OG13231: sce|YOR367W yli|YALI0E32241g\n",
      "OG13232: sce|YPL034W yli|YALI0C09394g\n",
      "OG13233: sce|YPL118W yli|YALI0B14993g\n",
      "OG13234: sce|YPL126W yli|YALI0B04862g\n",
      "OG13235: sce|YPL188W yli|YALI0E17963g\n",
      "OG13236: sce|YPL215W yli|YALI0C18227g\n",
      "OG13237: sce|YPR124W yli|YALI0C20295g\n",
      "OG13238: sce|YPR143W yli|YALI0C12881g\n",
      "OG13239: sce|YPR179C yli|YALI0E28204g\n"
     ]
    }
   ],
   "source": [
    "%%bash\n",
    "cd ../../Data/OrthoMCL\n",
    "tail groups.txt"
   ]
  },
  {
   "cell_type": "code",
   "execution_count": null,
   "metadata": {},
   "outputs": [],
   "source": []
  }
 ],
 "metadata": {
  "kernelspec": {
   "display_name": "Python 3",
   "language": "python",
   "name": "python3"
  },
  "language_info": {
   "codemirror_mode": {
    "name": "ipython",
    "version": 3
   },
   "file_extension": ".py",
   "mimetype": "text/x-python",
   "name": "python",
   "nbconvert_exporter": "python",
   "pygments_lexer": "ipython3",
   "version": "3.8.5"
  }
 },
 "nbformat": 4,
 "nbformat_minor": 2
}
